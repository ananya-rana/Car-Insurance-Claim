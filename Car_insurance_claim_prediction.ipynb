{
  "metadata": {
    "kernelspec": {
      "language": "python",
      "display_name": "Python 3",
      "name": "python3"
    },
    "language_info": {
      "name": "python",
      "version": "3.7.12",
      "mimetype": "text/x-python",
      "codemirror_mode": {
        "name": "ipython",
        "version": 3
      },
      "pygments_lexer": "ipython3",
      "nbconvert_exporter": "python",
      "file_extension": ".py"
    },
    "colab": {
      "provenance": []
    }
  },
  "nbformat_minor": 0,
  "nbformat": 4,
  "cells": [
    {
      "cell_type": "code",
      "source": [
        "from google.colab import drive\n",
        "drive.mount('/content/drive')"
      ],
      "metadata": {
        "colab": {
          "base_uri": "https://localhost:8080/"
        },
        "id": "-dpnKOAxrs_K",
        "outputId": "cbde6ca0-c258-4377-fa57-ad93fbdc8b3d"
      },
      "execution_count": 1,
      "outputs": [
        {
          "output_type": "stream",
          "name": "stdout",
          "text": [
            "Mounted at /content/drive\n"
          ]
        }
      ]
    },
    {
      "cell_type": "code",
      "source": [
        "import os\n",
        "os.environ['KAGGLE_CONFIG_DIR'] = \"/content/drive/My Drive/Kaggle\"\n",
        "# /content/drive/My Drive/Kaggle is the path where kaggle.json is present in the Google Drive"
      ],
      "metadata": {
        "id": "qMr8oqh5rzAH"
      },
      "execution_count": 2,
      "outputs": []
    },
    {
      "cell_type": "code",
      "source": [
        "#changing the working directory\n",
        "%cd /content/drive/My Drive/Kaggle"
      ],
      "metadata": {
        "colab": {
          "base_uri": "https://localhost:8080/"
        },
        "id": "n_tx7LAKrz88",
        "outputId": "bebe1aed-149e-4f94-84cd-f3537cbedc10"
      },
      "execution_count": 3,
      "outputs": [
        {
          "output_type": "stream",
          "name": "stdout",
          "text": [
            "/content/drive/My Drive/Kaggle\n"
          ]
        }
      ]
    },
    {
      "cell_type": "code",
      "source": [
        " !kaggle datasets download ifteshanajnin/carinsuranceclaimprediction-classification/code"
      ],
      "metadata": {
        "colab": {
          "base_uri": "https://localhost:8080/"
        },
        "id": "P8eCwE82r1-4",
        "outputId": "451db135-d65b-4fbe-80ee-2327e45d9f05"
      },
      "execution_count": 9,
      "outputs": [
        {
          "output_type": "stream",
          "name": "stdout",
          "text": [
            "carinsuranceclaimprediction-classification.zip: Skipping, found more recently modified local copy (use --force to force download)\n"
          ]
        }
      ]
    },
    {
      "cell_type": "code",
      "source": [
        "!unzip carinsuranceclaimprediction-classification.zip"
      ],
      "metadata": {
        "colab": {
          "base_uri": "https://localhost:8080/"
        },
        "id": "MMz9Szx4sGQJ",
        "outputId": "d51dabc1-a74d-44bc-b6a0-b31354d7bdfc"
      },
      "execution_count": 10,
      "outputs": [
        {
          "output_type": "stream",
          "name": "stdout",
          "text": [
            "Archive:  carinsuranceclaimprediction-classification.zip\n",
            "replace sample_submission.csv? [y]es, [n]o, [A]ll, [N]one, [r]ename: y\n",
            "  inflating: sample_submission.csv   \n",
            "replace test.csv? [y]es, [n]o, [A]ll, [N]one, [r]ename: y\n",
            "  inflating: test.csv                \n",
            "replace train.csv? [y]es, [n]o, [A]ll, [N]one, [r]ename: y\n",
            "  inflating: train.csv               \n"
          ]
        }
      ]
    },
    {
      "cell_type": "code",
      "source": [
        "import numpy as np \n",
        "import pandas as pd \n",
        "import matplotlib.pyplot as plt\n",
        "import seaborn as sns"
      ],
      "metadata": {
        "_uuid": "8f2839f25d086af736a60e9eeb907d3b93b6e0e5",
        "_cell_guid": "b1076dfc-b9ad-4769-8c92-a6c4dae69d19",
        "execution": {
          "iopub.status.busy": "2022-11-18T15:27:47.754905Z",
          "iopub.execute_input": "2022-11-18T15:27:47.755307Z",
          "iopub.status.idle": "2022-11-18T15:27:47.817609Z",
          "shell.execute_reply.started": "2022-11-18T15:27:47.755225Z",
          "shell.execute_reply": "2022-11-18T15:27:47.816541Z"
        },
        "trusted": true,
        "id": "RwB3JPzLeoDt"
      },
      "execution_count": 4,
      "outputs": []
    },
    {
      "cell_type": "code",
      "source": [
        "df = pd.read_csv('/content/drive/MyDrive/Kaggle/car_insurance_train.csv')"
      ],
      "metadata": {
        "execution": {
          "iopub.status.busy": "2022-11-18T15:27:50.016614Z",
          "iopub.execute_input": "2022-11-18T15:27:50.017150Z",
          "iopub.status.idle": "2022-11-18T15:27:50.963987Z",
          "shell.execute_reply.started": "2022-11-18T15:27:50.017097Z",
          "shell.execute_reply": "2022-11-18T15:27:50.962764Z"
        },
        "trusted": true,
        "id": "yaKhG1qpeoDu"
      },
      "execution_count": 5,
      "outputs": []
    },
    {
      "cell_type": "markdown",
      "source": [
        "#About Dataset\n",
        "\n",
        "The Dataset contains information on policyholders having the attributes like policy tenure, age of the car, age of the car owner, the population density of the city, make and model of the car, power, engine type, etc, and the target variable indicating whether the policyholder files a claim in the next 6 months or not.\n"
      ],
      "metadata": {
        "id": "2IRISRKKZwP9"
      }
    },
    {
      "cell_type": "markdown",
      "source": [
        "![inbox_9583913_8de49a1611548cbb48f5b94f27416f46_1.png](data:image/png;base64,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)"
      ],
      "metadata": {
        "id": "76bTplvOaWTx"
      }
    },
    {
      "cell_type": "markdown",
      "source": [
        "![inbox_9583913_4156d37a2440fbfb6d4e0be279b9fcb9_2.png](data:image/png;base64,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)"
      ],
      "metadata": {
        "id": "N6QyRrDwaYWh"
      }
    },
    {
      "cell_type": "markdown",
      "source": [
        "##Perfroming EDA"
      ],
      "metadata": {
        "id": "dSN4LTgXWXzD"
      }
    },
    {
      "cell_type": "code",
      "source": [
        "df.shape"
      ],
      "metadata": {
        "execution": {
          "iopub.status.busy": "2022-11-18T15:27:52.884779Z",
          "iopub.execute_input": "2022-11-18T15:27:52.885533Z",
          "iopub.status.idle": "2022-11-18T15:27:52.894706Z",
          "shell.execute_reply.started": "2022-11-18T15:27:52.885495Z",
          "shell.execute_reply": "2022-11-18T15:27:52.893425Z"
        },
        "trusted": true,
        "id": "WIw4JRLkeoDv",
        "outputId": "bbf39255-9394-4364-83c8-781250a9934e",
        "colab": {
          "base_uri": "https://localhost:8080/"
        }
      },
      "execution_count": 7,
      "outputs": [
        {
          "output_type": "execute_result",
          "data": {
            "text/plain": [
              "(58592, 44)"
            ]
          },
          "metadata": {},
          "execution_count": 7
        }
      ]
    },
    {
      "cell_type": "code",
      "source": [
        "df.head()"
      ],
      "metadata": {
        "execution": {
          "iopub.status.busy": "2022-11-18T15:27:55.495099Z",
          "iopub.execute_input": "2022-11-18T15:27:55.495475Z",
          "iopub.status.idle": "2022-11-18T15:27:55.535395Z",
          "shell.execute_reply.started": "2022-11-18T15:27:55.495443Z",
          "shell.execute_reply": "2022-11-18T15:27:55.534371Z"
        },
        "trusted": true,
        "id": "7qpRj_tEeoDw",
        "outputId": "17f1ed09-ea66-4df6-f9a4-40de5cda9b60",
        "colab": {
          "base_uri": "https://localhost:8080/",
          "height": 299
        }
      },
      "execution_count": 8,
      "outputs": [
        {
          "output_type": "execute_result",
          "data": {
            "text/plain": [
              "  policy_id  policy_tenure  age_of_car  age_of_policyholder area_cluster  \\\n",
              "0   ID00001       0.515874        0.05             0.644231           C1   \n",
              "1   ID00002       0.672619        0.02             0.375000           C2   \n",
              "2   ID00003       0.841110        0.02             0.384615           C3   \n",
              "3   ID00004       0.900277        0.11             0.432692           C4   \n",
              "4   ID00005       0.596403        0.11             0.634615           C5   \n",
              "\n",
              "   population_density  make segment model fuel_type  ... is_brake_assist  \\\n",
              "0                4990     1       A    M1       CNG  ...              No   \n",
              "1               27003     1       A    M1       CNG  ...              No   \n",
              "2                4076     1       A    M1       CNG  ...              No   \n",
              "3               21622     1      C1    M2    Petrol  ...             Yes   \n",
              "4               34738     2       A    M3    Petrol  ...              No   \n",
              "\n",
              "  is_power_door_locks is_central_locking  is_power_steering  \\\n",
              "0                  No                 No                Yes   \n",
              "1                  No                 No                Yes   \n",
              "2                  No                 No                Yes   \n",
              "3                 Yes                Yes                Yes   \n",
              "4                 Yes                Yes                Yes   \n",
              "\n",
              "  is_driver_seat_height_adjustable is_day_night_rear_view_mirror is_ecw  \\\n",
              "0                               No                            No     No   \n",
              "1                               No                            No     No   \n",
              "2                               No                            No     No   \n",
              "3                              Yes                           Yes    Yes   \n",
              "4                               No                           Yes    Yes   \n",
              "\n",
              "  is_speed_alert ncap_rating is_claim  \n",
              "0            Yes           0        0  \n",
              "1            Yes           0        0  \n",
              "2            Yes           0        0  \n",
              "3            Yes           2        0  \n",
              "4            Yes           2        0  \n",
              "\n",
              "[5 rows x 44 columns]"
            ],
            "text/html": [
              "\n",
              "  <div id=\"df-a62a80bf-2657-4207-a02a-d533a6ca3bbf\">\n",
              "    <div class=\"colab-df-container\">\n",
              "      <div>\n",
              "<style scoped>\n",
              "    .dataframe tbody tr th:only-of-type {\n",
              "        vertical-align: middle;\n",
              "    }\n",
              "\n",
              "    .dataframe tbody tr th {\n",
              "        vertical-align: top;\n",
              "    }\n",
              "\n",
              "    .dataframe thead th {\n",
              "        text-align: right;\n",
              "    }\n",
              "</style>\n",
              "<table border=\"1\" class=\"dataframe\">\n",
              "  <thead>\n",
              "    <tr style=\"text-align: right;\">\n",
              "      <th></th>\n",
              "      <th>policy_id</th>\n",
              "      <th>policy_tenure</th>\n",
              "      <th>age_of_car</th>\n",
              "      <th>age_of_policyholder</th>\n",
              "      <th>area_cluster</th>\n",
              "      <th>population_density</th>\n",
              "      <th>make</th>\n",
              "      <th>segment</th>\n",
              "      <th>model</th>\n",
              "      <th>fuel_type</th>\n",
              "      <th>...</th>\n",
              "      <th>is_brake_assist</th>\n",
              "      <th>is_power_door_locks</th>\n",
              "      <th>is_central_locking</th>\n",
              "      <th>is_power_steering</th>\n",
              "      <th>is_driver_seat_height_adjustable</th>\n",
              "      <th>is_day_night_rear_view_mirror</th>\n",
              "      <th>is_ecw</th>\n",
              "      <th>is_speed_alert</th>\n",
              "      <th>ncap_rating</th>\n",
              "      <th>is_claim</th>\n",
              "    </tr>\n",
              "  </thead>\n",
              "  <tbody>\n",
              "    <tr>\n",
              "      <th>0</th>\n",
              "      <td>ID00001</td>\n",
              "      <td>0.515874</td>\n",
              "      <td>0.05</td>\n",
              "      <td>0.644231</td>\n",
              "      <td>C1</td>\n",
              "      <td>4990</td>\n",
              "      <td>1</td>\n",
              "      <td>A</td>\n",
              "      <td>M1</td>\n",
              "      <td>CNG</td>\n",
              "      <td>...</td>\n",
              "      <td>No</td>\n",
              "      <td>No</td>\n",
              "      <td>No</td>\n",
              "      <td>Yes</td>\n",
              "      <td>No</td>\n",
              "      <td>No</td>\n",
              "      <td>No</td>\n",
              "      <td>Yes</td>\n",
              "      <td>0</td>\n",
              "      <td>0</td>\n",
              "    </tr>\n",
              "    <tr>\n",
              "      <th>1</th>\n",
              "      <td>ID00002</td>\n",
              "      <td>0.672619</td>\n",
              "      <td>0.02</td>\n",
              "      <td>0.375000</td>\n",
              "      <td>C2</td>\n",
              "      <td>27003</td>\n",
              "      <td>1</td>\n",
              "      <td>A</td>\n",
              "      <td>M1</td>\n",
              "      <td>CNG</td>\n",
              "      <td>...</td>\n",
              "      <td>No</td>\n",
              "      <td>No</td>\n",
              "      <td>No</td>\n",
              "      <td>Yes</td>\n",
              "      <td>No</td>\n",
              "      <td>No</td>\n",
              "      <td>No</td>\n",
              "      <td>Yes</td>\n",
              "      <td>0</td>\n",
              "      <td>0</td>\n",
              "    </tr>\n",
              "    <tr>\n",
              "      <th>2</th>\n",
              "      <td>ID00003</td>\n",
              "      <td>0.841110</td>\n",
              "      <td>0.02</td>\n",
              "      <td>0.384615</td>\n",
              "      <td>C3</td>\n",
              "      <td>4076</td>\n",
              "      <td>1</td>\n",
              "      <td>A</td>\n",
              "      <td>M1</td>\n",
              "      <td>CNG</td>\n",
              "      <td>...</td>\n",
              "      <td>No</td>\n",
              "      <td>No</td>\n",
              "      <td>No</td>\n",
              "      <td>Yes</td>\n",
              "      <td>No</td>\n",
              "      <td>No</td>\n",
              "      <td>No</td>\n",
              "      <td>Yes</td>\n",
              "      <td>0</td>\n",
              "      <td>0</td>\n",
              "    </tr>\n",
              "    <tr>\n",
              "      <th>3</th>\n",
              "      <td>ID00004</td>\n",
              "      <td>0.900277</td>\n",
              "      <td>0.11</td>\n",
              "      <td>0.432692</td>\n",
              "      <td>C4</td>\n",
              "      <td>21622</td>\n",
              "      <td>1</td>\n",
              "      <td>C1</td>\n",
              "      <td>M2</td>\n",
              "      <td>Petrol</td>\n",
              "      <td>...</td>\n",
              "      <td>Yes</td>\n",
              "      <td>Yes</td>\n",
              "      <td>Yes</td>\n",
              "      <td>Yes</td>\n",
              "      <td>Yes</td>\n",
              "      <td>Yes</td>\n",
              "      <td>Yes</td>\n",
              "      <td>Yes</td>\n",
              "      <td>2</td>\n",
              "      <td>0</td>\n",
              "    </tr>\n",
              "    <tr>\n",
              "      <th>4</th>\n",
              "      <td>ID00005</td>\n",
              "      <td>0.596403</td>\n",
              "      <td>0.11</td>\n",
              "      <td>0.634615</td>\n",
              "      <td>C5</td>\n",
              "      <td>34738</td>\n",
              "      <td>2</td>\n",
              "      <td>A</td>\n",
              "      <td>M3</td>\n",
              "      <td>Petrol</td>\n",
              "      <td>...</td>\n",
              "      <td>No</td>\n",
              "      <td>Yes</td>\n",
              "      <td>Yes</td>\n",
              "      <td>Yes</td>\n",
              "      <td>No</td>\n",
              "      <td>Yes</td>\n",
              "      <td>Yes</td>\n",
              "      <td>Yes</td>\n",
              "      <td>2</td>\n",
              "      <td>0</td>\n",
              "    </tr>\n",
              "  </tbody>\n",
              "</table>\n",
              "<p>5 rows × 44 columns</p>\n",
              "</div>\n",
              "      <button class=\"colab-df-convert\" onclick=\"convertToInteractive('df-a62a80bf-2657-4207-a02a-d533a6ca3bbf')\"\n",
              "              title=\"Convert this dataframe to an interactive table.\"\n",
              "              style=\"display:none;\">\n",
              "        \n",
              "  <svg xmlns=\"http://www.w3.org/2000/svg\" height=\"24px\"viewBox=\"0 0 24 24\"\n",
              "       width=\"24px\">\n",
              "    <path d=\"M0 0h24v24H0V0z\" fill=\"none\"/>\n",
              "    <path d=\"M18.56 5.44l.94 2.06.94-2.06 2.06-.94-2.06-.94-.94-2.06-.94 2.06-2.06.94zm-11 1L8.5 8.5l.94-2.06 2.06-.94-2.06-.94L8.5 2.5l-.94 2.06-2.06.94zm10 10l.94 2.06.94-2.06 2.06-.94-2.06-.94-.94-2.06-.94 2.06-2.06.94z\"/><path d=\"M17.41 7.96l-1.37-1.37c-.4-.4-.92-.59-1.43-.59-.52 0-1.04.2-1.43.59L10.3 9.45l-7.72 7.72c-.78.78-.78 2.05 0 2.83L4 21.41c.39.39.9.59 1.41.59.51 0 1.02-.2 1.41-.59l7.78-7.78 2.81-2.81c.8-.78.8-2.07 0-2.86zM5.41 20L4 18.59l7.72-7.72 1.47 1.35L5.41 20z\"/>\n",
              "  </svg>\n",
              "      </button>\n",
              "      \n",
              "  <style>\n",
              "    .colab-df-container {\n",
              "      display:flex;\n",
              "      flex-wrap:wrap;\n",
              "      gap: 12px;\n",
              "    }\n",
              "\n",
              "    .colab-df-convert {\n",
              "      background-color: #E8F0FE;\n",
              "      border: none;\n",
              "      border-radius: 50%;\n",
              "      cursor: pointer;\n",
              "      display: none;\n",
              "      fill: #1967D2;\n",
              "      height: 32px;\n",
              "      padding: 0 0 0 0;\n",
              "      width: 32px;\n",
              "    }\n",
              "\n",
              "    .colab-df-convert:hover {\n",
              "      background-color: #E2EBFA;\n",
              "      box-shadow: 0px 1px 2px rgba(60, 64, 67, 0.3), 0px 1px 3px 1px rgba(60, 64, 67, 0.15);\n",
              "      fill: #174EA6;\n",
              "    }\n",
              "\n",
              "    [theme=dark] .colab-df-convert {\n",
              "      background-color: #3B4455;\n",
              "      fill: #D2E3FC;\n",
              "    }\n",
              "\n",
              "    [theme=dark] .colab-df-convert:hover {\n",
              "      background-color: #434B5C;\n",
              "      box-shadow: 0px 1px 3px 1px rgba(0, 0, 0, 0.15);\n",
              "      filter: drop-shadow(0px 1px 2px rgba(0, 0, 0, 0.3));\n",
              "      fill: #FFFFFF;\n",
              "    }\n",
              "  </style>\n",
              "\n",
              "      <script>\n",
              "        const buttonEl =\n",
              "          document.querySelector('#df-a62a80bf-2657-4207-a02a-d533a6ca3bbf button.colab-df-convert');\n",
              "        buttonEl.style.display =\n",
              "          google.colab.kernel.accessAllowed ? 'block' : 'none';\n",
              "\n",
              "        async function convertToInteractive(key) {\n",
              "          const element = document.querySelector('#df-a62a80bf-2657-4207-a02a-d533a6ca3bbf');\n",
              "          const dataTable =\n",
              "            await google.colab.kernel.invokeFunction('convertToInteractive',\n",
              "                                                     [key], {});\n",
              "          if (!dataTable) return;\n",
              "\n",
              "          const docLinkHtml = 'Like what you see? Visit the ' +\n",
              "            '<a target=\"_blank\" href=https://colab.research.google.com/notebooks/data_table.ipynb>data table notebook</a>'\n",
              "            + ' to learn more about interactive tables.';\n",
              "          element.innerHTML = '';\n",
              "          dataTable['output_type'] = 'display_data';\n",
              "          await google.colab.output.renderOutput(dataTable, element);\n",
              "          const docLink = document.createElement('div');\n",
              "          docLink.innerHTML = docLinkHtml;\n",
              "          element.appendChild(docLink);\n",
              "        }\n",
              "      </script>\n",
              "    </div>\n",
              "  </div>\n",
              "  "
            ]
          },
          "metadata": {},
          "execution_count": 8
        }
      ]
    },
    {
      "cell_type": "code",
      "source": [
        "df.set_index('policy_id',inplace=True)"
      ],
      "metadata": {
        "execution": {
          "iopub.status.busy": "2022-11-18T15:27:57.084617Z",
          "iopub.execute_input": "2022-11-18T15:27:57.084983Z",
          "iopub.status.idle": "2022-11-18T15:27:57.099713Z",
          "shell.execute_reply.started": "2022-11-18T15:27:57.084946Z",
          "shell.execute_reply": "2022-11-18T15:27:57.098603Z"
        },
        "trusted": true,
        "id": "UcKBmeH3eoDw"
      },
      "execution_count": 9,
      "outputs": []
    },
    {
      "cell_type": "code",
      "source": [
        "df.columns"
      ],
      "metadata": {
        "execution": {
          "iopub.status.busy": "2022-11-18T15:27:58.009222Z",
          "iopub.execute_input": "2022-11-18T15:27:58.010222Z",
          "iopub.status.idle": "2022-11-18T15:27:58.017305Z",
          "shell.execute_reply.started": "2022-11-18T15:27:58.010167Z",
          "shell.execute_reply": "2022-11-18T15:27:58.016359Z"
        },
        "trusted": true,
        "id": "jGMdZVPTeoDw",
        "outputId": "6c0912fd-0d0c-4922-c0cc-d9520beb5cfe",
        "colab": {
          "base_uri": "https://localhost:8080/"
        }
      },
      "execution_count": 10,
      "outputs": [
        {
          "output_type": "execute_result",
          "data": {
            "text/plain": [
              "Index(['policy_tenure', 'age_of_car', 'age_of_policyholder', 'area_cluster',\n",
              "       'population_density', 'make', 'segment', 'model', 'fuel_type',\n",
              "       'max_torque', 'max_power', 'engine_type', 'airbags', 'is_esc',\n",
              "       'is_adjustable_steering', 'is_tpms', 'is_parking_sensors',\n",
              "       'is_parking_camera', 'rear_brakes_type', 'displacement', 'cylinder',\n",
              "       'transmission_type', 'gear_box', 'steering_type', 'turning_radius',\n",
              "       'length', 'width', 'height', 'gross_weight', 'is_front_fog_lights',\n",
              "       'is_rear_window_wiper', 'is_rear_window_washer',\n",
              "       'is_rear_window_defogger', 'is_brake_assist', 'is_power_door_locks',\n",
              "       'is_central_locking', 'is_power_steering',\n",
              "       'is_driver_seat_height_adjustable', 'is_day_night_rear_view_mirror',\n",
              "       'is_ecw', 'is_speed_alert', 'ncap_rating', 'is_claim'],\n",
              "      dtype='object')"
            ]
          },
          "metadata": {},
          "execution_count": 10
        }
      ]
    },
    {
      "cell_type": "code",
      "source": [
        "len(df.columns)"
      ],
      "metadata": {
        "colab": {
          "base_uri": "https://localhost:8080/"
        },
        "id": "0WTAlcokAbs4",
        "outputId": "14642949-1f26-4690-9e7d-045e36ac7935"
      },
      "execution_count": 11,
      "outputs": [
        {
          "output_type": "execute_result",
          "data": {
            "text/plain": [
              "43"
            ]
          },
          "metadata": {},
          "execution_count": 11
        }
      ]
    },
    {
      "cell_type": "markdown",
      "source": [
        "There is a total of 42 features plus 1 target variable"
      ],
      "metadata": {
        "id": "fY5rKlGWAd3W"
      }
    },
    {
      "cell_type": "code",
      "source": [
        "numerical_features= df.select_dtypes(include=[np.number])\n",
        "categorical_features = df.select_dtypes(exclude=[np.number])"
      ],
      "metadata": {
        "execution": {
          "iopub.status.busy": "2022-11-18T15:27:58.740049Z",
          "iopub.execute_input": "2022-11-18T15:27:58.740482Z",
          "iopub.status.idle": "2022-11-18T15:27:58.821971Z",
          "shell.execute_reply.started": "2022-11-18T15:27:58.740431Z",
          "shell.execute_reply": "2022-11-18T15:27:58.821044Z"
        },
        "trusted": true,
        "id": "L-dE1sQxeoDx"
      },
      "execution_count": 12,
      "outputs": []
    },
    {
      "cell_type": "code",
      "source": [
        "numerical_features.columns"
      ],
      "metadata": {
        "colab": {
          "base_uri": "https://localhost:8080/"
        },
        "id": "AA7d9tPWWfNU",
        "outputId": "0877f209-a7b6-452f-cc3d-42b2ea15fc0f"
      },
      "execution_count": 17,
      "outputs": [
        {
          "output_type": "execute_result",
          "data": {
            "text/plain": [
              "Index(['policy_tenure', 'age_of_car', 'age_of_policyholder',\n",
              "       'population_density', 'make', 'airbags', 'displacement', 'cylinder',\n",
              "       'gear_box', 'turning_radius', 'length', 'width', 'height',\n",
              "       'gross_weight', 'ncap_rating', 'is_claim'],\n",
              "      dtype='object')"
            ]
          },
          "metadata": {},
          "execution_count": 17
        }
      ]
    },
    {
      "cell_type": "code",
      "source": [
        "len(numerical_features.columns)"
      ],
      "metadata": {
        "execution": {
          "iopub.status.busy": "2022-11-18T15:27:59.450342Z",
          "iopub.execute_input": "2022-11-18T15:27:59.451110Z",
          "iopub.status.idle": "2022-11-18T15:27:59.457278Z",
          "shell.execute_reply.started": "2022-11-18T15:27:59.451071Z",
          "shell.execute_reply": "2022-11-18T15:27:59.456349Z"
        },
        "trusted": true,
        "id": "YpVW_9g6eoDx",
        "outputId": "31117369-3eeb-4b3a-c942-aadfa8e7fdfa",
        "colab": {
          "base_uri": "https://localhost:8080/"
        }
      },
      "execution_count": 13,
      "outputs": [
        {
          "output_type": "execute_result",
          "data": {
            "text/plain": [
              "16"
            ]
          },
          "metadata": {},
          "execution_count": 13
        }
      ]
    },
    {
      "cell_type": "code",
      "source": [
        "categorical_features.columns"
      ],
      "metadata": {
        "execution": {
          "iopub.status.busy": "2022-11-18T15:28:00.257349Z",
          "iopub.execute_input": "2022-11-18T15:28:00.258298Z",
          "iopub.status.idle": "2022-11-18T15:28:00.269617Z",
          "shell.execute_reply.started": "2022-11-18T15:28:00.258257Z",
          "shell.execute_reply": "2022-11-18T15:28:00.268633Z"
        },
        "trusted": true,
        "id": "Gi_so2s-eoDy",
        "outputId": "e3aeab12-755a-408a-d7a0-1842b8c9449c",
        "colab": {
          "base_uri": "https://localhost:8080/"
        }
      },
      "execution_count": 14,
      "outputs": [
        {
          "output_type": "execute_result",
          "data": {
            "text/plain": [
              "Index(['area_cluster', 'segment', 'model', 'fuel_type', 'max_torque',\n",
              "       'max_power', 'engine_type', 'is_esc', 'is_adjustable_steering',\n",
              "       'is_tpms', 'is_parking_sensors', 'is_parking_camera',\n",
              "       'rear_brakes_type', 'transmission_type', 'steering_type',\n",
              "       'is_front_fog_lights', 'is_rear_window_wiper', 'is_rear_window_washer',\n",
              "       'is_rear_window_defogger', 'is_brake_assist', 'is_power_door_locks',\n",
              "       'is_central_locking', 'is_power_steering',\n",
              "       'is_driver_seat_height_adjustable', 'is_day_night_rear_view_mirror',\n",
              "       'is_ecw', 'is_speed_alert'],\n",
              "      dtype='object')"
            ]
          },
          "metadata": {},
          "execution_count": 14
        }
      ]
    },
    {
      "cell_type": "code",
      "source": [
        "len(categorical_features.columns)"
      ],
      "metadata": {
        "colab": {
          "base_uri": "https://localhost:8080/"
        },
        "id": "Mr46HRZ6AXEk",
        "outputId": "f74634cd-2a52-4a09-f39d-4992ccc2223a"
      },
      "execution_count": 15,
      "outputs": [
        {
          "output_type": "execute_result",
          "data": {
            "text/plain": [
              "27"
            ]
          },
          "metadata": {},
          "execution_count": 15
        }
      ]
    },
    {
      "cell_type": "code",
      "source": [
        "df.nunique()"
      ],
      "metadata": {
        "execution": {
          "iopub.status.busy": "2022-11-18T15:28:00.796286Z",
          "iopub.execute_input": "2022-11-18T15:28:00.796684Z",
          "iopub.status.idle": "2022-11-18T15:28:00.921101Z",
          "shell.execute_reply.started": "2022-11-18T15:28:00.796653Z",
          "shell.execute_reply": "2022-11-18T15:28:00.919924Z"
        },
        "trusted": true,
        "id": "E474EJfTeoDy",
        "outputId": "85d1fa6c-f0cb-4a2a-ce71-0bd39662239f",
        "colab": {
          "base_uri": "https://localhost:8080/"
        }
      },
      "execution_count": 18,
      "outputs": [
        {
          "output_type": "execute_result",
          "data": {
            "text/plain": [
              "policy_tenure                       58592\n",
              "age_of_car                             49\n",
              "age_of_policyholder                    75\n",
              "area_cluster                           22\n",
              "population_density                     22\n",
              "make                                    5\n",
              "segment                                 6\n",
              "model                                  11\n",
              "fuel_type                               3\n",
              "max_torque                              9\n",
              "max_power                               9\n",
              "engine_type                            11\n",
              "airbags                                 3\n",
              "is_esc                                  2\n",
              "is_adjustable_steering                  2\n",
              "is_tpms                                 2\n",
              "is_parking_sensors                      2\n",
              "is_parking_camera                       2\n",
              "rear_brakes_type                        2\n",
              "displacement                            9\n",
              "cylinder                                2\n",
              "transmission_type                       2\n",
              "gear_box                                2\n",
              "steering_type                           3\n",
              "turning_radius                          9\n",
              "length                                  9\n",
              "width                                  10\n",
              "height                                 11\n",
              "gross_weight                           10\n",
              "is_front_fog_lights                     2\n",
              "is_rear_window_wiper                    2\n",
              "is_rear_window_washer                   2\n",
              "is_rear_window_defogger                 2\n",
              "is_brake_assist                         2\n",
              "is_power_door_locks                     2\n",
              "is_central_locking                      2\n",
              "is_power_steering                       2\n",
              "is_driver_seat_height_adjustable        2\n",
              "is_day_night_rear_view_mirror           2\n",
              "is_ecw                                  2\n",
              "is_speed_alert                          2\n",
              "ncap_rating                             5\n",
              "is_claim                                2\n",
              "dtype: int64"
            ]
          },
          "metadata": {},
          "execution_count": 18
        }
      ]
    },
    {
      "cell_type": "code",
      "source": [
        "df.isna().sum()"
      ],
      "metadata": {
        "execution": {
          "iopub.status.busy": "2022-11-18T15:28:01.320210Z",
          "iopub.execute_input": "2022-11-18T15:28:01.320694Z",
          "iopub.status.idle": "2022-11-18T15:28:01.441358Z",
          "shell.execute_reply.started": "2022-11-18T15:28:01.320654Z",
          "shell.execute_reply": "2022-11-18T15:28:01.440417Z"
        },
        "trusted": true,
        "id": "H6IIaC51eoDy",
        "outputId": "71b68b46-7f52-456d-dc0f-16e5f15e9515",
        "colab": {
          "base_uri": "https://localhost:8080/"
        }
      },
      "execution_count": 19,
      "outputs": [
        {
          "output_type": "execute_result",
          "data": {
            "text/plain": [
              "policy_tenure                       0\n",
              "age_of_car                          0\n",
              "age_of_policyholder                 0\n",
              "area_cluster                        0\n",
              "population_density                  0\n",
              "make                                0\n",
              "segment                             0\n",
              "model                               0\n",
              "fuel_type                           0\n",
              "max_torque                          0\n",
              "max_power                           0\n",
              "engine_type                         0\n",
              "airbags                             0\n",
              "is_esc                              0\n",
              "is_adjustable_steering              0\n",
              "is_tpms                             0\n",
              "is_parking_sensors                  0\n",
              "is_parking_camera                   0\n",
              "rear_brakes_type                    0\n",
              "displacement                        0\n",
              "cylinder                            0\n",
              "transmission_type                   0\n",
              "gear_box                            0\n",
              "steering_type                       0\n",
              "turning_radius                      0\n",
              "length                              0\n",
              "width                               0\n",
              "height                              0\n",
              "gross_weight                        0\n",
              "is_front_fog_lights                 0\n",
              "is_rear_window_wiper                0\n",
              "is_rear_window_washer               0\n",
              "is_rear_window_defogger             0\n",
              "is_brake_assist                     0\n",
              "is_power_door_locks                 0\n",
              "is_central_locking                  0\n",
              "is_power_steering                   0\n",
              "is_driver_seat_height_adjustable    0\n",
              "is_day_night_rear_view_mirror       0\n",
              "is_ecw                              0\n",
              "is_speed_alert                      0\n",
              "ncap_rating                         0\n",
              "is_claim                            0\n",
              "dtype: int64"
            ]
          },
          "metadata": {},
          "execution_count": 19
        }
      ]
    },
    {
      "cell_type": "markdown",
      "source": [
        "Pheww!! No missing values"
      ],
      "metadata": {
        "id": "H_oVf_vpApKX"
      }
    },
    {
      "cell_type": "code",
      "source": [
        "discrete_features = [feature for feature in numerical_features if len(df[feature].unique())<20]"
      ],
      "metadata": {
        "execution": {
          "iopub.status.busy": "2022-11-18T15:28:02.535522Z",
          "iopub.execute_input": "2022-11-18T15:28:02.535960Z",
          "iopub.status.idle": "2022-11-18T15:28:02.554419Z",
          "shell.execute_reply.started": "2022-11-18T15:28:02.535922Z",
          "shell.execute_reply": "2022-11-18T15:28:02.553567Z"
        },
        "trusted": true,
        "id": "98PqSfTceoDz"
      },
      "execution_count": 20,
      "outputs": []
    },
    {
      "cell_type": "code",
      "source": [
        "discrete_features"
      ],
      "metadata": {
        "execution": {
          "iopub.status.busy": "2022-11-18T15:28:03.889772Z",
          "iopub.execute_input": "2022-11-18T15:28:03.890554Z",
          "iopub.status.idle": "2022-11-18T15:28:03.897025Z",
          "shell.execute_reply.started": "2022-11-18T15:28:03.890507Z",
          "shell.execute_reply": "2022-11-18T15:28:03.896060Z"
        },
        "trusted": true,
        "id": "0KYDa2ZNeoDz",
        "outputId": "e3cbb9dd-c976-4fe5-9504-9cda0830f524",
        "colab": {
          "base_uri": "https://localhost:8080/"
        }
      },
      "execution_count": 21,
      "outputs": [
        {
          "output_type": "execute_result",
          "data": {
            "text/plain": [
              "['make',\n",
              " 'airbags',\n",
              " 'displacement',\n",
              " 'cylinder',\n",
              " 'gear_box',\n",
              " 'turning_radius',\n",
              " 'length',\n",
              " 'width',\n",
              " 'height',\n",
              " 'gross_weight',\n",
              " 'ncap_rating',\n",
              " 'is_claim']"
            ]
          },
          "metadata": {},
          "execution_count": 21
        }
      ]
    },
    {
      "cell_type": "code",
      "source": [
        "len(discrete_features)"
      ],
      "metadata": {
        "colab": {
          "base_uri": "https://localhost:8080/"
        },
        "id": "asK0usZoAvsq",
        "outputId": "badda96b-45ef-4d88-c8ba-5b5d599b8c37"
      },
      "execution_count": 22,
      "outputs": [
        {
          "output_type": "execute_result",
          "data": {
            "text/plain": [
              "12"
            ]
          },
          "metadata": {},
          "execution_count": 22
        }
      ]
    },
    {
      "cell_type": "code",
      "source": [
        "continuous_features = [feature for feature in numerical_features if feature not in discrete_features]"
      ],
      "metadata": {
        "execution": {
          "iopub.status.busy": "2022-11-18T15:28:07.082687Z",
          "iopub.execute_input": "2022-11-18T15:28:07.083058Z",
          "iopub.status.idle": "2022-11-18T15:28:07.087841Z",
          "shell.execute_reply.started": "2022-11-18T15:28:07.083027Z",
          "shell.execute_reply": "2022-11-18T15:28:07.086843Z"
        },
        "trusted": true,
        "id": "Wz3Q5g9leoDz"
      },
      "execution_count": 23,
      "outputs": []
    },
    {
      "cell_type": "code",
      "source": [
        "continuous_features"
      ],
      "metadata": {
        "execution": {
          "iopub.status.busy": "2022-11-18T15:28:08.782904Z",
          "iopub.execute_input": "2022-11-18T15:28:08.783285Z",
          "iopub.status.idle": "2022-11-18T15:28:08.791469Z",
          "shell.execute_reply.started": "2022-11-18T15:28:08.783251Z",
          "shell.execute_reply": "2022-11-18T15:28:08.788792Z"
        },
        "trusted": true,
        "id": "EBmETftmeoDz",
        "outputId": "611e2069-cf62-4453-a64c-db0c41f09d28",
        "colab": {
          "base_uri": "https://localhost:8080/"
        }
      },
      "execution_count": 24,
      "outputs": [
        {
          "output_type": "execute_result",
          "data": {
            "text/plain": [
              "['policy_tenure', 'age_of_car', 'age_of_policyholder', 'population_density']"
            ]
          },
          "metadata": {},
          "execution_count": 24
        }
      ]
    },
    {
      "cell_type": "code",
      "source": [
        "len(continuous_features)"
      ],
      "metadata": {
        "colab": {
          "base_uri": "https://localhost:8080/"
        },
        "id": "4tPdnLJZA0PF",
        "outputId": "30f6abce-98ee-49e6-dde6-156092571f8c"
      },
      "execution_count": 25,
      "outputs": [
        {
          "output_type": "execute_result",
          "data": {
            "text/plain": [
              "4"
            ]
          },
          "metadata": {},
          "execution_count": 25
        }
      ]
    },
    {
      "cell_type": "code",
      "source": [
        "for feature in continuous_features:\n",
        "    data=df.copy()\n",
        "    sns.histplot(data[feature], bins=50, kde= True)\n",
        "    plt.xlabel(feature)\n",
        "    plt.ylabel(\"Count\")\n",
        "    plt.title(feature)\n",
        "    plt.show()"
      ],
      "metadata": {
        "execution": {
          "iopub.status.busy": "2022-11-18T15:28:09.805861Z",
          "iopub.execute_input": "2022-11-18T15:28:09.806237Z",
          "iopub.status.idle": "2022-11-18T15:28:12.427660Z",
          "shell.execute_reply.started": "2022-11-18T15:28:09.806205Z",
          "shell.execute_reply": "2022-11-18T15:28:12.426747Z"
        },
        "trusted": true,
        "id": "7pEZtJrFeoDz",
        "outputId": "b32a69e8-4827-48af-9a53-c0c9168f5510",
        "colab": {
          "base_uri": "https://localhost:8080/",
          "height": 1000
        }
      },
      "execution_count": 26,
      "outputs": [
        {
          "output_type": "display_data",
          "data": {
            "text/plain": [
              "<Figure size 432x288 with 1 Axes>"
            ],
            "image/png": "[encoded data removed]"
          },
          "metadata": {
            "needs_background": "light"
          }
        },
        {
          "output_type": "display_data",
          "data": {
            "text/plain": [
              "<Figure size 432x288 with 1 Axes>"
            ],
            "image/png": "[encoded data removed]"
          },
          "metadata": {
            "needs_background": "light"
          }
        },
        {
          "output_type": "display_data",
          "data": {
            "text/plain": [
              "<Figure size 432x288 with 1 Axes>"
            ],
            "image/png": "[encoded data removed]"
          },
          "metadata": {
            "needs_background": "light"
          }
        },
        {
          "output_type": "display_data",
          "data": {
            "text/plain": [
              "<Figure size 432x288 with 1 Axes>"
            ],
            "image/png": "[encoded data removed]"
          },
          "metadata": {
            "needs_background": "light"
          }
        }
      ]
    },
    {
      "cell_type": "code",
      "source": [
        "for feature in continuous_features:\n",
        "    data=df.copy()\n",
        "    sns.boxplot(data=data,y=feature,x=df['is_claim'], hue=df['is_claim'])\n",
        "    plt.xlabel(feature)\n",
        "    plt.ylabel(\"Count\")\n",
        "    plt.title(feature)\n",
        "    plt.show()"
      ],
      "metadata": {
        "execution": {
          "iopub.status.busy": "2022-11-18T15:28:12.432209Z",
          "iopub.execute_input": "2022-11-18T15:28:12.434375Z",
          "iopub.status.idle": "2022-11-18T15:28:13.800313Z",
          "shell.execute_reply.started": "2022-11-18T15:28:12.434338Z",
          "shell.execute_reply": "2022-11-18T15:28:13.799302Z"
        },
        "trusted": true,
        "id": "SoCUMlNgeoD0",
        "outputId": "e18547eb-a2fb-448b-f94a-0adb2af33af1",
        "colab": {
          "base_uri": "https://localhost:8080/",
          "height": 1000
        }
      },
      "execution_count": 27,
      "outputs": [
        {
          "output_type": "display_data",
          "data": {
            "text/plain": [
              "<Figure size 432x288 with 1 Axes>"
            ],
            "image/png": "[encoded data removed]"
          },
          "metadata": {
            "needs_background": "light"
          }
        },
        {
          "output_type": "display_data",
          "data": {
            "text/plain": [
              "<Figure size 432x288 with 1 Axes>"
            ],
            "image/png": "[encoded data removed]"
          },
          "metadata": {
            "needs_background": "light"
          }
        },
        {
          "output_type": "display_data",
          "data": {
            "text/plain": [
              "<Figure size 432x288 with 1 Axes>"
            ],
            "image/png": "[encoded data removed]"
          },
          "metadata": {
            "needs_background": "light"
          }
        },
        {
          "output_type": "display_data",
          "data": {
            "text/plain": [
              "<Figure size 432x288 with 1 Axes>"
            ],
            "image/png": "[encoded data removed]"
          },
          "metadata": {
            "needs_background": "light"
          }
        }
      ]
    },
    {
      "cell_type": "code",
      "source": [
        "for feature in discrete_features:\n",
        "    sns.countplot(x=df[feature], hue=df['is_claim'])\n",
        "    plt.xlabel(feature)\n",
        "    plt.ylabel('Target')\n",
        "    plt.title(feature)\n",
        "    plt.show()"
      ],
      "metadata": {
        "execution": {
          "iopub.status.busy": "2022-11-18T15:28:13.802459Z",
          "iopub.execute_input": "2022-11-18T15:28:13.802858Z",
          "iopub.status.idle": "2022-11-18T15:28:17.050447Z",
          "shell.execute_reply.started": "2022-11-18T15:28:13.802819Z",
          "shell.execute_reply": "2022-11-18T15:28:17.049467Z"
        },
        "trusted": true,
        "id": "x56sOz8veoD0",
        "outputId": "03c23a7b-d26c-45f3-e22c-0125c73db275",
        "colab": {
          "base_uri": "https://localhost:8080/",
          "height": 1000
        }
      },
      "execution_count": 28,
      "outputs": [
        {
          "output_type": "display_data",
          "data": {
            "text/plain": [
              "<Figure size 432x288 with 1 Axes>"
            ],
            "image/png": "[encoded data removed]"
          },
          "metadata": {
            "needs_background": "light"
          }
        },
        {
          "output_type": "display_data",
          "data": {
            "text/plain": [
              "<Figure size 432x288 with 1 Axes>"
            ],
            "image/png": "[encoded data removed]"
          },
          "metadata": {
            "needs_background": "light"
          }
        },
        {
          "output_type": "display_data",
          "data": {
            "text/plain": [
              "<Figure size 432x288 with 1 Axes>"
            ],
            "image/png": "[encoded data removed]"
          },
          "metadata": {
            "needs_background": "light"
          }
        },
        {
          "output_type": "display_data",
          "data": {
            "text/plain": [
              "<Figure size 432x288 with 1 Axes>"
            ],
            "image/png": "[encoded data removed]"
          },
          "metadata": {
            "needs_background": "light"
          }
        },
        {
          "output_type": "display_data",
          "data": {
            "text/plain": [
              "<Figure size 432x288 with 1 Axes>"
            ],
            "image/png": "[encoded data removed]"
          },
          "metadata": {
            "needs_background": "light"
          }
        },
        {
          "output_type": "display_data",
          "data": {
            "text/plain": [
              "<Figure size 432x288 with 1 Axes>"
            ],
            "image/png": "[encoded data removed]"
          },
          "metadata": {
            "needs_background": "light"
          }
        },
        {
          "output_type": "display_data",
          "data": {
            "text/plain": [
              "<Figure size 432x288 with 1 Axes>"
            ],
            "image/png": "[encoded data removed]"
          },
          "metadata": {
            "needs_background": "light"
          }
        },
        {
          "output_type": "display_data",
          "data": {
            "text/plain": [
              "<Figure size 432x288 with 1 Axes>"
            ],
            "image/png": "[encoded data removed]"
          },
          "metadata": {
            "needs_background": "light"
          }
        },
        {
          "output_type": "display_data",
          "data": {
            "text/plain": [
              "<Figure size 432x288 with 1 Axes>"
            ],
            "image/png": "[encoded data removed]"
          },
          "metadata": {
            "needs_background": "light"
          }
        },
        {
          "output_type": "display_data",
          "data": {
            "text/plain": [
              "<Figure size 432x288 with 1 Axes>"
            ],
            "image/png": "[encoded data removed]"
          },
          "metadata": {
            "needs_background": "light"
          }
        },
        {
          "output_type": "display_data",
          "data": {
            "text/plain": [
              "<Figure size 432x288 with 1 Axes>"
            ],
            "image/png": "[encoded data removed]"
          },
          "metadata": {
            "needs_background": "light"
          }
        },
        {
          "output_type": "display_data",
          "data": {
            "text/plain": [
              "<Figure size 432x288 with 1 Axes>"
            ],
            "image/png": "[encoded data removed]"
          },
          "metadata": {
            "needs_background": "light"
          }
        }
      ]
    },
    {
      "cell_type": "code",
      "source": [
        "df['is_claim'].value_counts()"
      ],
      "metadata": {
        "execution": {
          "iopub.status.busy": "2022-11-18T15:28:17.052534Z",
          "iopub.execute_input": "2022-11-18T15:28:17.052900Z",
          "iopub.status.idle": "2022-11-18T15:28:17.062426Z",
          "shell.execute_reply.started": "2022-11-18T15:28:17.052864Z",
          "shell.execute_reply": "2022-11-18T15:28:17.060730Z"
        },
        "trusted": true,
        "id": "XBMKQ8xBeoD0",
        "outputId": "5d2e86d1-a2b2-4385-b548-9abf22da652e",
        "colab": {
          "base_uri": "https://localhost:8080/"
        }
      },
      "execution_count": 29,
      "outputs": [
        {
          "output_type": "execute_result",
          "data": {
            "text/plain": [
              "0    54844\n",
              "1     3748\n",
              "Name: is_claim, dtype: int64"
            ]
          },
          "metadata": {},
          "execution_count": 29
        }
      ]
    },
    {
      "cell_type": "markdown",
      "source": [
        "As we can see, not only from value counts but also from each individual plots, the dataset is severely imbalanced. \n",
        "\n",
        "With such a high number of categorical features, which ultimately will be one-hot encoded, it will be difficult to deal with the high dimensional dataset. <br>"
      ],
      "metadata": {
        "id": "ja6LzygCBfV8"
      }
    },
    {
      "cell_type": "markdown",
      "source": [
        "Ways to treat imbalanced dataset include-\n",
        "\n",
        "1. Undersampling of majority class\n",
        "2. Oversampling of minority class by simply duplicating examples from the minority class in the training dataset prior to fitting a model.\n",
        "3. Oversampling by SMOTE technique by creating synthetic examples using KNN\n",
        "\n",
        "I will use SMOTE and its types from imblearn library to make a balanced datasets. <br> But first lets have a look at the correlation between variables."
      ],
      "metadata": {
        "id": "W49eXGnxeoD0"
      }
    },
    {
      "cell_type": "code",
      "source": [
        "df.corr()"
      ],
      "metadata": {
        "execution": {
          "iopub.status.busy": "2022-11-18T15:28:19.306966Z",
          "iopub.execute_input": "2022-11-18T15:28:19.307674Z",
          "iopub.status.idle": "2022-11-18T15:28:19.379346Z",
          "shell.execute_reply.started": "2022-11-18T15:28:19.307636Z",
          "shell.execute_reply": "2022-11-18T15:28:19.378151Z"
        },
        "trusted": true,
        "id": "0PolHY-TeoD2",
        "outputId": "a0176b17-6c61-4b4e-e705-ccf303a3ce7c",
        "colab": {
          "base_uri": "https://localhost:8080/",
          "height": 615
        }
      },
      "execution_count": 30,
      "outputs": [
        {
          "output_type": "execute_result",
          "data": {
            "text/plain": [
              "                     policy_tenure  age_of_car  age_of_policyholder  \\\n",
              "policy_tenure             1.000000    0.166312             0.143676   \n",
              "age_of_car                0.166312    1.000000            -0.035427   \n",
              "age_of_policyholder       0.143676   -0.035427             1.000000   \n",
              "population_density       -0.100307   -0.062255             0.009669   \n",
              "make                      0.086101    0.188122            -0.031989   \n",
              "airbags                   0.103981    0.209073            -0.008041   \n",
              "displacement              0.194361    0.393208            -0.023764   \n",
              "cylinder                  0.191185    0.379522             0.004183   \n",
              "gear_box                  0.095305    0.201579            -0.003115   \n",
              "turning_radius            0.166426    0.332716            -0.016764   \n",
              "length                    0.190869    0.383177            -0.020138   \n",
              "width                     0.213228    0.414104            -0.006135   \n",
              "height                    0.119055    0.259156            -0.053930   \n",
              "gross_weight              0.141027    0.302127            -0.007758   \n",
              "ncap_rating               0.173280    0.348853            -0.031628   \n",
              "is_claim                  0.078747   -0.028172             0.022435   \n",
              "\n",
              "                     population_density      make   airbags  displacement  \\\n",
              "policy_tenure                 -0.100307  0.086101  0.103981      0.194361   \n",
              "age_of_car                    -0.062255  0.188122  0.209073      0.393208   \n",
              "age_of_policyholder            0.009669 -0.031989 -0.008041     -0.023764   \n",
              "population_density             1.000000 -0.035125 -0.060359     -0.090983   \n",
              "make                          -0.035125  1.000000  0.501800      0.753344   \n",
              "airbags                       -0.060359  0.501800  1.000000      0.661190   \n",
              "displacement                  -0.090983  0.753344  0.661190      1.000000   \n",
              "cylinder                      -0.091591  0.410672  0.478594      0.866231   \n",
              "gear_box                      -0.056640  0.632807  0.859556      0.692240   \n",
              "turning_radius                -0.077501  0.753861  0.810820      0.875407   \n",
              "length                        -0.091968  0.692365  0.809094      0.961655   \n",
              "width                         -0.098156  0.511695  0.639562      0.899302   \n",
              "height                        -0.065583  0.303274  0.423816      0.554591   \n",
              "gross_weight                  -0.077816  0.481408  0.828988      0.776210   \n",
              "ncap_rating                   -0.071150  0.792254  0.341557      0.847065   \n",
              "is_claim                      -0.017808 -0.000456  0.002789      0.007678   \n",
              "\n",
              "                     cylinder  gear_box  turning_radius    length     width  \\\n",
              "policy_tenure        0.191185  0.095305        0.166426  0.190869  0.213228   \n",
              "age_of_car           0.379522  0.201579        0.332716  0.383177  0.414104   \n",
              "age_of_policyholder  0.004183 -0.003115       -0.016764 -0.020138 -0.006135   \n",
              "population_density  -0.091591 -0.056640       -0.077501 -0.091968 -0.098156   \n",
              "make                 0.410672  0.632807        0.753861  0.692365  0.511695   \n",
              "airbags              0.478594  0.859556        0.810820  0.809094  0.639562   \n",
              "displacement         0.866231  0.692240        0.875407  0.961655  0.899302   \n",
              "cylinder             1.000000  0.410163        0.615806  0.805476  0.862430   \n",
              "gear_box             0.410163  1.000000        0.861740  0.808975  0.601923   \n",
              "turning_radius       0.615806  0.861740        1.000000  0.944899  0.825603   \n",
              "length               0.805476  0.808975        0.944899  1.000000  0.915918   \n",
              "width                0.862430  0.601923        0.825603  0.915918  1.000000   \n",
              "height               0.352118  0.579725        0.460436  0.553579  0.389317   \n",
              "gross_weight         0.602978  0.894639        0.823097  0.861723  0.734284   \n",
              "ncap_rating          0.598364  0.529688        0.779302  0.767519  0.771944   \n",
              "is_claim             0.013434 -0.000635        0.002724  0.006495  0.009947   \n",
              "\n",
              "                       height  gross_weight  ncap_rating  is_claim  \n",
              "policy_tenure        0.119055      0.141027     0.173280  0.078747  \n",
              "age_of_car           0.259156      0.302127     0.348853 -0.028172  \n",
              "age_of_policyholder -0.053930     -0.007758    -0.031628  0.022435  \n",
              "population_density  -0.065583     -0.077816    -0.071150 -0.017808  \n",
              "make                 0.303274      0.481408     0.792254 -0.000456  \n",
              "airbags              0.423816      0.828988     0.341557  0.002789  \n",
              "displacement         0.554591      0.776210     0.847065  0.007678  \n",
              "cylinder             0.352118      0.602978     0.598364  0.013434  \n",
              "gear_box             0.579725      0.894639     0.529688 -0.000635  \n",
              "turning_radius       0.460436      0.823097     0.779302  0.002724  \n",
              "length               0.553579      0.861723     0.767519  0.006495  \n",
              "width                0.389317      0.734284     0.771944  0.009947  \n",
              "height               1.000000      0.728377     0.437182 -0.002024  \n",
              "gross_weight         0.728377      1.000000     0.556270  0.003894  \n",
              "ncap_rating          0.437182      0.556270     1.000000  0.003800  \n",
              "is_claim            -0.002024      0.003894     0.003800  1.000000  "
            ],
            "text/html": [
              "\n",
              "  <div id=\"df-ac927bd7-a333-435e-a286-e7fc09f0d5fe\">\n",
              "    <div class=\"colab-df-container\">\n",
              "      <div>\n",
              "<style scoped>\n",
              "    .dataframe tbody tr th:only-of-type {\n",
              "        vertical-align: middle;\n",
              "    }\n",
              "\n",
              "    .dataframe tbody tr th {\n",
              "        vertical-align: top;\n",
              "    }\n",
              "\n",
              "    .dataframe thead th {\n",
              "        text-align: right;\n",
              "    }\n",
              "</style>\n",
              "<table border=\"1\" class=\"dataframe\">\n",
              "  <thead>\n",
              "    <tr style=\"text-align: right;\">\n",
              "      <th></th>\n",
              "      <th>policy_tenure</th>\n",
              "      <th>age_of_car</th>\n",
              "      <th>age_of_policyholder</th>\n",
              "      <th>population_density</th>\n",
              "      <th>make</th>\n",
              "      <th>airbags</th>\n",
              "      <th>displacement</th>\n",
              "      <th>cylinder</th>\n",
              "      <th>gear_box</th>\n",
              "      <th>turning_radius</th>\n",
              "      <th>length</th>\n",
              "      <th>width</th>\n",
              "      <th>height</th>\n",
              "      <th>gross_weight</th>\n",
              "      <th>ncap_rating</th>\n",
              "      <th>is_claim</th>\n",
              "    </tr>\n",
              "  </thead>\n",
              "  <tbody>\n",
              "    <tr>\n",
              "      <th>policy_tenure</th>\n",
              "      <td>1.000000</td>\n",
              "      <td>0.166312</td>\n",
              "      <td>0.143676</td>\n",
              "      <td>-0.100307</td>\n",
              "      <td>0.086101</td>\n",
              "      <td>0.103981</td>\n",
              "      <td>0.194361</td>\n",
              "      <td>0.191185</td>\n",
              "      <td>0.095305</td>\n",
              "      <td>0.166426</td>\n",
              "      <td>0.190869</td>\n",
              "      <td>0.213228</td>\n",
              "      <td>0.119055</td>\n",
              "      <td>0.141027</td>\n",
              "      <td>0.173280</td>\n",
              "      <td>0.078747</td>\n",
              "    </tr>\n",
              "    <tr>\n",
              "      <th>age_of_car</th>\n",
              "      <td>0.166312</td>\n",
              "      <td>1.000000</td>\n",
              "      <td>-0.035427</td>\n",
              "      <td>-0.062255</td>\n",
              "      <td>0.188122</td>\n",
              "      <td>0.209073</td>\n",
              "      <td>0.393208</td>\n",
              "      <td>0.379522</td>\n",
              "      <td>0.201579</td>\n",
              "      <td>0.332716</td>\n",
              "      <td>0.383177</td>\n",
              "      <td>0.414104</td>\n",
              "      <td>0.259156</td>\n",
              "      <td>0.302127</td>\n",
              "      <td>0.348853</td>\n",
              "      <td>-0.028172</td>\n",
              "    </tr>\n",
              "    <tr>\n",
              "      <th>age_of_policyholder</th>\n",
              "      <td>0.143676</td>\n",
              "      <td>-0.035427</td>\n",
              "      <td>1.000000</td>\n",
              "      <td>0.009669</td>\n",
              "      <td>-0.031989</td>\n",
              "      <td>-0.008041</td>\n",
              "      <td>-0.023764</td>\n",
              "      <td>0.004183</td>\n",
              "      <td>-0.003115</td>\n",
              "      <td>-0.016764</td>\n",
              "      <td>-0.020138</td>\n",
              "      <td>-0.006135</td>\n",
              "      <td>-0.053930</td>\n",
              "      <td>-0.007758</td>\n",
              "      <td>-0.031628</td>\n",
              "      <td>0.022435</td>\n",
              "    </tr>\n",
              "    <tr>\n",
              "      <th>population_density</th>\n",
              "      <td>-0.100307</td>\n",
              "      <td>-0.062255</td>\n",
              "      <td>0.009669</td>\n",
              "      <td>1.000000</td>\n",
              "      <td>-0.035125</td>\n",
              "      <td>-0.060359</td>\n",
              "      <td>-0.090983</td>\n",
              "      <td>-0.091591</td>\n",
              "      <td>-0.056640</td>\n",
              "      <td>-0.077501</td>\n",
              "      <td>-0.091968</td>\n",
              "      <td>-0.098156</td>\n",
              "      <td>-0.065583</td>\n",
              "      <td>-0.077816</td>\n",
              "      <td>-0.071150</td>\n",
              "      <td>-0.017808</td>\n",
              "    </tr>\n",
              "    <tr>\n",
              "      <th>make</th>\n",
              "      <td>0.086101</td>\n",
              "      <td>0.188122</td>\n",
              "      <td>-0.031989</td>\n",
              "      <td>-0.035125</td>\n",
              "      <td>1.000000</td>\n",
              "      <td>0.501800</td>\n",
              "      <td>0.753344</td>\n",
              "      <td>0.410672</td>\n",
              "      <td>0.632807</td>\n",
              "      <td>0.753861</td>\n",
              "      <td>0.692365</td>\n",
              "      <td>0.511695</td>\n",
              "      <td>0.303274</td>\n",
              "      <td>0.481408</td>\n",
              "      <td>0.792254</td>\n",
              "      <td>-0.000456</td>\n",
              "    </tr>\n",
              "    <tr>\n",
              "      <th>airbags</th>\n",
              "      <td>0.103981</td>\n",
              "      <td>0.209073</td>\n",
              "      <td>-0.008041</td>\n",
              "      <td>-0.060359</td>\n",
              "      <td>0.501800</td>\n",
              "      <td>1.000000</td>\n",
              "      <td>0.661190</td>\n",
              "      <td>0.478594</td>\n",
              "      <td>0.859556</td>\n",
              "      <td>0.810820</td>\n",
              "      <td>0.809094</td>\n",
              "      <td>0.639562</td>\n",
              "      <td>0.423816</td>\n",
              "      <td>0.828988</td>\n",
              "      <td>0.341557</td>\n",
              "      <td>0.002789</td>\n",
              "    </tr>\n",
              "    <tr>\n",
              "      <th>displacement</th>\n",
              "      <td>0.194361</td>\n",
              "      <td>0.393208</td>\n",
              "      <td>-0.023764</td>\n",
              "      <td>-0.090983</td>\n",
              "      <td>0.753344</td>\n",
              "      <td>0.661190</td>\n",
              "      <td>1.000000</td>\n",
              "      <td>0.866231</td>\n",
              "      <td>0.692240</td>\n",
              "      <td>0.875407</td>\n",
              "      <td>0.961655</td>\n",
              "      <td>0.899302</td>\n",
              "      <td>0.554591</td>\n",
              "      <td>0.776210</td>\n",
              "      <td>0.847065</td>\n",
              "      <td>0.007678</td>\n",
              "    </tr>\n",
              "    <tr>\n",
              "      <th>cylinder</th>\n",
              "      <td>0.191185</td>\n",
              "      <td>0.379522</td>\n",
              "      <td>0.004183</td>\n",
              "      <td>-0.091591</td>\n",
              "      <td>0.410672</td>\n",
              "      <td>0.478594</td>\n",
              "      <td>0.866231</td>\n",
              "      <td>1.000000</td>\n",
              "      <td>0.410163</td>\n",
              "      <td>0.615806</td>\n",
              "      <td>0.805476</td>\n",
              "      <td>0.862430</td>\n",
              "      <td>0.352118</td>\n",
              "      <td>0.602978</td>\n",
              "      <td>0.598364</td>\n",
              "      <td>0.013434</td>\n",
              "    </tr>\n",
              "    <tr>\n",
              "      <th>gear_box</th>\n",
              "      <td>0.095305</td>\n",
              "      <td>0.201579</td>\n",
              "      <td>-0.003115</td>\n",
              "      <td>-0.056640</td>\n",
              "      <td>0.632807</td>\n",
              "      <td>0.859556</td>\n",
              "      <td>0.692240</td>\n",
              "      <td>0.410163</td>\n",
              "      <td>1.000000</td>\n",
              "      <td>0.861740</td>\n",
              "      <td>0.808975</td>\n",
              "      <td>0.601923</td>\n",
              "      <td>0.579725</td>\n",
              "      <td>0.894639</td>\n",
              "      <td>0.529688</td>\n",
              "      <td>-0.000635</td>\n",
              "    </tr>\n",
              "    <tr>\n",
              "      <th>turning_radius</th>\n",
              "      <td>0.166426</td>\n",
              "      <td>0.332716</td>\n",
              "      <td>-0.016764</td>\n",
              "      <td>-0.077501</td>\n",
              "      <td>0.753861</td>\n",
              "      <td>0.810820</td>\n",
              "      <td>0.875407</td>\n",
              "      <td>0.615806</td>\n",
              "      <td>0.861740</td>\n",
              "      <td>1.000000</td>\n",
              "      <td>0.944899</td>\n",
              "      <td>0.825603</td>\n",
              "      <td>0.460436</td>\n",
              "      <td>0.823097</td>\n",
              "      <td>0.779302</td>\n",
              "      <td>0.002724</td>\n",
              "    </tr>\n",
              "    <tr>\n",
              "      <th>length</th>\n",
              "      <td>0.190869</td>\n",
              "      <td>0.383177</td>\n",
              "      <td>-0.020138</td>\n",
              "      <td>-0.091968</td>\n",
              "      <td>0.692365</td>\n",
              "      <td>0.809094</td>\n",
              "      <td>0.961655</td>\n",
              "      <td>0.805476</td>\n",
              "      <td>0.808975</td>\n",
              "      <td>0.944899</td>\n",
              "      <td>1.000000</td>\n",
              "      <td>0.915918</td>\n",
              "      <td>0.553579</td>\n",
              "      <td>0.861723</td>\n",
              "      <td>0.767519</td>\n",
              "      <td>0.006495</td>\n",
              "    </tr>\n",
              "    <tr>\n",
              "      <th>width</th>\n",
              "      <td>0.213228</td>\n",
              "      <td>0.414104</td>\n",
              "      <td>-0.006135</td>\n",
              "      <td>-0.098156</td>\n",
              "      <td>0.511695</td>\n",
              "      <td>0.639562</td>\n",
              "      <td>0.899302</td>\n",
              "      <td>0.862430</td>\n",
              "      <td>0.601923</td>\n",
              "      <td>0.825603</td>\n",
              "      <td>0.915918</td>\n",
              "      <td>1.000000</td>\n",
              "      <td>0.389317</td>\n",
              "      <td>0.734284</td>\n",
              "      <td>0.771944</td>\n",
              "      <td>0.009947</td>\n",
              "    </tr>\n",
              "    <tr>\n",
              "      <th>height</th>\n",
              "      <td>0.119055</td>\n",
              "      <td>0.259156</td>\n",
              "      <td>-0.053930</td>\n",
              "      <td>-0.065583</td>\n",
              "      <td>0.303274</td>\n",
              "      <td>0.423816</td>\n",
              "      <td>0.554591</td>\n",
              "      <td>0.352118</td>\n",
              "      <td>0.579725</td>\n",
              "      <td>0.460436</td>\n",
              "      <td>0.553579</td>\n",
              "      <td>0.389317</td>\n",
              "      <td>1.000000</td>\n",
              "      <td>0.728377</td>\n",
              "      <td>0.437182</td>\n",
              "      <td>-0.002024</td>\n",
              "    </tr>\n",
              "    <tr>\n",
              "      <th>gross_weight</th>\n",
              "      <td>0.141027</td>\n",
              "      <td>0.302127</td>\n",
              "      <td>-0.007758</td>\n",
              "      <td>-0.077816</td>\n",
              "      <td>0.481408</td>\n",
              "      <td>0.828988</td>\n",
              "      <td>0.776210</td>\n",
              "      <td>0.602978</td>\n",
              "      <td>0.894639</td>\n",
              "      <td>0.823097</td>\n",
              "      <td>0.861723</td>\n",
              "      <td>0.734284</td>\n",
              "      <td>0.728377</td>\n",
              "      <td>1.000000</td>\n",
              "      <td>0.556270</td>\n",
              "      <td>0.003894</td>\n",
              "    </tr>\n",
              "    <tr>\n",
              "      <th>ncap_rating</th>\n",
              "      <td>0.173280</td>\n",
              "      <td>0.348853</td>\n",
              "      <td>-0.031628</td>\n",
              "      <td>-0.071150</td>\n",
              "      <td>0.792254</td>\n",
              "      <td>0.341557</td>\n",
              "      <td>0.847065</td>\n",
              "      <td>0.598364</td>\n",
              "      <td>0.529688</td>\n",
              "      <td>0.779302</td>\n",
              "      <td>0.767519</td>\n",
              "      <td>0.771944</td>\n",
              "      <td>0.437182</td>\n",
              "      <td>0.556270</td>\n",
              "      <td>1.000000</td>\n",
              "      <td>0.003800</td>\n",
              "    </tr>\n",
              "    <tr>\n",
              "      <th>is_claim</th>\n",
              "      <td>0.078747</td>\n",
              "      <td>-0.028172</td>\n",
              "      <td>0.022435</td>\n",
              "      <td>-0.017808</td>\n",
              "      <td>-0.000456</td>\n",
              "      <td>0.002789</td>\n",
              "      <td>0.007678</td>\n",
              "      <td>0.013434</td>\n",
              "      <td>-0.000635</td>\n",
              "      <td>0.002724</td>\n",
              "      <td>0.006495</td>\n",
              "      <td>0.009947</td>\n",
              "      <td>-0.002024</td>\n",
              "      <td>0.003894</td>\n",
              "      <td>0.003800</td>\n",
              "      <td>1.000000</td>\n",
              "    </tr>\n",
              "  </tbody>\n",
              "</table>\n",
              "</div>\n",
              "      <button class=\"colab-df-convert\" onclick=\"convertToInteractive('df-ac927bd7-a333-435e-a286-e7fc09f0d5fe')\"\n",
              "              title=\"Convert this dataframe to an interactive table.\"\n",
              "              style=\"display:none;\">\n",
              "        \n",
              "  <svg xmlns=\"http://www.w3.org/2000/svg\" height=\"24px\"viewBox=\"0 0 24 24\"\n",
              "       width=\"24px\">\n",
              "    <path d=\"M0 0h24v24H0V0z\" fill=\"none\"/>\n",
              "    <path d=\"M18.56 5.44l.94 2.06.94-2.06 2.06-.94-2.06-.94-.94-2.06-.94 2.06-2.06.94zm-11 1L8.5 8.5l.94-2.06 2.06-.94-2.06-.94L8.5 2.5l-.94 2.06-2.06.94zm10 10l.94 2.06.94-2.06 2.06-.94-2.06-.94-.94-2.06-.94 2.06-2.06.94z\"/><path d=\"M17.41 7.96l-1.37-1.37c-.4-.4-.92-.59-1.43-.59-.52 0-1.04.2-1.43.59L10.3 9.45l-7.72 7.72c-.78.78-.78 2.05 0 2.83L4 21.41c.39.39.9.59 1.41.59.51 0 1.02-.2 1.41-.59l7.78-7.78 2.81-2.81c.8-.78.8-2.07 0-2.86zM5.41 20L4 18.59l7.72-7.72 1.47 1.35L5.41 20z\"/>\n",
              "  </svg>\n",
              "      </button>\n",
              "      \n",
              "  <style>\n",
              "    .colab-df-container {\n",
              "      display:flex;\n",
              "      flex-wrap:wrap;\n",
              "      gap: 12px;\n",
              "    }\n",
              "\n",
              "    .colab-df-convert {\n",
              "      background-color: #E8F0FE;\n",
              "      border: none;\n",
              "      border-radius: 50%;\n",
              "      cursor: pointer;\n",
              "      display: none;\n",
              "      fill: #1967D2;\n",
              "      height: 32px;\n",
              "      padding: 0 0 0 0;\n",
              "      width: 32px;\n",
              "    }\n",
              "\n",
              "    .colab-df-convert:hover {\n",
              "      background-color: #E2EBFA;\n",
              "      box-shadow: 0px 1px 2px rgba(60, 64, 67, 0.3), 0px 1px 3px 1px rgba(60, 64, 67, 0.15);\n",
              "      fill: #174EA6;\n",
              "    }\n",
              "\n",
              "    [theme=dark] .colab-df-convert {\n",
              "      background-color: #3B4455;\n",
              "      fill: #D2E3FC;\n",
              "    }\n",
              "\n",
              "    [theme=dark] .colab-df-convert:hover {\n",
              "      background-color: #434B5C;\n",
              "      box-shadow: 0px 1px 3px 1px rgba(0, 0, 0, 0.15);\n",
              "      filter: drop-shadow(0px 1px 2px rgba(0, 0, 0, 0.3));\n",
              "      fill: #FFFFFF;\n",
              "    }\n",
              "  </style>\n",
              "\n",
              "      <script>\n",
              "        const buttonEl =\n",
              "          document.querySelector('#df-ac927bd7-a333-435e-a286-e7fc09f0d5fe button.colab-df-convert');\n",
              "        buttonEl.style.display =\n",
              "          google.colab.kernel.accessAllowed ? 'block' : 'none';\n",
              "\n",
              "        async function convertToInteractive(key) {\n",
              "          const element = document.querySelector('#df-ac927bd7-a333-435e-a286-e7fc09f0d5fe');\n",
              "          const dataTable =\n",
              "            await google.colab.kernel.invokeFunction('convertToInteractive',\n",
              "                                                     [key], {});\n",
              "          if (!dataTable) return;\n",
              "\n",
              "          const docLinkHtml = 'Like what you see? Visit the ' +\n",
              "            '<a target=\"_blank\" href=https://colab.research.google.com/notebooks/data_table.ipynb>data table notebook</a>'\n",
              "            + ' to learn more about interactive tables.';\n",
              "          element.innerHTML = '';\n",
              "          dataTable['output_type'] = 'display_data';\n",
              "          await google.colab.output.renderOutput(dataTable, element);\n",
              "          const docLink = document.createElement('div');\n",
              "          docLink.innerHTML = docLinkHtml;\n",
              "          element.appendChild(docLink);\n",
              "        }\n",
              "      </script>\n",
              "    </div>\n",
              "  </div>\n",
              "  "
            ]
          },
          "metadata": {},
          "execution_count": 30
        }
      ]
    },
    {
      "cell_type": "code",
      "source": [
        "plt.figure(figsize=(15,10))\n",
        "sns.heatmap(df.corr())"
      ],
      "metadata": {
        "execution": {
          "iopub.status.busy": "2022-11-18T15:28:20.479122Z",
          "iopub.execute_input": "2022-11-18T15:28:20.479512Z",
          "iopub.status.idle": "2022-11-18T15:28:21.016802Z",
          "shell.execute_reply.started": "2022-11-18T15:28:20.479479Z",
          "shell.execute_reply": "2022-11-18T15:28:21.015827Z"
        },
        "trusted": true,
        "id": "-4UU0mM-eoD2",
        "outputId": "513ed0db-e931-4188-b86e-e2f3c454d0b6",
        "colab": {
          "base_uri": "https://localhost:8080/",
          "height": 702
        }
      },
      "execution_count": 31,
      "outputs": [
        {
          "output_type": "execute_result",
          "data": {
            "text/plain": [
              "<matplotlib.axes._subplots.AxesSubplot at 0x7fadc8c54100>"
            ]
          },
          "metadata": {},
          "execution_count": 31
        },
        {
          "output_type": "display_data",
          "data": {
            "text/plain": [
              "<Figure size 1080x720 with 2 Axes>"
            ],
            "image/png": "[encoded data removed]"
          },
          "metadata": {
            "needs_background": "light"
          }
        }
      ]
    },
    {
      "cell_type": "markdown",
      "source": [
        "## Alert!! High degree of multicollinearity\n",
        "\n",
        "What is the problem with multicollinearity? <br>\n",
        "Multicollinearity exists whenever an independent variable is highly correlated with one or more of the other independent variables in a multiple regression equation. \n",
        "\n",
        "When independent variables are linearly correlated, even though we might get a high value of R^2 ,i.e our model might be able to explain variance of our target variable to a good degree, we might find that individually the independent variables are statistically insignificant. Since the features are highly correlated it is very difficult to disentangle the effects of independent variables.\n",
        "\n",
        "In our case, since there is a high correlation between independent variables, which will have to be either combined together or dropped. <br>\n",
        "Correlation Matrix and Scatterplots are bivariate methods to see if there is a relationship between one variable and another variable. Here we need to see how one variable can be explained in terms of linear combinations of other variables. This is what Variance Inflation Factor does. <br>\n",
        "VIF calculates the R^2 value by running regression of one variable on all the other variables, which describes how well that variable is described by other variables. <br> So if we get a high value of R^2, i.e closer to 1, and therefore a high value of VIF (VIF=1/(1-R^2)), there is a high degree of multicollinearity associated with that particular variable.\n",
        "\n",
        "I will use Variance Inflation Factor with a threshold of 10 to remove or combine out multicollinear features.\n",
        "What Variance Inflation Factor does is that it "
      ],
      "metadata": {
        "id": "f_ZwBoUgeoD2"
      }
    },
    {
      "cell_type": "code",
      "source": [
        "x= df.drop(['is_claim'],axis=1)"
      ],
      "metadata": {
        "execution": {
          "iopub.status.busy": "2022-11-18T15:28:24.612861Z",
          "iopub.execute_input": "2022-11-18T15:28:24.613270Z",
          "iopub.status.idle": "2022-11-18T15:28:24.710667Z",
          "shell.execute_reply.started": "2022-11-18T15:28:24.613238Z",
          "shell.execute_reply": "2022-11-18T15:28:24.709667Z"
        },
        "trusted": true,
        "id": "-l0VuWOHeoD2"
      },
      "execution_count": 33,
      "outputs": []
    },
    {
      "cell_type": "code",
      "source": [
        "y= df['is_claim']"
      ],
      "metadata": {
        "execution": {
          "iopub.status.busy": "2022-11-18T15:28:25.169397Z",
          "iopub.execute_input": "2022-11-18T15:28:25.169768Z",
          "iopub.status.idle": "2022-11-18T15:28:25.174654Z",
          "shell.execute_reply.started": "2022-11-18T15:28:25.169736Z",
          "shell.execute_reply": "2022-11-18T15:28:25.173669Z"
        },
        "trusted": true,
        "id": "CGszJn_EeoD3"
      },
      "execution_count": 34,
      "outputs": []
    },
    {
      "cell_type": "code",
      "source": [
        "numerical_features= x.select_dtypes(include=[np.number])\n",
        "categorical_features = x.select_dtypes(exclude=[np.number])"
      ],
      "metadata": {
        "execution": {
          "iopub.status.busy": "2022-11-18T15:28:27.317956Z",
          "iopub.execute_input": "2022-11-18T15:28:27.318672Z",
          "iopub.status.idle": "2022-11-18T15:28:27.445842Z",
          "shell.execute_reply.started": "2022-11-18T15:28:27.318635Z",
          "shell.execute_reply": "2022-11-18T15:28:27.444851Z"
        },
        "trusted": true,
        "id": "eUZpKXvWeoD3"
      },
      "execution_count": 35,
      "outputs": []
    },
    {
      "cell_type": "code",
      "source": [
        "import statsmodels.api as sm\n",
        "from statsmodels.stats.outliers_influence import variance_inflation_factor\n",
        "\n",
        "X = x[list(numerical_features.columns)]\n",
        "\n",
        "vif_info = pd.DataFrame()\n",
        "vif_info['VIF'] = [variance_inflation_factor(X.values, i) for i in range(X.shape[1])]\n",
        "vif_info['Column'] = X.columns\n",
        "vif_info.sort_values('VIF', ascending=False)"
      ],
      "metadata": {
        "execution": {
          "iopub.status.busy": "2022-11-18T15:28:29.981178Z",
          "iopub.execute_input": "2022-11-18T15:28:29.981558Z",
          "iopub.status.idle": "2022-11-18T15:28:33.748810Z",
          "shell.execute_reply.started": "2022-11-18T15:28:29.981525Z",
          "shell.execute_reply": "2022-11-18T15:28:33.747456Z"
        },
        "trusted": true,
        "id": "c-Q9HDDXeoD3",
        "outputId": "dbea352a-c4de-4405-fd3a-9f9ffe06752f",
        "colab": {
          "base_uri": "https://localhost:8080/",
          "height": 519
        }
      },
      "execution_count": 36,
      "outputs": [
        {
          "output_type": "execute_result",
          "data": {
            "text/plain": [
              "              VIF               Column\n",
              "6   118746.174799         displacement\n",
              "7    94275.158281             cylinder\n",
              "11   67050.742344                width\n",
              "10   44428.846539               length\n",
              "12   29076.688991               height\n",
              "9    12400.319247       turning_radius\n",
              "8     4989.321067             gear_box\n",
              "14    3217.624473          ncap_rating\n",
              "5     2322.829114              airbags\n",
              "13    2192.029533         gross_weight\n",
              "4      190.614622                 make\n",
              "1        1.277602           age_of_car\n",
              "0        1.098729        policy_tenure\n",
              "2        1.037659  age_of_policyholder\n",
              "3        1.018580   population_density"
            ],
            "text/html": [
              "\n",
              "  <div id=\"df-5546e81d-ad86-46cb-9b6e-a7719865fb91\">\n",
              "    <div class=\"colab-df-container\">\n",
              "      <div>\n",
              "<style scoped>\n",
              "    .dataframe tbody tr th:only-of-type {\n",
              "        vertical-align: middle;\n",
              "    }\n",
              "\n",
              "    .dataframe tbody tr th {\n",
              "        vertical-align: top;\n",
              "    }\n",
              "\n",
              "    .dataframe thead th {\n",
              "        text-align: right;\n",
              "    }\n",
              "</style>\n",
              "<table border=\"1\" class=\"dataframe\">\n",
              "  <thead>\n",
              "    <tr style=\"text-align: right;\">\n",
              "      <th></th>\n",
              "      <th>VIF</th>\n",
              "      <th>Column</th>\n",
              "    </tr>\n",
              "  </thead>\n",
              "  <tbody>\n",
              "    <tr>\n",
              "      <th>6</th>\n",
              "      <td>118746.174799</td>\n",
              "      <td>displacement</td>\n",
              "    </tr>\n",
              "    <tr>\n",
              "      <th>7</th>\n",
              "      <td>94275.158281</td>\n",
              "      <td>cylinder</td>\n",
              "    </tr>\n",
              "    <tr>\n",
              "      <th>11</th>\n",
              "      <td>67050.742344</td>\n",
              "      <td>width</td>\n",
              "    </tr>\n",
              "    <tr>\n",
              "      <th>10</th>\n",
              "      <td>44428.846539</td>\n",
              "      <td>length</td>\n",
              "    </tr>\n",
              "    <tr>\n",
              "      <th>12</th>\n",
              "      <td>29076.688991</td>\n",
              "      <td>height</td>\n",
              "    </tr>\n",
              "    <tr>\n",
              "      <th>9</th>\n",
              "      <td>12400.319247</td>\n",
              "      <td>turning_radius</td>\n",
              "    </tr>\n",
              "    <tr>\n",
              "      <th>8</th>\n",
              "      <td>4989.321067</td>\n",
              "      <td>gear_box</td>\n",
              "    </tr>\n",
              "    <tr>\n",
              "      <th>14</th>\n",
              "      <td>3217.624473</td>\n",
              "      <td>ncap_rating</td>\n",
              "    </tr>\n",
              "    <tr>\n",
              "      <th>5</th>\n",
              "      <td>2322.829114</td>\n",
              "      <td>airbags</td>\n",
              "    </tr>\n",
              "    <tr>\n",
              "      <th>13</th>\n",
              "      <td>2192.029533</td>\n",
              "      <td>gross_weight</td>\n",
              "    </tr>\n",
              "    <tr>\n",
              "      <th>4</th>\n",
              "      <td>190.614622</td>\n",
              "      <td>make</td>\n",
              "    </tr>\n",
              "    <tr>\n",
              "      <th>1</th>\n",
              "      <td>1.277602</td>\n",
              "      <td>age_of_car</td>\n",
              "    </tr>\n",
              "    <tr>\n",
              "      <th>0</th>\n",
              "      <td>1.098729</td>\n",
              "      <td>policy_tenure</td>\n",
              "    </tr>\n",
              "    <tr>\n",
              "      <th>2</th>\n",
              "      <td>1.037659</td>\n",
              "      <td>age_of_policyholder</td>\n",
              "    </tr>\n",
              "    <tr>\n",
              "      <th>3</th>\n",
              "      <td>1.018580</td>\n",
              "      <td>population_density</td>\n",
              "    </tr>\n",
              "  </tbody>\n",
              "</table>\n",
              "</div>\n",
              "      <button class=\"colab-df-convert\" onclick=\"convertToInteractive('df-5546e81d-ad86-46cb-9b6e-a7719865fb91')\"\n",
              "              title=\"Convert this dataframe to an interactive table.\"\n",
              "              style=\"display:none;\">\n",
              "        \n",
              "  <svg xmlns=\"http://www.w3.org/2000/svg\" height=\"24px\"viewBox=\"0 0 24 24\"\n",
              "       width=\"24px\">\n",
              "    <path d=\"M0 0h24v24H0V0z\" fill=\"none\"/>\n",
              "    <path d=\"M18.56 5.44l.94 2.06.94-2.06 2.06-.94-2.06-.94-.94-2.06-.94 2.06-2.06.94zm-11 1L8.5 8.5l.94-2.06 2.06-.94-2.06-.94L8.5 2.5l-.94 2.06-2.06.94zm10 10l.94 2.06.94-2.06 2.06-.94-2.06-.94-.94-2.06-.94 2.06-2.06.94z\"/><path d=\"M17.41 7.96l-1.37-1.37c-.4-.4-.92-.59-1.43-.59-.52 0-1.04.2-1.43.59L10.3 9.45l-7.72 7.72c-.78.78-.78 2.05 0 2.83L4 21.41c.39.39.9.59 1.41.59.51 0 1.02-.2 1.41-.59l7.78-7.78 2.81-2.81c.8-.78.8-2.07 0-2.86zM5.41 20L4 18.59l7.72-7.72 1.47 1.35L5.41 20z\"/>\n",
              "  </svg>\n",
              "      </button>\n",
              "      \n",
              "  <style>\n",
              "    .colab-df-container {\n",
              "      display:flex;\n",
              "      flex-wrap:wrap;\n",
              "      gap: 12px;\n",
              "    }\n",
              "\n",
              "    .colab-df-convert {\n",
              "      background-color: #E8F0FE;\n",
              "      border: none;\n",
              "      border-radius: 50%;\n",
              "      cursor: pointer;\n",
              "      display: none;\n",
              "      fill: #1967D2;\n",
              "      height: 32px;\n",
              "      padding: 0 0 0 0;\n",
              "      width: 32px;\n",
              "    }\n",
              "\n",
              "    .colab-df-convert:hover {\n",
              "      background-color: #E2EBFA;\n",
              "      box-shadow: 0px 1px 2px rgba(60, 64, 67, 0.3), 0px 1px 3px 1px rgba(60, 64, 67, 0.15);\n",
              "      fill: #174EA6;\n",
              "    }\n",
              "\n",
              "    [theme=dark] .colab-df-convert {\n",
              "      background-color: #3B4455;\n",
              "      fill: #D2E3FC;\n",
              "    }\n",
              "\n",
              "    [theme=dark] .colab-df-convert:hover {\n",
              "      background-color: #434B5C;\n",
              "      box-shadow: 0px 1px 3px 1px rgba(0, 0, 0, 0.15);\n",
              "      filter: drop-shadow(0px 1px 2px rgba(0, 0, 0, 0.3));\n",
              "      fill: #FFFFFF;\n",
              "    }\n",
              "  </style>\n",
              "\n",
              "      <script>\n",
              "        const buttonEl =\n",
              "          document.querySelector('#df-5546e81d-ad86-46cb-9b6e-a7719865fb91 button.colab-df-convert');\n",
              "        buttonEl.style.display =\n",
              "          google.colab.kernel.accessAllowed ? 'block' : 'none';\n",
              "\n",
              "        async function convertToInteractive(key) {\n",
              "          const element = document.querySelector('#df-5546e81d-ad86-46cb-9b6e-a7719865fb91');\n",
              "          const dataTable =\n",
              "            await google.colab.kernel.invokeFunction('convertToInteractive',\n",
              "                                                     [key], {});\n",
              "          if (!dataTable) return;\n",
              "\n",
              "          const docLinkHtml = 'Like what you see? Visit the ' +\n",
              "            '<a target=\"_blank\" href=https://colab.research.google.com/notebooks/data_table.ipynb>data table notebook</a>'\n",
              "            + ' to learn more about interactive tables.';\n",
              "          element.innerHTML = '';\n",
              "          dataTable['output_type'] = 'display_data';\n",
              "          await google.colab.output.renderOutput(dataTable, element);\n",
              "          const docLink = document.createElement('div');\n",
              "          docLink.innerHTML = docLinkHtml;\n",
              "          element.appendChild(docLink);\n",
              "        }\n",
              "      </script>\n",
              "    </div>\n",
              "  </div>\n",
              "  "
            ]
          },
          "metadata": {},
          "execution_count": 36
        }
      ]
    },
    {
      "cell_type": "code",
      "source": [
        "x['dimensions'] = (x['width']*x['length']*x['height'])\n",
        "numerical_features= x.select_dtypes(include=[np.number])\n",
        "X = x[list(numerical_features.columns)].drop(['height','width','length'], axis=1)\n",
        "\n",
        "X.head()"
      ],
      "metadata": {
        "execution": {
          "iopub.status.busy": "2022-11-18T15:28:33.755934Z",
          "iopub.execute_input": "2022-11-18T15:28:33.759714Z",
          "iopub.status.idle": "2022-11-18T15:28:33.834718Z",
          "shell.execute_reply.started": "2022-11-18T15:28:33.759653Z",
          "shell.execute_reply": "2022-11-18T15:28:33.833249Z"
        },
        "trusted": true,
        "id": "E1Nx8guKeoD3",
        "outputId": "565cb006-5a63-4031-b34e-29a69fa8a75c",
        "colab": {
          "base_uri": "https://localhost:8080/",
          "height": 301
        }
      },
      "execution_count": 37,
      "outputs": [
        {
          "output_type": "execute_result",
          "data": {
            "text/plain": [
              "           policy_tenure  age_of_car  age_of_policyholder  population_density  \\\n",
              "policy_id                                                                       \n",
              "ID00001         0.515874        0.05             0.644231                4990   \n",
              "ID00002         0.672619        0.02             0.375000               27003   \n",
              "ID00003         0.841110        0.02             0.384615                4076   \n",
              "ID00004         0.900277        0.11             0.432692               21622   \n",
              "ID00005         0.596403        0.11             0.634615               34738   \n",
              "\n",
              "           make  airbags  displacement  cylinder  gear_box  turning_radius  \\\n",
              "policy_id                                                                    \n",
              "ID00001       1        2           796         3         5             4.6   \n",
              "ID00002       1        2           796         3         5             4.6   \n",
              "ID00003       1        2           796         3         5             4.6   \n",
              "ID00004       1        2          1197         4         5             4.8   \n",
              "ID00005       2        2           999         3         5             5.0   \n",
              "\n",
              "           gross_weight  ncap_rating   dimensions  \n",
              "policy_id                                          \n",
              "ID00001            1185            0   7698283125  \n",
              "ID00002            1185            0   7698283125  \n",
              "ID00003            1185            0   7698283125  \n",
              "ID00004            1335            2  10500957375  \n",
              "ID00005            1155            2   8777961010  "
            ],
            "text/html": [
              "\n",
              "  <div id=\"df-a049d032-17b7-42c7-b0d8-419da2c4dccd\">\n",
              "    <div class=\"colab-df-container\">\n",
              "      <div>\n",
              "<style scoped>\n",
              "    .dataframe tbody tr th:only-of-type {\n",
              "        vertical-align: middle;\n",
              "    }\n",
              "\n",
              "    .dataframe tbody tr th {\n",
              "        vertical-align: top;\n",
              "    }\n",
              "\n",
              "    .dataframe thead th {\n",
              "        text-align: right;\n",
              "    }\n",
              "</style>\n",
              "<table border=\"1\" class=\"dataframe\">\n",
              "  <thead>\n",
              "    <tr style=\"text-align: right;\">\n",
              "      <th></th>\n",
              "      <th>policy_tenure</th>\n",
              "      <th>age_of_car</th>\n",
              "      <th>age_of_policyholder</th>\n",
              "      <th>population_density</th>\n",
              "      <th>make</th>\n",
              "      <th>airbags</th>\n",
              "      <th>displacement</th>\n",
              "      <th>cylinder</th>\n",
              "      <th>gear_box</th>\n",
              "      <th>turning_radius</th>\n",
              "      <th>gross_weight</th>\n",
              "      <th>ncap_rating</th>\n",
              "      <th>dimensions</th>\n",
              "    </tr>\n",
              "    <tr>\n",
              "      <th>policy_id</th>\n",
              "      <th></th>\n",
              "      <th></th>\n",
              "      <th></th>\n",
              "      <th></th>\n",
              "      <th></th>\n",
              "      <th></th>\n",
              "      <th></th>\n",
              "      <th></th>\n",
              "      <th></th>\n",
              "      <th></th>\n",
              "      <th></th>\n",
              "      <th></th>\n",
              "      <th></th>\n",
              "    </tr>\n",
              "  </thead>\n",
              "  <tbody>\n",
              "    <tr>\n",
              "      <th>ID00001</th>\n",
              "      <td>0.515874</td>\n",
              "      <td>0.05</td>\n",
              "      <td>0.644231</td>\n",
              "      <td>4990</td>\n",
              "      <td>1</td>\n",
              "      <td>2</td>\n",
              "      <td>796</td>\n",
              "      <td>3</td>\n",
              "      <td>5</td>\n",
              "      <td>4.6</td>\n",
              "      <td>1185</td>\n",
              "      <td>0</td>\n",
              "      <td>7698283125</td>\n",
              "    </tr>\n",
              "    <tr>\n",
              "      <th>ID00002</th>\n",
              "      <td>0.672619</td>\n",
              "      <td>0.02</td>\n",
              "      <td>0.375000</td>\n",
              "      <td>27003</td>\n",
              "      <td>1</td>\n",
              "      <td>2</td>\n",
              "      <td>796</td>\n",
              "      <td>3</td>\n",
              "      <td>5</td>\n",
              "      <td>4.6</td>\n",
              "      <td>1185</td>\n",
              "      <td>0</td>\n",
              "      <td>7698283125</td>\n",
              "    </tr>\n",
              "    <tr>\n",
              "      <th>ID00003</th>\n",
              "      <td>0.841110</td>\n",
              "      <td>0.02</td>\n",
              "      <td>0.384615</td>\n",
              "      <td>4076</td>\n",
              "      <td>1</td>\n",
              "      <td>2</td>\n",
              "      <td>796</td>\n",
              "      <td>3</td>\n",
              "      <td>5</td>\n",
              "      <td>4.6</td>\n",
              "      <td>1185</td>\n",
              "      <td>0</td>\n",
              "      <td>7698283125</td>\n",
              "    </tr>\n",
              "    <tr>\n",
              "      <th>ID00004</th>\n",
              "      <td>0.900277</td>\n",
              "      <td>0.11</td>\n",
              "      <td>0.432692</td>\n",
              "      <td>21622</td>\n",
              "      <td>1</td>\n",
              "      <td>2</td>\n",
              "      <td>1197</td>\n",
              "      <td>4</td>\n",
              "      <td>5</td>\n",
              "      <td>4.8</td>\n",
              "      <td>1335</td>\n",
              "      <td>2</td>\n",
              "      <td>10500957375</td>\n",
              "    </tr>\n",
              "    <tr>\n",
              "      <th>ID00005</th>\n",
              "      <td>0.596403</td>\n",
              "      <td>0.11</td>\n",
              "      <td>0.634615</td>\n",
              "      <td>34738</td>\n",
              "      <td>2</td>\n",
              "      <td>2</td>\n",
              "      <td>999</td>\n",
              "      <td>3</td>\n",
              "      <td>5</td>\n",
              "      <td>5.0</td>\n",
              "      <td>1155</td>\n",
              "      <td>2</td>\n",
              "      <td>8777961010</td>\n",
              "    </tr>\n",
              "  </tbody>\n",
              "</table>\n",
              "</div>\n",
              "      <button class=\"colab-df-convert\" onclick=\"convertToInteractive('df-a049d032-17b7-42c7-b0d8-419da2c4dccd')\"\n",
              "              title=\"Convert this dataframe to an interactive table.\"\n",
              "              style=\"display:none;\">\n",
              "        \n",
              "  <svg xmlns=\"http://www.w3.org/2000/svg\" height=\"24px\"viewBox=\"0 0 24 24\"\n",
              "       width=\"24px\">\n",
              "    <path d=\"M0 0h24v24H0V0z\" fill=\"none\"/>\n",
              "    <path d=\"M18.56 5.44l.94 2.06.94-2.06 2.06-.94-2.06-.94-.94-2.06-.94 2.06-2.06.94zm-11 1L8.5 8.5l.94-2.06 2.06-.94-2.06-.94L8.5 2.5l-.94 2.06-2.06.94zm10 10l.94 2.06.94-2.06 2.06-.94-2.06-.94-.94-2.06-.94 2.06-2.06.94z\"/><path d=\"M17.41 7.96l-1.37-1.37c-.4-.4-.92-.59-1.43-.59-.52 0-1.04.2-1.43.59L10.3 9.45l-7.72 7.72c-.78.78-.78 2.05 0 2.83L4 21.41c.39.39.9.59 1.41.59.51 0 1.02-.2 1.41-.59l7.78-7.78 2.81-2.81c.8-.78.8-2.07 0-2.86zM5.41 20L4 18.59l7.72-7.72 1.47 1.35L5.41 20z\"/>\n",
              "  </svg>\n",
              "      </button>\n",
              "      \n",
              "  <style>\n",
              "    .colab-df-container {\n",
              "      display:flex;\n",
              "      flex-wrap:wrap;\n",
              "      gap: 12px;\n",
              "    }\n",
              "\n",
              "    .colab-df-convert {\n",
              "      background-color: #E8F0FE;\n",
              "      border: none;\n",
              "      border-radius: 50%;\n",
              "      cursor: pointer;\n",
              "      display: none;\n",
              "      fill: #1967D2;\n",
              "      height: 32px;\n",
              "      padding: 0 0 0 0;\n",
              "      width: 32px;\n",
              "    }\n",
              "\n",
              "    .colab-df-convert:hover {\n",
              "      background-color: #E2EBFA;\n",
              "      box-shadow: 0px 1px 2px rgba(60, 64, 67, 0.3), 0px 1px 3px 1px rgba(60, 64, 67, 0.15);\n",
              "      fill: #174EA6;\n",
              "    }\n",
              "\n",
              "    [theme=dark] .colab-df-convert {\n",
              "      background-color: #3B4455;\n",
              "      fill: #D2E3FC;\n",
              "    }\n",
              "\n",
              "    [theme=dark] .colab-df-convert:hover {\n",
              "      background-color: #434B5C;\n",
              "      box-shadow: 0px 1px 3px 1px rgba(0, 0, 0, 0.15);\n",
              "      filter: drop-shadow(0px 1px 2px rgba(0, 0, 0, 0.3));\n",
              "      fill: #FFFFFF;\n",
              "    }\n",
              "  </style>\n",
              "\n",
              "      <script>\n",
              "        const buttonEl =\n",
              "          document.querySelector('#df-a049d032-17b7-42c7-b0d8-419da2c4dccd button.colab-df-convert');\n",
              "        buttonEl.style.display =\n",
              "          google.colab.kernel.accessAllowed ? 'block' : 'none';\n",
              "\n",
              "        async function convertToInteractive(key) {\n",
              "          const element = document.querySelector('#df-a049d032-17b7-42c7-b0d8-419da2c4dccd');\n",
              "          const dataTable =\n",
              "            await google.colab.kernel.invokeFunction('convertToInteractive',\n",
              "                                                     [key], {});\n",
              "          if (!dataTable) return;\n",
              "\n",
              "          const docLinkHtml = 'Like what you see? Visit the ' +\n",
              "            '<a target=\"_blank\" href=https://colab.research.google.com/notebooks/data_table.ipynb>data table notebook</a>'\n",
              "            + ' to learn more about interactive tables.';\n",
              "          element.innerHTML = '';\n",
              "          dataTable['output_type'] = 'display_data';\n",
              "          await google.colab.output.renderOutput(dataTable, element);\n",
              "          const docLink = document.createElement('div');\n",
              "          docLink.innerHTML = docLinkHtml;\n",
              "          element.appendChild(docLink);\n",
              "        }\n",
              "      </script>\n",
              "    </div>\n",
              "  </div>\n",
              "  "
            ]
          },
          "metadata": {},
          "execution_count": 37
        }
      ]
    },
    {
      "cell_type": "code",
      "source": [
        "vif_info = pd.DataFrame()\n",
        "vif_info['VIF'] = [variance_inflation_factor(X.values, i) for i in range(X.shape[1])]\n",
        "vif_info['Column'] = X.columns\n",
        "vif_info.sort_values('VIF', ascending=False)"
      ],
      "metadata": {
        "execution": {
          "iopub.status.busy": "2022-11-18T15:28:37.336321Z",
          "iopub.execute_input": "2022-11-18T15:28:37.337053Z",
          "iopub.status.idle": "2022-11-18T15:28:38.880097Z",
          "shell.execute_reply.started": "2022-11-18T15:28:37.337015Z",
          "shell.execute_reply": "2022-11-18T15:28:38.878985Z"
        },
        "trusted": true,
        "id": "ue-r3fBJeoD3",
        "outputId": "b1aed596-750d-4074-be08-6d7e71853b80",
        "colab": {
          "base_uri": "https://localhost:8080/",
          "height": 457
        }
      },
      "execution_count": 38,
      "outputs": [
        {
          "output_type": "execute_result",
          "data": {
            "text/plain": [
              "            VIF               Column\n",
              "12  5841.913684           dimensions\n",
              "6    440.029467         displacement\n",
              "4     59.856588                 make\n",
              "7     49.280218             cylinder\n",
              "8     27.470442             gear_box\n",
              "10    17.696638         gross_weight\n",
              "11    16.774833          ncap_rating\n",
              "5      7.402223              airbags\n",
              "9      3.343211       turning_radius\n",
              "1      1.266543           age_of_car\n",
              "0      1.097620        policy_tenure\n",
              "2      1.036585  age_of_policyholder\n",
              "3      1.018271   population_density"
            ],
            "text/html": [
              "\n",
              "  <div id=\"df-1df27934-5a17-480b-8f45-20fbf424ee14\">\n",
              "    <div class=\"colab-df-container\">\n",
              "      <div>\n",
              "<style scoped>\n",
              "    .dataframe tbody tr th:only-of-type {\n",
              "        vertical-align: middle;\n",
              "    }\n",
              "\n",
              "    .dataframe tbody tr th {\n",
              "        vertical-align: top;\n",
              "    }\n",
              "\n",
              "    .dataframe thead th {\n",
              "        text-align: right;\n",
              "    }\n",
              "</style>\n",
              "<table border=\"1\" class=\"dataframe\">\n",
              "  <thead>\n",
              "    <tr style=\"text-align: right;\">\n",
              "      <th></th>\n",
              "      <th>VIF</th>\n",
              "      <th>Column</th>\n",
              "    </tr>\n",
              "  </thead>\n",
              "  <tbody>\n",
              "    <tr>\n",
              "      <th>12</th>\n",
              "      <td>5841.913684</td>\n",
              "      <td>dimensions</td>\n",
              "    </tr>\n",
              "    <tr>\n",
              "      <th>6</th>\n",
              "      <td>440.029467</td>\n",
              "      <td>displacement</td>\n",
              "    </tr>\n",
              "    <tr>\n",
              "      <th>4</th>\n",
              "      <td>59.856588</td>\n",
              "      <td>make</td>\n",
              "    </tr>\n",
              "    <tr>\n",
              "      <th>7</th>\n",
              "      <td>49.280218</td>\n",
              "      <td>cylinder</td>\n",
              "    </tr>\n",
              "    <tr>\n",
              "      <th>8</th>\n",
              "      <td>27.470442</td>\n",
              "      <td>gear_box</td>\n",
              "    </tr>\n",
              "    <tr>\n",
              "      <th>10</th>\n",
              "      <td>17.696638</td>\n",
              "      <td>gross_weight</td>\n",
              "    </tr>\n",
              "    <tr>\n",
              "      <th>11</th>\n",
              "      <td>16.774833</td>\n",
              "      <td>ncap_rating</td>\n",
              "    </tr>\n",
              "    <tr>\n",
              "      <th>5</th>\n",
              "      <td>7.402223</td>\n",
              "      <td>airbags</td>\n",
              "    </tr>\n",
              "    <tr>\n",
              "      <th>9</th>\n",
              "      <td>3.343211</td>\n",
              "      <td>turning_radius</td>\n",
              "    </tr>\n",
              "    <tr>\n",
              "      <th>1</th>\n",
              "      <td>1.266543</td>\n",
              "      <td>age_of_car</td>\n",
              "    </tr>\n",
              "    <tr>\n",
              "      <th>0</th>\n",
              "      <td>1.097620</td>\n",
              "      <td>policy_tenure</td>\n",
              "    </tr>\n",
              "    <tr>\n",
              "      <th>2</th>\n",
              "      <td>1.036585</td>\n",
              "      <td>age_of_policyholder</td>\n",
              "    </tr>\n",
              "    <tr>\n",
              "      <th>3</th>\n",
              "      <td>1.018271</td>\n",
              "      <td>population_density</td>\n",
              "    </tr>\n",
              "  </tbody>\n",
              "</table>\n",
              "</div>\n",
              "      <button class=\"colab-df-convert\" onclick=\"convertToInteractive('df-1df27934-5a17-480b-8f45-20fbf424ee14')\"\n",
              "              title=\"Convert this dataframe to an interactive table.\"\n",
              "              style=\"display:none;\">\n",
              "        \n",
              "  <svg xmlns=\"http://www.w3.org/2000/svg\" height=\"24px\"viewBox=\"0 0 24 24\"\n",
              "       width=\"24px\">\n",
              "    <path d=\"M0 0h24v24H0V0z\" fill=\"none\"/>\n",
              "    <path d=\"M18.56 5.44l.94 2.06.94-2.06 2.06-.94-2.06-.94-.94-2.06-.94 2.06-2.06.94zm-11 1L8.5 8.5l.94-2.06 2.06-.94-2.06-.94L8.5 2.5l-.94 2.06-2.06.94zm10 10l.94 2.06.94-2.06 2.06-.94-2.06-.94-.94-2.06-.94 2.06-2.06.94z\"/><path d=\"M17.41 7.96l-1.37-1.37c-.4-.4-.92-.59-1.43-.59-.52 0-1.04.2-1.43.59L10.3 9.45l-7.72 7.72c-.78.78-.78 2.05 0 2.83L4 21.41c.39.39.9.59 1.41.59.51 0 1.02-.2 1.41-.59l7.78-7.78 2.81-2.81c.8-.78.8-2.07 0-2.86zM5.41 20L4 18.59l7.72-7.72 1.47 1.35L5.41 20z\"/>\n",
              "  </svg>\n",
              "      </button>\n",
              "      \n",
              "  <style>\n",
              "    .colab-df-container {\n",
              "      display:flex;\n",
              "      flex-wrap:wrap;\n",
              "      gap: 12px;\n",
              "    }\n",
              "\n",
              "    .colab-df-convert {\n",
              "      background-color: #E8F0FE;\n",
              "      border: none;\n",
              "      border-radius: 50%;\n",
              "      cursor: pointer;\n",
              "      display: none;\n",
              "      fill: #1967D2;\n",
              "      height: 32px;\n",
              "      padding: 0 0 0 0;\n",
              "      width: 32px;\n",
              "    }\n",
              "\n",
              "    .colab-df-convert:hover {\n",
              "      background-color: #E2EBFA;\n",
              "      box-shadow: 0px 1px 2px rgba(60, 64, 67, 0.3), 0px 1px 3px 1px rgba(60, 64, 67, 0.15);\n",
              "      fill: #174EA6;\n",
              "    }\n",
              "\n",
              "    [theme=dark] .colab-df-convert {\n",
              "      background-color: #3B4455;\n",
              "      fill: #D2E3FC;\n",
              "    }\n",
              "\n",
              "    [theme=dark] .colab-df-convert:hover {\n",
              "      background-color: #434B5C;\n",
              "      box-shadow: 0px 1px 3px 1px rgba(0, 0, 0, 0.15);\n",
              "      filter: drop-shadow(0px 1px 2px rgba(0, 0, 0, 0.3));\n",
              "      fill: #FFFFFF;\n",
              "    }\n",
              "  </style>\n",
              "\n",
              "      <script>\n",
              "        const buttonEl =\n",
              "          document.querySelector('#df-1df27934-5a17-480b-8f45-20fbf424ee14 button.colab-df-convert');\n",
              "        buttonEl.style.display =\n",
              "          google.colab.kernel.accessAllowed ? 'block' : 'none';\n",
              "\n",
              "        async function convertToInteractive(key) {\n",
              "          const element = document.querySelector('#df-1df27934-5a17-480b-8f45-20fbf424ee14');\n",
              "          const dataTable =\n",
              "            await google.colab.kernel.invokeFunction('convertToInteractive',\n",
              "                                                     [key], {});\n",
              "          if (!dataTable) return;\n",
              "\n",
              "          const docLinkHtml = 'Like what you see? Visit the ' +\n",
              "            '<a target=\"_blank\" href=https://colab.research.google.com/notebooks/data_table.ipynb>data table notebook</a>'\n",
              "            + ' to learn more about interactive tables.';\n",
              "          element.innerHTML = '';\n",
              "          dataTable['output_type'] = 'display_data';\n",
              "          await google.colab.output.renderOutput(dataTable, element);\n",
              "          const docLink = document.createElement('div');\n",
              "          docLink.innerHTML = docLinkHtml;\n",
              "          element.appendChild(docLink);\n",
              "        }\n",
              "      </script>\n",
              "    </div>\n",
              "  </div>\n",
              "  "
            ]
          },
          "metadata": {},
          "execution_count": 38
        }
      ]
    },
    {
      "cell_type": "code",
      "source": [
        "X.head()"
      ],
      "metadata": {
        "colab": {
          "base_uri": "https://localhost:8080/",
          "height": 301
        },
        "id": "sSa2uCKXEa1F",
        "outputId": "a6d8c471-017e-4f9a-a537-5fc6892ce395"
      },
      "execution_count": 39,
      "outputs": [
        {
          "output_type": "execute_result",
          "data": {
            "text/plain": [
              "           policy_tenure  age_of_car  age_of_policyholder  population_density  \\\n",
              "policy_id                                                                       \n",
              "ID00001         0.515874        0.05             0.644231                4990   \n",
              "ID00002         0.672619        0.02             0.375000               27003   \n",
              "ID00003         0.841110        0.02             0.384615                4076   \n",
              "ID00004         0.900277        0.11             0.432692               21622   \n",
              "ID00005         0.596403        0.11             0.634615               34738   \n",
              "\n",
              "           make  airbags  displacement  cylinder  gear_box  turning_radius  \\\n",
              "policy_id                                                                    \n",
              "ID00001       1        2           796         3         5             4.6   \n",
              "ID00002       1        2           796         3         5             4.6   \n",
              "ID00003       1        2           796         3         5             4.6   \n",
              "ID00004       1        2          1197         4         5             4.8   \n",
              "ID00005       2        2           999         3         5             5.0   \n",
              "\n",
              "           gross_weight  ncap_rating   dimensions  \n",
              "policy_id                                          \n",
              "ID00001            1185            0   7698283125  \n",
              "ID00002            1185            0   7698283125  \n",
              "ID00003            1185            0   7698283125  \n",
              "ID00004            1335            2  10500957375  \n",
              "ID00005            1155            2   8777961010  "
            ],
            "text/html": [
              "\n",
              "  <div id=\"df-b9dfd014-4bd0-4f34-8425-b148332e21ec\">\n",
              "    <div class=\"colab-df-container\">\n",
              "      <div>\n",
              "<style scoped>\n",
              "    .dataframe tbody tr th:only-of-type {\n",
              "        vertical-align: middle;\n",
              "    }\n",
              "\n",
              "    .dataframe tbody tr th {\n",
              "        vertical-align: top;\n",
              "    }\n",
              "\n",
              "    .dataframe thead th {\n",
              "        text-align: right;\n",
              "    }\n",
              "</style>\n",
              "<table border=\"1\" class=\"dataframe\">\n",
              "  <thead>\n",
              "    <tr style=\"text-align: right;\">\n",
              "      <th></th>\n",
              "      <th>policy_tenure</th>\n",
              "      <th>age_of_car</th>\n",
              "      <th>age_of_policyholder</th>\n",
              "      <th>population_density</th>\n",
              "      <th>make</th>\n",
              "      <th>airbags</th>\n",
              "      <th>displacement</th>\n",
              "      <th>cylinder</th>\n",
              "      <th>gear_box</th>\n",
              "      <th>turning_radius</th>\n",
              "      <th>gross_weight</th>\n",
              "      <th>ncap_rating</th>\n",
              "      <th>dimensions</th>\n",
              "    </tr>\n",
              "    <tr>\n",
              "      <th>policy_id</th>\n",
              "      <th></th>\n",
              "      <th></th>\n",
              "      <th></th>\n",
              "      <th></th>\n",
              "      <th></th>\n",
              "      <th></th>\n",
              "      <th></th>\n",
              "      <th></th>\n",
              "      <th></th>\n",
              "      <th></th>\n",
              "      <th></th>\n",
              "      <th></th>\n",
              "      <th></th>\n",
              "    </tr>\n",
              "  </thead>\n",
              "  <tbody>\n",
              "    <tr>\n",
              "      <th>ID00001</th>\n",
              "      <td>0.515874</td>\n",
              "      <td>0.05</td>\n",
              "      <td>0.644231</td>\n",
              "      <td>4990</td>\n",
              "      <td>1</td>\n",
              "      <td>2</td>\n",
              "      <td>796</td>\n",
              "      <td>3</td>\n",
              "      <td>5</td>\n",
              "      <td>4.6</td>\n",
              "      <td>1185</td>\n",
              "      <td>0</td>\n",
              "      <td>7698283125</td>\n",
              "    </tr>\n",
              "    <tr>\n",
              "      <th>ID00002</th>\n",
              "      <td>0.672619</td>\n",
              "      <td>0.02</td>\n",
              "      <td>0.375000</td>\n",
              "      <td>27003</td>\n",
              "      <td>1</td>\n",
              "      <td>2</td>\n",
              "      <td>796</td>\n",
              "      <td>3</td>\n",
              "      <td>5</td>\n",
              "      <td>4.6</td>\n",
              "      <td>1185</td>\n",
              "      <td>0</td>\n",
              "      <td>7698283125</td>\n",
              "    </tr>\n",
              "    <tr>\n",
              "      <th>ID00003</th>\n",
              "      <td>0.841110</td>\n",
              "      <td>0.02</td>\n",
              "      <td>0.384615</td>\n",
              "      <td>4076</td>\n",
              "      <td>1</td>\n",
              "      <td>2</td>\n",
              "      <td>796</td>\n",
              "      <td>3</td>\n",
              "      <td>5</td>\n",
              "      <td>4.6</td>\n",
              "      <td>1185</td>\n",
              "      <td>0</td>\n",
              "      <td>7698283125</td>\n",
              "    </tr>\n",
              "    <tr>\n",
              "      <th>ID00004</th>\n",
              "      <td>0.900277</td>\n",
              "      <td>0.11</td>\n",
              "      <td>0.432692</td>\n",
              "      <td>21622</td>\n",
              "      <td>1</td>\n",
              "      <td>2</td>\n",
              "      <td>1197</td>\n",
              "      <td>4</td>\n",
              "      <td>5</td>\n",
              "      <td>4.8</td>\n",
              "      <td>1335</td>\n",
              "      <td>2</td>\n",
              "      <td>10500957375</td>\n",
              "    </tr>\n",
              "    <tr>\n",
              "      <th>ID00005</th>\n",
              "      <td>0.596403</td>\n",
              "      <td>0.11</td>\n",
              "      <td>0.634615</td>\n",
              "      <td>34738</td>\n",
              "      <td>2</td>\n",
              "      <td>2</td>\n",
              "      <td>999</td>\n",
              "      <td>3</td>\n",
              "      <td>5</td>\n",
              "      <td>5.0</td>\n",
              "      <td>1155</td>\n",
              "      <td>2</td>\n",
              "      <td>8777961010</td>\n",
              "    </tr>\n",
              "  </tbody>\n",
              "</table>\n",
              "</div>\n",
              "      <button class=\"colab-df-convert\" onclick=\"convertToInteractive('df-b9dfd014-4bd0-4f34-8425-b148332e21ec')\"\n",
              "              title=\"Convert this dataframe to an interactive table.\"\n",
              "              style=\"display:none;\">\n",
              "        \n",
              "  <svg xmlns=\"http://www.w3.org/2000/svg\" height=\"24px\"viewBox=\"0 0 24 24\"\n",
              "       width=\"24px\">\n",
              "    <path d=\"M0 0h24v24H0V0z\" fill=\"none\"/>\n",
              "    <path d=\"M18.56 5.44l.94 2.06.94-2.06 2.06-.94-2.06-.94-.94-2.06-.94 2.06-2.06.94zm-11 1L8.5 8.5l.94-2.06 2.06-.94-2.06-.94L8.5 2.5l-.94 2.06-2.06.94zm10 10l.94 2.06.94-2.06 2.06-.94-2.06-.94-.94-2.06-.94 2.06-2.06.94z\"/><path d=\"M17.41 7.96l-1.37-1.37c-.4-.4-.92-.59-1.43-.59-.52 0-1.04.2-1.43.59L10.3 9.45l-7.72 7.72c-.78.78-.78 2.05 0 2.83L4 21.41c.39.39.9.59 1.41.59.51 0 1.02-.2 1.41-.59l7.78-7.78 2.81-2.81c.8-.78.8-2.07 0-2.86zM5.41 20L4 18.59l7.72-7.72 1.47 1.35L5.41 20z\"/>\n",
              "  </svg>\n",
              "      </button>\n",
              "      \n",
              "  <style>\n",
              "    .colab-df-container {\n",
              "      display:flex;\n",
              "      flex-wrap:wrap;\n",
              "      gap: 12px;\n",
              "    }\n",
              "\n",
              "    .colab-df-convert {\n",
              "      background-color: #E8F0FE;\n",
              "      border: none;\n",
              "      border-radius: 50%;\n",
              "      cursor: pointer;\n",
              "      display: none;\n",
              "      fill: #1967D2;\n",
              "      height: 32px;\n",
              "      padding: 0 0 0 0;\n",
              "      width: 32px;\n",
              "    }\n",
              "\n",
              "    .colab-df-convert:hover {\n",
              "      background-color: #E2EBFA;\n",
              "      box-shadow: 0px 1px 2px rgba(60, 64, 67, 0.3), 0px 1px 3px 1px rgba(60, 64, 67, 0.15);\n",
              "      fill: #174EA6;\n",
              "    }\n",
              "\n",
              "    [theme=dark] .colab-df-convert {\n",
              "      background-color: #3B4455;\n",
              "      fill: #D2E3FC;\n",
              "    }\n",
              "\n",
              "    [theme=dark] .colab-df-convert:hover {\n",
              "      background-color: #434B5C;\n",
              "      box-shadow: 0px 1px 3px 1px rgba(0, 0, 0, 0.15);\n",
              "      filter: drop-shadow(0px 1px 2px rgba(0, 0, 0, 0.3));\n",
              "      fill: #FFFFFF;\n",
              "    }\n",
              "  </style>\n",
              "\n",
              "      <script>\n",
              "        const buttonEl =\n",
              "          document.querySelector('#df-b9dfd014-4bd0-4f34-8425-b148332e21ec button.colab-df-convert');\n",
              "        buttonEl.style.display =\n",
              "          google.colab.kernel.accessAllowed ? 'block' : 'none';\n",
              "\n",
              "        async function convertToInteractive(key) {\n",
              "          const element = document.querySelector('#df-b9dfd014-4bd0-4f34-8425-b148332e21ec');\n",
              "          const dataTable =\n",
              "            await google.colab.kernel.invokeFunction('convertToInteractive',\n",
              "                                                     [key], {});\n",
              "          if (!dataTable) return;\n",
              "\n",
              "          const docLinkHtml = 'Like what you see? Visit the ' +\n",
              "            '<a target=\"_blank\" href=https://colab.research.google.com/notebooks/data_table.ipynb>data table notebook</a>'\n",
              "            + ' to learn more about interactive tables.';\n",
              "          element.innerHTML = '';\n",
              "          dataTable['output_type'] = 'display_data';\n",
              "          await google.colab.output.renderOutput(dataTable, element);\n",
              "          const docLink = document.createElement('div');\n",
              "          docLink.innerHTML = docLinkHtml;\n",
              "          element.appendChild(docLink);\n",
              "        }\n",
              "      </script>\n",
              "    </div>\n",
              "  </div>\n",
              "  "
            ]
          },
          "metadata": {},
          "execution_count": 39
        }
      ]
    },
    {
      "cell_type": "markdown",
      "source": [
        "Still the dimensions feature has a high VIF. Therefore I will try to remove it and see its effect on the rest of the variables."
      ],
      "metadata": {
        "id": "MlOiGQQMDoiF"
      }
    },
    {
      "cell_type": "code",
      "source": [
        "X = X.drop(['dimensions'], axis=1)"
      ],
      "metadata": {
        "execution": {
          "iopub.status.busy": "2022-11-18T15:28:45.842155Z",
          "iopub.execute_input": "2022-11-18T15:28:45.842909Z",
          "iopub.status.idle": "2022-11-18T15:28:45.872680Z",
          "shell.execute_reply.started": "2022-11-18T15:28:45.842872Z",
          "shell.execute_reply": "2022-11-18T15:28:45.871621Z"
        },
        "trusted": true,
        "id": "alHApkT3eoD4"
      },
      "execution_count": 40,
      "outputs": []
    },
    {
      "cell_type": "code",
      "source": [
        "X.head()"
      ],
      "metadata": {
        "colab": {
          "base_uri": "https://localhost:8080/",
          "height": 301
        },
        "id": "Yo0SlHqmENkD",
        "outputId": "c58d6f1b-450f-4a39-94d2-d8647823ddbc"
      },
      "execution_count": 41,
      "outputs": [
        {
          "output_type": "execute_result",
          "data": {
            "text/plain": [
              "           policy_tenure  age_of_car  age_of_policyholder  population_density  \\\n",
              "policy_id                                                                       \n",
              "ID00001         0.515874        0.05             0.644231                4990   \n",
              "ID00002         0.672619        0.02             0.375000               27003   \n",
              "ID00003         0.841110        0.02             0.384615                4076   \n",
              "ID00004         0.900277        0.11             0.432692               21622   \n",
              "ID00005         0.596403        0.11             0.634615               34738   \n",
              "\n",
              "           make  airbags  displacement  cylinder  gear_box  turning_radius  \\\n",
              "policy_id                                                                    \n",
              "ID00001       1        2           796         3         5             4.6   \n",
              "ID00002       1        2           796         3         5             4.6   \n",
              "ID00003       1        2           796         3         5             4.6   \n",
              "ID00004       1        2          1197         4         5             4.8   \n",
              "ID00005       2        2           999         3         5             5.0   \n",
              "\n",
              "           gross_weight  ncap_rating  \n",
              "policy_id                             \n",
              "ID00001            1185            0  \n",
              "ID00002            1185            0  \n",
              "ID00003            1185            0  \n",
              "ID00004            1335            2  \n",
              "ID00005            1155            2  "
            ],
            "text/html": [
              "\n",
              "  <div id=\"df-b744ea04-e6b7-41bb-b2c8-b0e44e13643b\">\n",
              "    <div class=\"colab-df-container\">\n",
              "      <div>\n",
              "<style scoped>\n",
              "    .dataframe tbody tr th:only-of-type {\n",
              "        vertical-align: middle;\n",
              "    }\n",
              "\n",
              "    .dataframe tbody tr th {\n",
              "        vertical-align: top;\n",
              "    }\n",
              "\n",
              "    .dataframe thead th {\n",
              "        text-align: right;\n",
              "    }\n",
              "</style>\n",
              "<table border=\"1\" class=\"dataframe\">\n",
              "  <thead>\n",
              "    <tr style=\"text-align: right;\">\n",
              "      <th></th>\n",
              "      <th>policy_tenure</th>\n",
              "      <th>age_of_car</th>\n",
              "      <th>age_of_policyholder</th>\n",
              "      <th>population_density</th>\n",
              "      <th>make</th>\n",
              "      <th>airbags</th>\n",
              "      <th>displacement</th>\n",
              "      <th>cylinder</th>\n",
              "      <th>gear_box</th>\n",
              "      <th>turning_radius</th>\n",
              "      <th>gross_weight</th>\n",
              "      <th>ncap_rating</th>\n",
              "    </tr>\n",
              "    <tr>\n",
              "      <th>policy_id</th>\n",
              "      <th></th>\n",
              "      <th></th>\n",
              "      <th></th>\n",
              "      <th></th>\n",
              "      <th></th>\n",
              "      <th></th>\n",
              "      <th></th>\n",
              "      <th></th>\n",
              "      <th></th>\n",
              "      <th></th>\n",
              "      <th></th>\n",
              "      <th></th>\n",
              "    </tr>\n",
              "  </thead>\n",
              "  <tbody>\n",
              "    <tr>\n",
              "      <th>ID00001</th>\n",
              "      <td>0.515874</td>\n",
              "      <td>0.05</td>\n",
              "      <td>0.644231</td>\n",
              "      <td>4990</td>\n",
              "      <td>1</td>\n",
              "      <td>2</td>\n",
              "      <td>796</td>\n",
              "      <td>3</td>\n",
              "      <td>5</td>\n",
              "      <td>4.6</td>\n",
              "      <td>1185</td>\n",
              "      <td>0</td>\n",
              "    </tr>\n",
              "    <tr>\n",
              "      <th>ID00002</th>\n",
              "      <td>0.672619</td>\n",
              "      <td>0.02</td>\n",
              "      <td>0.375000</td>\n",
              "      <td>27003</td>\n",
              "      <td>1</td>\n",
              "      <td>2</td>\n",
              "      <td>796</td>\n",
              "      <td>3</td>\n",
              "      <td>5</td>\n",
              "      <td>4.6</td>\n",
              "      <td>1185</td>\n",
              "      <td>0</td>\n",
              "    </tr>\n",
              "    <tr>\n",
              "      <th>ID00003</th>\n",
              "      <td>0.841110</td>\n",
              "      <td>0.02</td>\n",
              "      <td>0.384615</td>\n",
              "      <td>4076</td>\n",
              "      <td>1</td>\n",
              "      <td>2</td>\n",
              "      <td>796</td>\n",
              "      <td>3</td>\n",
              "      <td>5</td>\n",
              "      <td>4.6</td>\n",
              "      <td>1185</td>\n",
              "      <td>0</td>\n",
              "    </tr>\n",
              "    <tr>\n",
              "      <th>ID00004</th>\n",
              "      <td>0.900277</td>\n",
              "      <td>0.11</td>\n",
              "      <td>0.432692</td>\n",
              "      <td>21622</td>\n",
              "      <td>1</td>\n",
              "      <td>2</td>\n",
              "      <td>1197</td>\n",
              "      <td>4</td>\n",
              "      <td>5</td>\n",
              "      <td>4.8</td>\n",
              "      <td>1335</td>\n",
              "      <td>2</td>\n",
              "    </tr>\n",
              "    <tr>\n",
              "      <th>ID00005</th>\n",
              "      <td>0.596403</td>\n",
              "      <td>0.11</td>\n",
              "      <td>0.634615</td>\n",
              "      <td>34738</td>\n",
              "      <td>2</td>\n",
              "      <td>2</td>\n",
              "      <td>999</td>\n",
              "      <td>3</td>\n",
              "      <td>5</td>\n",
              "      <td>5.0</td>\n",
              "      <td>1155</td>\n",
              "      <td>2</td>\n",
              "    </tr>\n",
              "  </tbody>\n",
              "</table>\n",
              "</div>\n",
              "      <button class=\"colab-df-convert\" onclick=\"convertToInteractive('df-b744ea04-e6b7-41bb-b2c8-b0e44e13643b')\"\n",
              "              title=\"Convert this dataframe to an interactive table.\"\n",
              "              style=\"display:none;\">\n",
              "        \n",
              "  <svg xmlns=\"http://www.w3.org/2000/svg\" height=\"24px\"viewBox=\"0 0 24 24\"\n",
              "       width=\"24px\">\n",
              "    <path d=\"M0 0h24v24H0V0z\" fill=\"none\"/>\n",
              "    <path d=\"M18.56 5.44l.94 2.06.94-2.06 2.06-.94-2.06-.94-.94-2.06-.94 2.06-2.06.94zm-11 1L8.5 8.5l.94-2.06 2.06-.94-2.06-.94L8.5 2.5l-.94 2.06-2.06.94zm10 10l.94 2.06.94-2.06 2.06-.94-2.06-.94-.94-2.06-.94 2.06-2.06.94z\"/><path d=\"M17.41 7.96l-1.37-1.37c-.4-.4-.92-.59-1.43-.59-.52 0-1.04.2-1.43.59L10.3 9.45l-7.72 7.72c-.78.78-.78 2.05 0 2.83L4 21.41c.39.39.9.59 1.41.59.51 0 1.02-.2 1.41-.59l7.78-7.78 2.81-2.81c.8-.78.8-2.07 0-2.86zM5.41 20L4 18.59l7.72-7.72 1.47 1.35L5.41 20z\"/>\n",
              "  </svg>\n",
              "      </button>\n",
              "      \n",
              "  <style>\n",
              "    .colab-df-container {\n",
              "      display:flex;\n",
              "      flex-wrap:wrap;\n",
              "      gap: 12px;\n",
              "    }\n",
              "\n",
              "    .colab-df-convert {\n",
              "      background-color: #E8F0FE;\n",
              "      border: none;\n",
              "      border-radius: 50%;\n",
              "      cursor: pointer;\n",
              "      display: none;\n",
              "      fill: #1967D2;\n",
              "      height: 32px;\n",
              "      padding: 0 0 0 0;\n",
              "      width: 32px;\n",
              "    }\n",
              "\n",
              "    .colab-df-convert:hover {\n",
              "      background-color: #E2EBFA;\n",
              "      box-shadow: 0px 1px 2px rgba(60, 64, 67, 0.3), 0px 1px 3px 1px rgba(60, 64, 67, 0.15);\n",
              "      fill: #174EA6;\n",
              "    }\n",
              "\n",
              "    [theme=dark] .colab-df-convert {\n",
              "      background-color: #3B4455;\n",
              "      fill: #D2E3FC;\n",
              "    }\n",
              "\n",
              "    [theme=dark] .colab-df-convert:hover {\n",
              "      background-color: #434B5C;\n",
              "      box-shadow: 0px 1px 3px 1px rgba(0, 0, 0, 0.15);\n",
              "      filter: drop-shadow(0px 1px 2px rgba(0, 0, 0, 0.3));\n",
              "      fill: #FFFFFF;\n",
              "    }\n",
              "  </style>\n",
              "\n",
              "      <script>\n",
              "        const buttonEl =\n",
              "          document.querySelector('#df-b744ea04-e6b7-41bb-b2c8-b0e44e13643b button.colab-df-convert');\n",
              "        buttonEl.style.display =\n",
              "          google.colab.kernel.accessAllowed ? 'block' : 'none';\n",
              "\n",
              "        async function convertToInteractive(key) {\n",
              "          const element = document.querySelector('#df-b744ea04-e6b7-41bb-b2c8-b0e44e13643b');\n",
              "          const dataTable =\n",
              "            await google.colab.kernel.invokeFunction('convertToInteractive',\n",
              "                                                     [key], {});\n",
              "          if (!dataTable) return;\n",
              "\n",
              "          const docLinkHtml = 'Like what you see? Visit the ' +\n",
              "            '<a target=\"_blank\" href=https://colab.research.google.com/notebooks/data_table.ipynb>data table notebook</a>'\n",
              "            + ' to learn more about interactive tables.';\n",
              "          element.innerHTML = '';\n",
              "          dataTable['output_type'] = 'display_data';\n",
              "          await google.colab.output.renderOutput(dataTable, element);\n",
              "          const docLink = document.createElement('div');\n",
              "          docLink.innerHTML = docLinkHtml;\n",
              "          element.appendChild(docLink);\n",
              "        }\n",
              "      </script>\n",
              "    </div>\n",
              "  </div>\n",
              "  "
            ]
          },
          "metadata": {},
          "execution_count": 41
        }
      ]
    },
    {
      "cell_type": "code",
      "source": [
        "vif_info = pd.DataFrame()\n",
        "vif_info['VIF'] = [variance_inflation_factor(X.values, i) for i in range(X.shape[1])]\n",
        "vif_info['Column'] = X.columns\n",
        "vif_info.sort_values('VIF', ascending=False)"
      ],
      "metadata": {
        "colab": {
          "base_uri": "https://localhost:8080/",
          "height": 425
        },
        "id": "lyLLSlBxEGrB",
        "outputId": "388ec61c-d5dc-4adc-e0e5-bfade4d47337"
      },
      "execution_count": 42,
      "outputs": [
        {
          "output_type": "execute_result",
          "data": {
            "text/plain": [
              "            VIF               Column\n",
              "8   2437.081909             gear_box\n",
              "6   2352.422401         displacement\n",
              "9   1514.663647       turning_radius\n",
              "7   1513.012852             cylinder\n",
              "10   766.994712         gross_weight\n",
              "4     42.830949                 make\n",
              "11    40.084093          ncap_rating\n",
              "5     26.629979              airbags\n",
              "2     16.157367  age_of_policyholder\n",
              "0      3.486617        policy_tenure\n",
              "1      3.156065           age_of_car\n",
              "3      2.175453   population_density"
            ],
            "text/html": [
              "\n",
              "  <div id=\"df-8c8975c9-2ab2-4c48-ae99-2e3a9a358d2b\">\n",
              "    <div class=\"colab-df-container\">\n",
              "      <div>\n",
              "<style scoped>\n",
              "    .dataframe tbody tr th:only-of-type {\n",
              "        vertical-align: middle;\n",
              "    }\n",
              "\n",
              "    .dataframe tbody tr th {\n",
              "        vertical-align: top;\n",
              "    }\n",
              "\n",
              "    .dataframe thead th {\n",
              "        text-align: right;\n",
              "    }\n",
              "</style>\n",
              "<table border=\"1\" class=\"dataframe\">\n",
              "  <thead>\n",
              "    <tr style=\"text-align: right;\">\n",
              "      <th></th>\n",
              "      <th>VIF</th>\n",
              "      <th>Column</th>\n",
              "    </tr>\n",
              "  </thead>\n",
              "  <tbody>\n",
              "    <tr>\n",
              "      <th>8</th>\n",
              "      <td>2437.081909</td>\n",
              "      <td>gear_box</td>\n",
              "    </tr>\n",
              "    <tr>\n",
              "      <th>6</th>\n",
              "      <td>2352.422401</td>\n",
              "      <td>displacement</td>\n",
              "    </tr>\n",
              "    <tr>\n",
              "      <th>9</th>\n",
              "      <td>1514.663647</td>\n",
              "      <td>turning_radius</td>\n",
              "    </tr>\n",
              "    <tr>\n",
              "      <th>7</th>\n",
              "      <td>1513.012852</td>\n",
              "      <td>cylinder</td>\n",
              "    </tr>\n",
              "    <tr>\n",
              "      <th>10</th>\n",
              "      <td>766.994712</td>\n",
              "      <td>gross_weight</td>\n",
              "    </tr>\n",
              "    <tr>\n",
              "      <th>4</th>\n",
              "      <td>42.830949</td>\n",
              "      <td>make</td>\n",
              "    </tr>\n",
              "    <tr>\n",
              "      <th>11</th>\n",
              "      <td>40.084093</td>\n",
              "      <td>ncap_rating</td>\n",
              "    </tr>\n",
              "    <tr>\n",
              "      <th>5</th>\n",
              "      <td>26.629979</td>\n",
              "      <td>airbags</td>\n",
              "    </tr>\n",
              "    <tr>\n",
              "      <th>2</th>\n",
              "      <td>16.157367</td>\n",
              "      <td>age_of_policyholder</td>\n",
              "    </tr>\n",
              "    <tr>\n",
              "      <th>0</th>\n",
              "      <td>3.486617</td>\n",
              "      <td>policy_tenure</td>\n",
              "    </tr>\n",
              "    <tr>\n",
              "      <th>1</th>\n",
              "      <td>3.156065</td>\n",
              "      <td>age_of_car</td>\n",
              "    </tr>\n",
              "    <tr>\n",
              "      <th>3</th>\n",
              "      <td>2.175453</td>\n",
              "      <td>population_density</td>\n",
              "    </tr>\n",
              "  </tbody>\n",
              "</table>\n",
              "</div>\n",
              "      <button class=\"colab-df-convert\" onclick=\"convertToInteractive('df-8c8975c9-2ab2-4c48-ae99-2e3a9a358d2b')\"\n",
              "              title=\"Convert this dataframe to an interactive table.\"\n",
              "              style=\"display:none;\">\n",
              "        \n",
              "  <svg xmlns=\"http://www.w3.org/2000/svg\" height=\"24px\"viewBox=\"0 0 24 24\"\n",
              "       width=\"24px\">\n",
              "    <path d=\"M0 0h24v24H0V0z\" fill=\"none\"/>\n",
              "    <path d=\"M18.56 5.44l.94 2.06.94-2.06 2.06-.94-2.06-.94-.94-2.06-.94 2.06-2.06.94zm-11 1L8.5 8.5l.94-2.06 2.06-.94-2.06-.94L8.5 2.5l-.94 2.06-2.06.94zm10 10l.94 2.06.94-2.06 2.06-.94-2.06-.94-.94-2.06-.94 2.06-2.06.94z\"/><path d=\"M17.41 7.96l-1.37-1.37c-.4-.4-.92-.59-1.43-.59-.52 0-1.04.2-1.43.59L10.3 9.45l-7.72 7.72c-.78.78-.78 2.05 0 2.83L4 21.41c.39.39.9.59 1.41.59.51 0 1.02-.2 1.41-.59l7.78-7.78 2.81-2.81c.8-.78.8-2.07 0-2.86zM5.41 20L4 18.59l7.72-7.72 1.47 1.35L5.41 20z\"/>\n",
              "  </svg>\n",
              "      </button>\n",
              "      \n",
              "  <style>\n",
              "    .colab-df-container {\n",
              "      display:flex;\n",
              "      flex-wrap:wrap;\n",
              "      gap: 12px;\n",
              "    }\n",
              "\n",
              "    .colab-df-convert {\n",
              "      background-color: #E8F0FE;\n",
              "      border: none;\n",
              "      border-radius: 50%;\n",
              "      cursor: pointer;\n",
              "      display: none;\n",
              "      fill: #1967D2;\n",
              "      height: 32px;\n",
              "      padding: 0 0 0 0;\n",
              "      width: 32px;\n",
              "    }\n",
              "\n",
              "    .colab-df-convert:hover {\n",
              "      background-color: #E2EBFA;\n",
              "      box-shadow: 0px 1px 2px rgba(60, 64, 67, 0.3), 0px 1px 3px 1px rgba(60, 64, 67, 0.15);\n",
              "      fill: #174EA6;\n",
              "    }\n",
              "\n",
              "    [theme=dark] .colab-df-convert {\n",
              "      background-color: #3B4455;\n",
              "      fill: #D2E3FC;\n",
              "    }\n",
              "\n",
              "    [theme=dark] .colab-df-convert:hover {\n",
              "      background-color: #434B5C;\n",
              "      box-shadow: 0px 1px 3px 1px rgba(0, 0, 0, 0.15);\n",
              "      filter: drop-shadow(0px 1px 2px rgba(0, 0, 0, 0.3));\n",
              "      fill: #FFFFFF;\n",
              "    }\n",
              "  </style>\n",
              "\n",
              "      <script>\n",
              "        const buttonEl =\n",
              "          document.querySelector('#df-8c8975c9-2ab2-4c48-ae99-2e3a9a358d2b button.colab-df-convert');\n",
              "        buttonEl.style.display =\n",
              "          google.colab.kernel.accessAllowed ? 'block' : 'none';\n",
              "\n",
              "        async function convertToInteractive(key) {\n",
              "          const element = document.querySelector('#df-8c8975c9-2ab2-4c48-ae99-2e3a9a358d2b');\n",
              "          const dataTable =\n",
              "            await google.colab.kernel.invokeFunction('convertToInteractive',\n",
              "                                                     [key], {});\n",
              "          if (!dataTable) return;\n",
              "\n",
              "          const docLinkHtml = 'Like what you see? Visit the ' +\n",
              "            '<a target=\"_blank\" href=https://colab.research.google.com/notebooks/data_table.ipynb>data table notebook</a>'\n",
              "            + ' to learn more about interactive tables.';\n",
              "          element.innerHTML = '';\n",
              "          dataTable['output_type'] = 'display_data';\n",
              "          await google.colab.output.renderOutput(dataTable, element);\n",
              "          const docLink = document.createElement('div');\n",
              "          docLink.innerHTML = docLinkHtml;\n",
              "          element.appendChild(docLink);\n",
              "        }\n",
              "      </script>\n",
              "    </div>\n",
              "  </div>\n",
              "  "
            ]
          },
          "metadata": {},
          "execution_count": 42
        }
      ]
    },
    {
      "cell_type": "markdown",
      "source": [
        "Lets drop gear_box as well"
      ],
      "metadata": {
        "id": "8imoQpJqEopP"
      }
    },
    {
      "cell_type": "code",
      "source": [
        "X = X.drop(['gear_box'], axis=1)"
      ],
      "metadata": {
        "id": "WpFroctwEr7N"
      },
      "execution_count": 43,
      "outputs": []
    },
    {
      "cell_type": "code",
      "source": [
        "vif_info = pd.DataFrame()\n",
        "vif_info['VIF'] = [variance_inflation_factor(X.values, i) for i in range(X.shape[1])]\n",
        "vif_info['Column'] = X.columns\n",
        "vif_info.sort_values('VIF', ascending=False)"
      ],
      "metadata": {
        "colab": {
          "base_uri": "https://localhost:8080/",
          "height": 394
        },
        "id": "ZJjZJR78Ex4S",
        "outputId": "d0313f14-b9b8-489c-c76d-2fa64508aa18"
      },
      "execution_count": 44,
      "outputs": [
        {
          "output_type": "execute_result",
          "data": {
            "text/plain": [
              "            VIF               Column\n",
              "6   2226.913936         displacement\n",
              "7   1507.174999             cylinder\n",
              "8    351.406352       turning_radius\n",
              "9    313.529072         gross_weight\n",
              "10    39.509468          ncap_rating\n",
              "4     31.851024                 make\n",
              "5     26.348902              airbags\n",
              "2     16.153013  age_of_policyholder\n",
              "0      3.486402        policy_tenure\n",
              "1      3.146460           age_of_car\n",
              "3      2.175124   population_density"
            ],
            "text/html": [
              "\n",
              "  <div id=\"df-b4a83131-29f8-470a-8063-2448357ff251\">\n",
              "    <div class=\"colab-df-container\">\n",
              "      <div>\n",
              "<style scoped>\n",
              "    .dataframe tbody tr th:only-of-type {\n",
              "        vertical-align: middle;\n",
              "    }\n",
              "\n",
              "    .dataframe tbody tr th {\n",
              "        vertical-align: top;\n",
              "    }\n",
              "\n",
              "    .dataframe thead th {\n",
              "        text-align: right;\n",
              "    }\n",
              "</style>\n",
              "<table border=\"1\" class=\"dataframe\">\n",
              "  <thead>\n",
              "    <tr style=\"text-align: right;\">\n",
              "      <th></th>\n",
              "      <th>VIF</th>\n",
              "      <th>Column</th>\n",
              "    </tr>\n",
              "  </thead>\n",
              "  <tbody>\n",
              "    <tr>\n",
              "      <th>6</th>\n",
              "      <td>2226.913936</td>\n",
              "      <td>displacement</td>\n",
              "    </tr>\n",
              "    <tr>\n",
              "      <th>7</th>\n",
              "      <td>1507.174999</td>\n",
              "      <td>cylinder</td>\n",
              "    </tr>\n",
              "    <tr>\n",
              "      <th>8</th>\n",
              "      <td>351.406352</td>\n",
              "      <td>turning_radius</td>\n",
              "    </tr>\n",
              "    <tr>\n",
              "      <th>9</th>\n",
              "      <td>313.529072</td>\n",
              "      <td>gross_weight</td>\n",
              "    </tr>\n",
              "    <tr>\n",
              "      <th>10</th>\n",
              "      <td>39.509468</td>\n",
              "      <td>ncap_rating</td>\n",
              "    </tr>\n",
              "    <tr>\n",
              "      <th>4</th>\n",
              "      <td>31.851024</td>\n",
              "      <td>make</td>\n",
              "    </tr>\n",
              "    <tr>\n",
              "      <th>5</th>\n",
              "      <td>26.348902</td>\n",
              "      <td>airbags</td>\n",
              "    </tr>\n",
              "    <tr>\n",
              "      <th>2</th>\n",
              "      <td>16.153013</td>\n",
              "      <td>age_of_policyholder</td>\n",
              "    </tr>\n",
              "    <tr>\n",
              "      <th>0</th>\n",
              "      <td>3.486402</td>\n",
              "      <td>policy_tenure</td>\n",
              "    </tr>\n",
              "    <tr>\n",
              "      <th>1</th>\n",
              "      <td>3.146460</td>\n",
              "      <td>age_of_car</td>\n",
              "    </tr>\n",
              "    <tr>\n",
              "      <th>3</th>\n",
              "      <td>2.175124</td>\n",
              "      <td>population_density</td>\n",
              "    </tr>\n",
              "  </tbody>\n",
              "</table>\n",
              "</div>\n",
              "      <button class=\"colab-df-convert\" onclick=\"convertToInteractive('df-b4a83131-29f8-470a-8063-2448357ff251')\"\n",
              "              title=\"Convert this dataframe to an interactive table.\"\n",
              "              style=\"display:none;\">\n",
              "        \n",
              "  <svg xmlns=\"http://www.w3.org/2000/svg\" height=\"24px\"viewBox=\"0 0 24 24\"\n",
              "       width=\"24px\">\n",
              "    <path d=\"M0 0h24v24H0V0z\" fill=\"none\"/>\n",
              "    <path d=\"M18.56 5.44l.94 2.06.94-2.06 2.06-.94-2.06-.94-.94-2.06-.94 2.06-2.06.94zm-11 1L8.5 8.5l.94-2.06 2.06-.94-2.06-.94L8.5 2.5l-.94 2.06-2.06.94zm10 10l.94 2.06.94-2.06 2.06-.94-2.06-.94-.94-2.06-.94 2.06-2.06.94z\"/><path d=\"M17.41 7.96l-1.37-1.37c-.4-.4-.92-.59-1.43-.59-.52 0-1.04.2-1.43.59L10.3 9.45l-7.72 7.72c-.78.78-.78 2.05 0 2.83L4 21.41c.39.39.9.59 1.41.59.51 0 1.02-.2 1.41-.59l7.78-7.78 2.81-2.81c.8-.78.8-2.07 0-2.86zM5.41 20L4 18.59l7.72-7.72 1.47 1.35L5.41 20z\"/>\n",
              "  </svg>\n",
              "      </button>\n",
              "      \n",
              "  <style>\n",
              "    .colab-df-container {\n",
              "      display:flex;\n",
              "      flex-wrap:wrap;\n",
              "      gap: 12px;\n",
              "    }\n",
              "\n",
              "    .colab-df-convert {\n",
              "      background-color: #E8F0FE;\n",
              "      border: none;\n",
              "      border-radius: 50%;\n",
              "      cursor: pointer;\n",
              "      display: none;\n",
              "      fill: #1967D2;\n",
              "      height: 32px;\n",
              "      padding: 0 0 0 0;\n",
              "      width: 32px;\n",
              "    }\n",
              "\n",
              "    .colab-df-convert:hover {\n",
              "      background-color: #E2EBFA;\n",
              "      box-shadow: 0px 1px 2px rgba(60, 64, 67, 0.3), 0px 1px 3px 1px rgba(60, 64, 67, 0.15);\n",
              "      fill: #174EA6;\n",
              "    }\n",
              "\n",
              "    [theme=dark] .colab-df-convert {\n",
              "      background-color: #3B4455;\n",
              "      fill: #D2E3FC;\n",
              "    }\n",
              "\n",
              "    [theme=dark] .colab-df-convert:hover {\n",
              "      background-color: #434B5C;\n",
              "      box-shadow: 0px 1px 3px 1px rgba(0, 0, 0, 0.15);\n",
              "      filter: drop-shadow(0px 1px 2px rgba(0, 0, 0, 0.3));\n",
              "      fill: #FFFFFF;\n",
              "    }\n",
              "  </style>\n",
              "\n",
              "      <script>\n",
              "        const buttonEl =\n",
              "          document.querySelector('#df-b4a83131-29f8-470a-8063-2448357ff251 button.colab-df-convert');\n",
              "        buttonEl.style.display =\n",
              "          google.colab.kernel.accessAllowed ? 'block' : 'none';\n",
              "\n",
              "        async function convertToInteractive(key) {\n",
              "          const element = document.querySelector('#df-b4a83131-29f8-470a-8063-2448357ff251');\n",
              "          const dataTable =\n",
              "            await google.colab.kernel.invokeFunction('convertToInteractive',\n",
              "                                                     [key], {});\n",
              "          if (!dataTable) return;\n",
              "\n",
              "          const docLinkHtml = 'Like what you see? Visit the ' +\n",
              "            '<a target=\"_blank\" href=https://colab.research.google.com/notebooks/data_table.ipynb>data table notebook</a>'\n",
              "            + ' to learn more about interactive tables.';\n",
              "          element.innerHTML = '';\n",
              "          dataTable['output_type'] = 'display_data';\n",
              "          await google.colab.output.renderOutput(dataTable, element);\n",
              "          const docLink = document.createElement('div');\n",
              "          docLink.innerHTML = docLinkHtml;\n",
              "          element.appendChild(docLink);\n",
              "        }\n",
              "      </script>\n",
              "    </div>\n",
              "  </div>\n",
              "  "
            ]
          },
          "metadata": {},
          "execution_count": 44
        }
      ]
    },
    {
      "cell_type": "markdown",
      "source": [
        "Lets drop displacement as well, since we do not get a significant reduction in VIF"
      ],
      "metadata": {
        "id": "zdJ5oGKWE03f"
      }
    },
    {
      "cell_type": "code",
      "source": [
        "X = X.drop(['displacement'], axis=1)"
      ],
      "metadata": {
        "id": "gC-SJg72E4LX"
      },
      "execution_count": 45,
      "outputs": []
    },
    {
      "cell_type": "code",
      "source": [
        "vif_info = pd.DataFrame()\n",
        "vif_info['VIF'] = [variance_inflation_factor(X.values, i) for i in range(X.shape[1])]\n",
        "vif_info['Column'] = X.columns\n",
        "vif_info.sort_values('VIF', ascending=False)"
      ],
      "metadata": {
        "colab": {
          "base_uri": "https://localhost:8080/",
          "height": 363
        },
        "id": "m0TNrUjzE58t",
        "outputId": "b3df0372-8c1b-461d-929b-3916cf586037"
      },
      "execution_count": 46,
      "outputs": [
        {
          "output_type": "execute_result",
          "data": {
            "text/plain": [
              "          VIF               Column\n",
              "7  255.669566       turning_radius\n",
              "8  239.021321         gross_weight\n",
              "6  114.296486             cylinder\n",
              "2   16.037737  age_of_policyholder\n",
              "5   15.679192              airbags\n",
              "4   15.231070                 make\n",
              "9   12.280621          ncap_rating\n",
              "0    3.472862        policy_tenure\n",
              "1    3.106426           age_of_car\n",
              "3    2.174422   population_density"
            ],
            "text/html": [
              "\n",
              "  <div id=\"df-03ee3af1-75fd-4732-826b-c6b77d9ed9bc\">\n",
              "    <div class=\"colab-df-container\">\n",
              "      <div>\n",
              "<style scoped>\n",
              "    .dataframe tbody tr th:only-of-type {\n",
              "        vertical-align: middle;\n",
              "    }\n",
              "\n",
              "    .dataframe tbody tr th {\n",
              "        vertical-align: top;\n",
              "    }\n",
              "\n",
              "    .dataframe thead th {\n",
              "        text-align: right;\n",
              "    }\n",
              "</style>\n",
              "<table border=\"1\" class=\"dataframe\">\n",
              "  <thead>\n",
              "    <tr style=\"text-align: right;\">\n",
              "      <th></th>\n",
              "      <th>VIF</th>\n",
              "      <th>Column</th>\n",
              "    </tr>\n",
              "  </thead>\n",
              "  <tbody>\n",
              "    <tr>\n",
              "      <th>7</th>\n",
              "      <td>255.669566</td>\n",
              "      <td>turning_radius</td>\n",
              "    </tr>\n",
              "    <tr>\n",
              "      <th>8</th>\n",
              "      <td>239.021321</td>\n",
              "      <td>gross_weight</td>\n",
              "    </tr>\n",
              "    <tr>\n",
              "      <th>6</th>\n",
              "      <td>114.296486</td>\n",
              "      <td>cylinder</td>\n",
              "    </tr>\n",
              "    <tr>\n",
              "      <th>2</th>\n",
              "      <td>16.037737</td>\n",
              "      <td>age_of_policyholder</td>\n",
              "    </tr>\n",
              "    <tr>\n",
              "      <th>5</th>\n",
              "      <td>15.679192</td>\n",
              "      <td>airbags</td>\n",
              "    </tr>\n",
              "    <tr>\n",
              "      <th>4</th>\n",
              "      <td>15.231070</td>\n",
              "      <td>make</td>\n",
              "    </tr>\n",
              "    <tr>\n",
              "      <th>9</th>\n",
              "      <td>12.280621</td>\n",
              "      <td>ncap_rating</td>\n",
              "    </tr>\n",
              "    <tr>\n",
              "      <th>0</th>\n",
              "      <td>3.472862</td>\n",
              "      <td>policy_tenure</td>\n",
              "    </tr>\n",
              "    <tr>\n",
              "      <th>1</th>\n",
              "      <td>3.106426</td>\n",
              "      <td>age_of_car</td>\n",
              "    </tr>\n",
              "    <tr>\n",
              "      <th>3</th>\n",
              "      <td>2.174422</td>\n",
              "      <td>population_density</td>\n",
              "    </tr>\n",
              "  </tbody>\n",
              "</table>\n",
              "</div>\n",
              "      <button class=\"colab-df-convert\" onclick=\"convertToInteractive('df-03ee3af1-75fd-4732-826b-c6b77d9ed9bc')\"\n",
              "              title=\"Convert this dataframe to an interactive table.\"\n",
              "              style=\"display:none;\">\n",
              "        \n",
              "  <svg xmlns=\"http://www.w3.org/2000/svg\" height=\"24px\"viewBox=\"0 0 24 24\"\n",
              "       width=\"24px\">\n",
              "    <path d=\"M0 0h24v24H0V0z\" fill=\"none\"/>\n",
              "    <path d=\"M18.56 5.44l.94 2.06.94-2.06 2.06-.94-2.06-.94-.94-2.06-.94 2.06-2.06.94zm-11 1L8.5 8.5l.94-2.06 2.06-.94-2.06-.94L8.5 2.5l-.94 2.06-2.06.94zm10 10l.94 2.06.94-2.06 2.06-.94-2.06-.94-.94-2.06-.94 2.06-2.06.94z\"/><path d=\"M17.41 7.96l-1.37-1.37c-.4-.4-.92-.59-1.43-.59-.52 0-1.04.2-1.43.59L10.3 9.45l-7.72 7.72c-.78.78-.78 2.05 0 2.83L4 21.41c.39.39.9.59 1.41.59.51 0 1.02-.2 1.41-.59l7.78-7.78 2.81-2.81c.8-.78.8-2.07 0-2.86zM5.41 20L4 18.59l7.72-7.72 1.47 1.35L5.41 20z\"/>\n",
              "  </svg>\n",
              "      </button>\n",
              "      \n",
              "  <style>\n",
              "    .colab-df-container {\n",
              "      display:flex;\n",
              "      flex-wrap:wrap;\n",
              "      gap: 12px;\n",
              "    }\n",
              "\n",
              "    .colab-df-convert {\n",
              "      background-color: #E8F0FE;\n",
              "      border: none;\n",
              "      border-radius: 50%;\n",
              "      cursor: pointer;\n",
              "      display: none;\n",
              "      fill: #1967D2;\n",
              "      height: 32px;\n",
              "      padding: 0 0 0 0;\n",
              "      width: 32px;\n",
              "    }\n",
              "\n",
              "    .colab-df-convert:hover {\n",
              "      background-color: #E2EBFA;\n",
              "      box-shadow: 0px 1px 2px rgba(60, 64, 67, 0.3), 0px 1px 3px 1px rgba(60, 64, 67, 0.15);\n",
              "      fill: #174EA6;\n",
              "    }\n",
              "\n",
              "    [theme=dark] .colab-df-convert {\n",
              "      background-color: #3B4455;\n",
              "      fill: #D2E3FC;\n",
              "    }\n",
              "\n",
              "    [theme=dark] .colab-df-convert:hover {\n",
              "      background-color: #434B5C;\n",
              "      box-shadow: 0px 1px 3px 1px rgba(0, 0, 0, 0.15);\n",
              "      filter: drop-shadow(0px 1px 2px rgba(0, 0, 0, 0.3));\n",
              "      fill: #FFFFFF;\n",
              "    }\n",
              "  </style>\n",
              "\n",
              "      <script>\n",
              "        const buttonEl =\n",
              "          document.querySelector('#df-03ee3af1-75fd-4732-826b-c6b77d9ed9bc button.colab-df-convert');\n",
              "        buttonEl.style.display =\n",
              "          google.colab.kernel.accessAllowed ? 'block' : 'none';\n",
              "\n",
              "        async function convertToInteractive(key) {\n",
              "          const element = document.querySelector('#df-03ee3af1-75fd-4732-826b-c6b77d9ed9bc');\n",
              "          const dataTable =\n",
              "            await google.colab.kernel.invokeFunction('convertToInteractive',\n",
              "                                                     [key], {});\n",
              "          if (!dataTable) return;\n",
              "\n",
              "          const docLinkHtml = 'Like what you see? Visit the ' +\n",
              "            '<a target=\"_blank\" href=https://colab.research.google.com/notebooks/data_table.ipynb>data table notebook</a>'\n",
              "            + ' to learn more about interactive tables.';\n",
              "          element.innerHTML = '';\n",
              "          dataTable['output_type'] = 'display_data';\n",
              "          await google.colab.output.renderOutput(dataTable, element);\n",
              "          const docLink = document.createElement('div');\n",
              "          docLink.innerHTML = docLinkHtml;\n",
              "          element.appendChild(docLink);\n",
              "        }\n",
              "      </script>\n",
              "    </div>\n",
              "  </div>\n",
              "  "
            ]
          },
          "metadata": {},
          "execution_count": 46
        }
      ]
    },
    {
      "cell_type": "markdown",
      "source": [
        "Lets drop turning_radius as well"
      ],
      "metadata": {
        "id": "ytsAPBrOE8-o"
      }
    },
    {
      "cell_type": "code",
      "source": [
        "X = X.drop(['turning_radius'], axis=1)"
      ],
      "metadata": {
        "id": "8NHdCqaJFB7G"
      },
      "execution_count": 47,
      "outputs": []
    },
    {
      "cell_type": "code",
      "source": [
        "vif_info = pd.DataFrame()\n",
        "vif_info['VIF'] = [variance_inflation_factor(X.values, i) for i in range(X.shape[1])]\n",
        "vif_info['Column'] = X.columns\n",
        "vif_info.sort_values('VIF', ascending=False)"
      ],
      "metadata": {
        "colab": {
          "base_uri": "https://localhost:8080/",
          "height": 331
        },
        "id": "lHWU18uAFEyU",
        "outputId": "b96729f8-3519-4c63-82da-176aeb3ef1e8"
      },
      "execution_count": 48,
      "outputs": [
        {
          "output_type": "execute_result",
          "data": {
            "text/plain": [
              "          VIF               Column\n",
              "7  110.454977         gross_weight\n",
              "6   83.027901             cylinder\n",
              "2   15.253137  age_of_policyholder\n",
              "4   11.489877                 make\n",
              "5   10.131079              airbags\n",
              "8    8.865138          ncap_rating\n",
              "0    3.465399        policy_tenure\n",
              "1    3.105936           age_of_car\n",
              "3    2.154025   population_density"
            ],
            "text/html": [
              "\n",
              "  <div id=\"df-7eccf01b-96a4-491c-81be-3275c9eb6ae4\">\n",
              "    <div class=\"colab-df-container\">\n",
              "      <div>\n",
              "<style scoped>\n",
              "    .dataframe tbody tr th:only-of-type {\n",
              "        vertical-align: middle;\n",
              "    }\n",
              "\n",
              "    .dataframe tbody tr th {\n",
              "        vertical-align: top;\n",
              "    }\n",
              "\n",
              "    .dataframe thead th {\n",
              "        text-align: right;\n",
              "    }\n",
              "</style>\n",
              "<table border=\"1\" class=\"dataframe\">\n",
              "  <thead>\n",
              "    <tr style=\"text-align: right;\">\n",
              "      <th></th>\n",
              "      <th>VIF</th>\n",
              "      <th>Column</th>\n",
              "    </tr>\n",
              "  </thead>\n",
              "  <tbody>\n",
              "    <tr>\n",
              "      <th>7</th>\n",
              "      <td>110.454977</td>\n",
              "      <td>gross_weight</td>\n",
              "    </tr>\n",
              "    <tr>\n",
              "      <th>6</th>\n",
              "      <td>83.027901</td>\n",
              "      <td>cylinder</td>\n",
              "    </tr>\n",
              "    <tr>\n",
              "      <th>2</th>\n",
              "      <td>15.253137</td>\n",
              "      <td>age_of_policyholder</td>\n",
              "    </tr>\n",
              "    <tr>\n",
              "      <th>4</th>\n",
              "      <td>11.489877</td>\n",
              "      <td>make</td>\n",
              "    </tr>\n",
              "    <tr>\n",
              "      <th>5</th>\n",
              "      <td>10.131079</td>\n",
              "      <td>airbags</td>\n",
              "    </tr>\n",
              "    <tr>\n",
              "      <th>8</th>\n",
              "      <td>8.865138</td>\n",
              "      <td>ncap_rating</td>\n",
              "    </tr>\n",
              "    <tr>\n",
              "      <th>0</th>\n",
              "      <td>3.465399</td>\n",
              "      <td>policy_tenure</td>\n",
              "    </tr>\n",
              "    <tr>\n",
              "      <th>1</th>\n",
              "      <td>3.105936</td>\n",
              "      <td>age_of_car</td>\n",
              "    </tr>\n",
              "    <tr>\n",
              "      <th>3</th>\n",
              "      <td>2.154025</td>\n",
              "      <td>population_density</td>\n",
              "    </tr>\n",
              "  </tbody>\n",
              "</table>\n",
              "</div>\n",
              "      <button class=\"colab-df-convert\" onclick=\"convertToInteractive('df-7eccf01b-96a4-491c-81be-3275c9eb6ae4')\"\n",
              "              title=\"Convert this dataframe to an interactive table.\"\n",
              "              style=\"display:none;\">\n",
              "        \n",
              "  <svg xmlns=\"http://www.w3.org/2000/svg\" height=\"24px\"viewBox=\"0 0 24 24\"\n",
              "       width=\"24px\">\n",
              "    <path d=\"M0 0h24v24H0V0z\" fill=\"none\"/>\n",
              "    <path d=\"M18.56 5.44l.94 2.06.94-2.06 2.06-.94-2.06-.94-.94-2.06-.94 2.06-2.06.94zm-11 1L8.5 8.5l.94-2.06 2.06-.94-2.06-.94L8.5 2.5l-.94 2.06-2.06.94zm10 10l.94 2.06.94-2.06 2.06-.94-2.06-.94-.94-2.06-.94 2.06-2.06.94z\"/><path d=\"M17.41 7.96l-1.37-1.37c-.4-.4-.92-.59-1.43-.59-.52 0-1.04.2-1.43.59L10.3 9.45l-7.72 7.72c-.78.78-.78 2.05 0 2.83L4 21.41c.39.39.9.59 1.41.59.51 0 1.02-.2 1.41-.59l7.78-7.78 2.81-2.81c.8-.78.8-2.07 0-2.86zM5.41 20L4 18.59l7.72-7.72 1.47 1.35L5.41 20z\"/>\n",
              "  </svg>\n",
              "      </button>\n",
              "      \n",
              "  <style>\n",
              "    .colab-df-container {\n",
              "      display:flex;\n",
              "      flex-wrap:wrap;\n",
              "      gap: 12px;\n",
              "    }\n",
              "\n",
              "    .colab-df-convert {\n",
              "      background-color: #E8F0FE;\n",
              "      border: none;\n",
              "      border-radius: 50%;\n",
              "      cursor: pointer;\n",
              "      display: none;\n",
              "      fill: #1967D2;\n",
              "      height: 32px;\n",
              "      padding: 0 0 0 0;\n",
              "      width: 32px;\n",
              "    }\n",
              "\n",
              "    .colab-df-convert:hover {\n",
              "      background-color: #E2EBFA;\n",
              "      box-shadow: 0px 1px 2px rgba(60, 64, 67, 0.3), 0px 1px 3px 1px rgba(60, 64, 67, 0.15);\n",
              "      fill: #174EA6;\n",
              "    }\n",
              "\n",
              "    [theme=dark] .colab-df-convert {\n",
              "      background-color: #3B4455;\n",
              "      fill: #D2E3FC;\n",
              "    }\n",
              "\n",
              "    [theme=dark] .colab-df-convert:hover {\n",
              "      background-color: #434B5C;\n",
              "      box-shadow: 0px 1px 3px 1px rgba(0, 0, 0, 0.15);\n",
              "      filter: drop-shadow(0px 1px 2px rgba(0, 0, 0, 0.3));\n",
              "      fill: #FFFFFF;\n",
              "    }\n",
              "  </style>\n",
              "\n",
              "      <script>\n",
              "        const buttonEl =\n",
              "          document.querySelector('#df-7eccf01b-96a4-491c-81be-3275c9eb6ae4 button.colab-df-convert');\n",
              "        buttonEl.style.display =\n",
              "          google.colab.kernel.accessAllowed ? 'block' : 'none';\n",
              "\n",
              "        async function convertToInteractive(key) {\n",
              "          const element = document.querySelector('#df-7eccf01b-96a4-491c-81be-3275c9eb6ae4');\n",
              "          const dataTable =\n",
              "            await google.colab.kernel.invokeFunction('convertToInteractive',\n",
              "                                                     [key], {});\n",
              "          if (!dataTable) return;\n",
              "\n",
              "          const docLinkHtml = 'Like what you see? Visit the ' +\n",
              "            '<a target=\"_blank\" href=https://colab.research.google.com/notebooks/data_table.ipynb>data table notebook</a>'\n",
              "            + ' to learn more about interactive tables.';\n",
              "          element.innerHTML = '';\n",
              "          dataTable['output_type'] = 'display_data';\n",
              "          await google.colab.output.renderOutput(dataTable, element);\n",
              "          const docLink = document.createElement('div');\n",
              "          docLink.innerHTML = docLinkHtml;\n",
              "          element.appendChild(docLink);\n",
              "        }\n",
              "      </script>\n",
              "    </div>\n",
              "  </div>\n",
              "  "
            ]
          },
          "metadata": {},
          "execution_count": 48
        }
      ]
    },
    {
      "cell_type": "markdown",
      "source": [
        "Lets drop gross_weight as well"
      ],
      "metadata": {
        "id": "Z0vN6j1GFG_C"
      }
    },
    {
      "cell_type": "code",
      "source": [
        "X = X.drop(['gross_weight'], axis=1)"
      ],
      "metadata": {
        "id": "70we2jXRFJ4-"
      },
      "execution_count": 49,
      "outputs": []
    },
    {
      "cell_type": "code",
      "source": [
        "vif_info = pd.DataFrame()\n",
        "vif_info['VIF'] = [variance_inflation_factor(X.values, i) for i in range(X.shape[1])]\n",
        "vif_info['Column'] = X.columns\n",
        "vif_info.sort_values('VIF', ascending=False)"
      ],
      "metadata": {
        "colab": {
          "base_uri": "https://localhost:8080/",
          "height": 300
        },
        "id": "721j-mqGFMzV",
        "outputId": "113121e0-193b-4d6d-8080-9fa0ba97b009"
      },
      "execution_count": 50,
      "outputs": [
        {
          "output_type": "execute_result",
          "data": {
            "text/plain": [
              "         VIF               Column\n",
              "6  25.427722             cylinder\n",
              "2  14.115042  age_of_policyholder\n",
              "4  11.377091                 make\n",
              "7   8.747893          ncap_rating\n",
              "5   6.179631              airbags\n",
              "0   3.465308        policy_tenure\n",
              "1   3.101528           age_of_car\n",
              "3   2.128457   population_density"
            ],
            "text/html": [
              "\n",
              "  <div id=\"df-e6bd56e0-7cbd-49f2-8a7d-f41b91efa973\">\n",
              "    <div class=\"colab-df-container\">\n",
              "      <div>\n",
              "<style scoped>\n",
              "    .dataframe tbody tr th:only-of-type {\n",
              "        vertical-align: middle;\n",
              "    }\n",
              "\n",
              "    .dataframe tbody tr th {\n",
              "        vertical-align: top;\n",
              "    }\n",
              "\n",
              "    .dataframe thead th {\n",
              "        text-align: right;\n",
              "    }\n",
              "</style>\n",
              "<table border=\"1\" class=\"dataframe\">\n",
              "  <thead>\n",
              "    <tr style=\"text-align: right;\">\n",
              "      <th></th>\n",
              "      <th>VIF</th>\n",
              "      <th>Column</th>\n",
              "    </tr>\n",
              "  </thead>\n",
              "  <tbody>\n",
              "    <tr>\n",
              "      <th>6</th>\n",
              "      <td>25.427722</td>\n",
              "      <td>cylinder</td>\n",
              "    </tr>\n",
              "    <tr>\n",
              "      <th>2</th>\n",
              "      <td>14.115042</td>\n",
              "      <td>age_of_policyholder</td>\n",
              "    </tr>\n",
              "    <tr>\n",
              "      <th>4</th>\n",
              "      <td>11.377091</td>\n",
              "      <td>make</td>\n",
              "    </tr>\n",
              "    <tr>\n",
              "      <th>7</th>\n",
              "      <td>8.747893</td>\n",
              "      <td>ncap_rating</td>\n",
              "    </tr>\n",
              "    <tr>\n",
              "      <th>5</th>\n",
              "      <td>6.179631</td>\n",
              "      <td>airbags</td>\n",
              "    </tr>\n",
              "    <tr>\n",
              "      <th>0</th>\n",
              "      <td>3.465308</td>\n",
              "      <td>policy_tenure</td>\n",
              "    </tr>\n",
              "    <tr>\n",
              "      <th>1</th>\n",
              "      <td>3.101528</td>\n",
              "      <td>age_of_car</td>\n",
              "    </tr>\n",
              "    <tr>\n",
              "      <th>3</th>\n",
              "      <td>2.128457</td>\n",
              "      <td>population_density</td>\n",
              "    </tr>\n",
              "  </tbody>\n",
              "</table>\n",
              "</div>\n",
              "      <button class=\"colab-df-convert\" onclick=\"convertToInteractive('df-e6bd56e0-7cbd-49f2-8a7d-f41b91efa973')\"\n",
              "              title=\"Convert this dataframe to an interactive table.\"\n",
              "              style=\"display:none;\">\n",
              "        \n",
              "  <svg xmlns=\"http://www.w3.org/2000/svg\" height=\"24px\"viewBox=\"0 0 24 24\"\n",
              "       width=\"24px\">\n",
              "    <path d=\"M0 0h24v24H0V0z\" fill=\"none\"/>\n",
              "    <path d=\"M18.56 5.44l.94 2.06.94-2.06 2.06-.94-2.06-.94-.94-2.06-.94 2.06-2.06.94zm-11 1L8.5 8.5l.94-2.06 2.06-.94-2.06-.94L8.5 2.5l-.94 2.06-2.06.94zm10 10l.94 2.06.94-2.06 2.06-.94-2.06-.94-.94-2.06-.94 2.06-2.06.94z\"/><path d=\"M17.41 7.96l-1.37-1.37c-.4-.4-.92-.59-1.43-.59-.52 0-1.04.2-1.43.59L10.3 9.45l-7.72 7.72c-.78.78-.78 2.05 0 2.83L4 21.41c.39.39.9.59 1.41.59.51 0 1.02-.2 1.41-.59l7.78-7.78 2.81-2.81c.8-.78.8-2.07 0-2.86zM5.41 20L4 18.59l7.72-7.72 1.47 1.35L5.41 20z\"/>\n",
              "  </svg>\n",
              "      </button>\n",
              "      \n",
              "  <style>\n",
              "    .colab-df-container {\n",
              "      display:flex;\n",
              "      flex-wrap:wrap;\n",
              "      gap: 12px;\n",
              "    }\n",
              "\n",
              "    .colab-df-convert {\n",
              "      background-color: #E8F0FE;\n",
              "      border: none;\n",
              "      border-radius: 50%;\n",
              "      cursor: pointer;\n",
              "      display: none;\n",
              "      fill: #1967D2;\n",
              "      height: 32px;\n",
              "      padding: 0 0 0 0;\n",
              "      width: 32px;\n",
              "    }\n",
              "\n",
              "    .colab-df-convert:hover {\n",
              "      background-color: #E2EBFA;\n",
              "      box-shadow: 0px 1px 2px rgba(60, 64, 67, 0.3), 0px 1px 3px 1px rgba(60, 64, 67, 0.15);\n",
              "      fill: #174EA6;\n",
              "    }\n",
              "\n",
              "    [theme=dark] .colab-df-convert {\n",
              "      background-color: #3B4455;\n",
              "      fill: #D2E3FC;\n",
              "    }\n",
              "\n",
              "    [theme=dark] .colab-df-convert:hover {\n",
              "      background-color: #434B5C;\n",
              "      box-shadow: 0px 1px 3px 1px rgba(0, 0, 0, 0.15);\n",
              "      filter: drop-shadow(0px 1px 2px rgba(0, 0, 0, 0.3));\n",
              "      fill: #FFFFFF;\n",
              "    }\n",
              "  </style>\n",
              "\n",
              "      <script>\n",
              "        const buttonEl =\n",
              "          document.querySelector('#df-e6bd56e0-7cbd-49f2-8a7d-f41b91efa973 button.colab-df-convert');\n",
              "        buttonEl.style.display =\n",
              "          google.colab.kernel.accessAllowed ? 'block' : 'none';\n",
              "\n",
              "        async function convertToInteractive(key) {\n",
              "          const element = document.querySelector('#df-e6bd56e0-7cbd-49f2-8a7d-f41b91efa973');\n",
              "          const dataTable =\n",
              "            await google.colab.kernel.invokeFunction('convertToInteractive',\n",
              "                                                     [key], {});\n",
              "          if (!dataTable) return;\n",
              "\n",
              "          const docLinkHtml = 'Like what you see? Visit the ' +\n",
              "            '<a target=\"_blank\" href=https://colab.research.google.com/notebooks/data_table.ipynb>data table notebook</a>'\n",
              "            + ' to learn more about interactive tables.';\n",
              "          element.innerHTML = '';\n",
              "          dataTable['output_type'] = 'display_data';\n",
              "          await google.colab.output.renderOutput(dataTable, element);\n",
              "          const docLink = document.createElement('div');\n",
              "          docLink.innerHTML = docLinkHtml;\n",
              "          element.appendChild(docLink);\n",
              "        }\n",
              "      </script>\n",
              "    </div>\n",
              "  </div>\n",
              "  "
            ]
          },
          "metadata": {},
          "execution_count": 50
        }
      ]
    },
    {
      "cell_type": "markdown",
      "source": [
        "Lets drop cylinder feature as well"
      ],
      "metadata": {
        "id": "ow-4q7qUG_Jk"
      }
    },
    {
      "cell_type": "code",
      "source": [
        "X = X.drop(['cylinder'], axis=1)"
      ],
      "metadata": {
        "id": "L8Q1MuDzHDPR"
      },
      "execution_count": 51,
      "outputs": []
    },
    {
      "cell_type": "code",
      "source": [
        "vif_info = pd.DataFrame()\n",
        "vif_info['VIF'] = [variance_inflation_factor(X.values, i) for i in range(X.shape[1])]\n",
        "vif_info['Column'] = X.columns\n",
        "vif_info.sort_values('VIF', ascending=False)"
      ],
      "metadata": {
        "colab": {
          "base_uri": "https://localhost:8080/",
          "height": 269
        },
        "id": "vXsQ151oHFkv",
        "outputId": "8b16291c-a6d3-4e77-cf61-6e8938937265"
      },
      "execution_count": 52,
      "outputs": [
        {
          "output_type": "execute_result",
          "data": {
            "text/plain": [
              "         VIF               Column\n",
              "4  11.371444                 make\n",
              "6   8.260853          ncap_rating\n",
              "2   6.041811  age_of_policyholder\n",
              "5   5.340896              airbags\n",
              "0   3.382601        policy_tenure\n",
              "1   2.938687           age_of_car\n",
              "3   2.023744   population_density"
            ],
            "text/html": [
              "\n",
              "  <div id=\"df-c6f1db98-22a6-41b3-be95-72f61f7d4b68\">\n",
              "    <div class=\"colab-df-container\">\n",
              "      <div>\n",
              "<style scoped>\n",
              "    .dataframe tbody tr th:only-of-type {\n",
              "        vertical-align: middle;\n",
              "    }\n",
              "\n",
              "    .dataframe tbody tr th {\n",
              "        vertical-align: top;\n",
              "    }\n",
              "\n",
              "    .dataframe thead th {\n",
              "        text-align: right;\n",
              "    }\n",
              "</style>\n",
              "<table border=\"1\" class=\"dataframe\">\n",
              "  <thead>\n",
              "    <tr style=\"text-align: right;\">\n",
              "      <th></th>\n",
              "      <th>VIF</th>\n",
              "      <th>Column</th>\n",
              "    </tr>\n",
              "  </thead>\n",
              "  <tbody>\n",
              "    <tr>\n",
              "      <th>4</th>\n",
              "      <td>11.371444</td>\n",
              "      <td>make</td>\n",
              "    </tr>\n",
              "    <tr>\n",
              "      <th>6</th>\n",
              "      <td>8.260853</td>\n",
              "      <td>ncap_rating</td>\n",
              "    </tr>\n",
              "    <tr>\n",
              "      <th>2</th>\n",
              "      <td>6.041811</td>\n",
              "      <td>age_of_policyholder</td>\n",
              "    </tr>\n",
              "    <tr>\n",
              "      <th>5</th>\n",
              "      <td>5.340896</td>\n",
              "      <td>airbags</td>\n",
              "    </tr>\n",
              "    <tr>\n",
              "      <th>0</th>\n",
              "      <td>3.382601</td>\n",
              "      <td>policy_tenure</td>\n",
              "    </tr>\n",
              "    <tr>\n",
              "      <th>1</th>\n",
              "      <td>2.938687</td>\n",
              "      <td>age_of_car</td>\n",
              "    </tr>\n",
              "    <tr>\n",
              "      <th>3</th>\n",
              "      <td>2.023744</td>\n",
              "      <td>population_density</td>\n",
              "    </tr>\n",
              "  </tbody>\n",
              "</table>\n",
              "</div>\n",
              "      <button class=\"colab-df-convert\" onclick=\"convertToInteractive('df-c6f1db98-22a6-41b3-be95-72f61f7d4b68')\"\n",
              "              title=\"Convert this dataframe to an interactive table.\"\n",
              "              style=\"display:none;\">\n",
              "        \n",
              "  <svg xmlns=\"http://www.w3.org/2000/svg\" height=\"24px\"viewBox=\"0 0 24 24\"\n",
              "       width=\"24px\">\n",
              "    <path d=\"M0 0h24v24H0V0z\" fill=\"none\"/>\n",
              "    <path d=\"M18.56 5.44l.94 2.06.94-2.06 2.06-.94-2.06-.94-.94-2.06-.94 2.06-2.06.94zm-11 1L8.5 8.5l.94-2.06 2.06-.94-2.06-.94L8.5 2.5l-.94 2.06-2.06.94zm10 10l.94 2.06.94-2.06 2.06-.94-2.06-.94-.94-2.06-.94 2.06-2.06.94z\"/><path d=\"M17.41 7.96l-1.37-1.37c-.4-.4-.92-.59-1.43-.59-.52 0-1.04.2-1.43.59L10.3 9.45l-7.72 7.72c-.78.78-.78 2.05 0 2.83L4 21.41c.39.39.9.59 1.41.59.51 0 1.02-.2 1.41-.59l7.78-7.78 2.81-2.81c.8-.78.8-2.07 0-2.86zM5.41 20L4 18.59l7.72-7.72 1.47 1.35L5.41 20z\"/>\n",
              "  </svg>\n",
              "      </button>\n",
              "      \n",
              "  <style>\n",
              "    .colab-df-container {\n",
              "      display:flex;\n",
              "      flex-wrap:wrap;\n",
              "      gap: 12px;\n",
              "    }\n",
              "\n",
              "    .colab-df-convert {\n",
              "      background-color: #E8F0FE;\n",
              "      border: none;\n",
              "      border-radius: 50%;\n",
              "      cursor: pointer;\n",
              "      display: none;\n",
              "      fill: #1967D2;\n",
              "      height: 32px;\n",
              "      padding: 0 0 0 0;\n",
              "      width: 32px;\n",
              "    }\n",
              "\n",
              "    .colab-df-convert:hover {\n",
              "      background-color: #E2EBFA;\n",
              "      box-shadow: 0px 1px 2px rgba(60, 64, 67, 0.3), 0px 1px 3px 1px rgba(60, 64, 67, 0.15);\n",
              "      fill: #174EA6;\n",
              "    }\n",
              "\n",
              "    [theme=dark] .colab-df-convert {\n",
              "      background-color: #3B4455;\n",
              "      fill: #D2E3FC;\n",
              "    }\n",
              "\n",
              "    [theme=dark] .colab-df-convert:hover {\n",
              "      background-color: #434B5C;\n",
              "      box-shadow: 0px 1px 3px 1px rgba(0, 0, 0, 0.15);\n",
              "      filter: drop-shadow(0px 1px 2px rgba(0, 0, 0, 0.3));\n",
              "      fill: #FFFFFF;\n",
              "    }\n",
              "  </style>\n",
              "\n",
              "      <script>\n",
              "        const buttonEl =\n",
              "          document.querySelector('#df-c6f1db98-22a6-41b3-be95-72f61f7d4b68 button.colab-df-convert');\n",
              "        buttonEl.style.display =\n",
              "          google.colab.kernel.accessAllowed ? 'block' : 'none';\n",
              "\n",
              "        async function convertToInteractive(key) {\n",
              "          const element = document.querySelector('#df-c6f1db98-22a6-41b3-be95-72f61f7d4b68');\n",
              "          const dataTable =\n",
              "            await google.colab.kernel.invokeFunction('convertToInteractive',\n",
              "                                                     [key], {});\n",
              "          if (!dataTable) return;\n",
              "\n",
              "          const docLinkHtml = 'Like what you see? Visit the ' +\n",
              "            '<a target=\"_blank\" href=https://colab.research.google.com/notebooks/data_table.ipynb>data table notebook</a>'\n",
              "            + ' to learn more about interactive tables.';\n",
              "          element.innerHTML = '';\n",
              "          dataTable['output_type'] = 'display_data';\n",
              "          await google.colab.output.renderOutput(dataTable, element);\n",
              "          const docLink = document.createElement('div');\n",
              "          docLink.innerHTML = docLinkHtml;\n",
              "          element.appendChild(docLink);\n",
              "        }\n",
              "      </script>\n",
              "    </div>\n",
              "  </div>\n",
              "  "
            ]
          },
          "metadata": {},
          "execution_count": 52
        }
      ]
    },
    {
      "cell_type": "markdown",
      "source": [
        "The VIF values are in the range of our threshold. Lets keep these features for now."
      ],
      "metadata": {
        "id": "lZPE0-qWHIC0"
      }
    },
    {
      "cell_type": "code",
      "source": [
        "X.columns"
      ],
      "metadata": {
        "execution": {
          "iopub.status.busy": "2022-11-18T15:28:55.279431Z",
          "iopub.execute_input": "2022-11-18T15:28:55.280684Z",
          "iopub.status.idle": "2022-11-18T15:28:55.288603Z",
          "shell.execute_reply.started": "2022-11-18T15:28:55.280639Z",
          "shell.execute_reply": "2022-11-18T15:28:55.287425Z"
        },
        "trusted": true,
        "id": "ys6mMeE_eoD4",
        "outputId": "7b9a650f-2942-4c39-e9bb-895946f0cc27",
        "colab": {
          "base_uri": "https://localhost:8080/"
        }
      },
      "execution_count": 54,
      "outputs": [
        {
          "output_type": "execute_result",
          "data": {
            "text/plain": [
              "Index(['policy_tenure', 'age_of_car', 'age_of_policyholder',\n",
              "       'population_density', 'make', 'airbags', 'ncap_rating'],\n",
              "      dtype='object')"
            ]
          },
          "metadata": {},
          "execution_count": 54
        }
      ]
    },
    {
      "cell_type": "code",
      "source": [
        "numerical_features.columns"
      ],
      "metadata": {
        "colab": {
          "base_uri": "https://localhost:8080/"
        },
        "id": "fUP8IUM_HTLZ",
        "outputId": "19821070-bbb1-40b9-f396-0430465172e1"
      },
      "execution_count": 55,
      "outputs": [
        {
          "output_type": "execute_result",
          "data": {
            "text/plain": [
              "Index(['policy_tenure', 'age_of_car', 'age_of_policyholder',\n",
              "       'population_density', 'make', 'airbags', 'displacement', 'cylinder',\n",
              "       'gear_box', 'turning_radius', 'length', 'width', 'height',\n",
              "       'gross_weight', 'ncap_rating', 'dimensions'],\n",
              "      dtype='object')"
            ]
          },
          "metadata": {},
          "execution_count": 55
        }
      ]
    },
    {
      "cell_type": "code",
      "source": [
        "X = x.drop(['displacement','cylinder','gear_box','turning_radius','length','width','height','gross_weight','dimensions'],axis = 1)"
      ],
      "metadata": {
        "id": "S2t0Y800HQkq"
      },
      "execution_count": 56,
      "outputs": []
    },
    {
      "cell_type": "code",
      "source": [
        "numerical_features= X.select_dtypes(include=[np.number])\n",
        "categorical_features = X.select_dtypes(exclude=[np.number])"
      ],
      "metadata": {
        "execution": {
          "iopub.status.busy": "2022-11-18T15:29:00.228719Z",
          "iopub.execute_input": "2022-11-18T15:29:00.229070Z",
          "iopub.status.idle": "2022-11-18T15:29:00.273028Z",
          "shell.execute_reply.started": "2022-11-18T15:29:00.229040Z",
          "shell.execute_reply": "2022-11-18T15:29:00.272095Z"
        },
        "trusted": true,
        "id": "F3jiiK_deoD4"
      },
      "execution_count": 57,
      "outputs": []
    },
    {
      "cell_type": "code",
      "source": [
        "discrete_features = [feature for feature in numerical_features if len(X[feature].unique())<20]\n",
        "continuous_features = [feature for feature in numerical_features if feature not in discrete_features]"
      ],
      "metadata": {
        "execution": {
          "iopub.status.busy": "2022-11-18T15:29:01.229845Z",
          "iopub.execute_input": "2022-11-18T15:29:01.230194Z",
          "iopub.status.idle": "2022-11-18T15:29:01.252200Z",
          "shell.execute_reply.started": "2022-11-18T15:29:01.230163Z",
          "shell.execute_reply": "2022-11-18T15:29:01.251320Z"
        },
        "trusted": true,
        "id": "LatfEbsleoD4"
      },
      "execution_count": 58,
      "outputs": []
    },
    {
      "cell_type": "code",
      "source": [
        "from sklearn.model_selection import train_test_split\n",
        "from sklearn.pipeline import Pipeline\n",
        "from sklearn.impute import SimpleImputer\n",
        "from sklearn.compose import ColumnTransformer\n",
        "from sklearn.preprocessing import OneHotEncoder, StandardScaler, MinMaxScaler, PowerTransformer\n",
        "from sklearn.feature_selection import VarianceThreshold\n",
        "from imblearn.pipeline import Pipeline as pipeline_imb\n",
        "from imblearn.over_sampling import SMOTE\n",
        "from sklearn.metrics import classification_report"
      ],
      "metadata": {
        "execution": {
          "iopub.status.busy": "2022-11-18T15:29:45.551563Z",
          "iopub.execute_input": "2022-11-18T15:29:45.551931Z",
          "iopub.status.idle": "2022-11-18T15:29:45.557531Z",
          "shell.execute_reply.started": "2022-11-18T15:29:45.551900Z",
          "shell.execute_reply": "2022-11-18T15:29:45.556510Z"
        },
        "trusted": true,
        "id": "nrSC52YneoD5"
      },
      "execution_count": 59,
      "outputs": []
    },
    {
      "cell_type": "code",
      "source": [
        "X_train, X_test, y_train, y_test = train_test_split(X,y,stratify= y ,test_size=0.2)"
      ],
      "metadata": {
        "execution": {
          "iopub.status.busy": "2022-11-18T15:29:46.915522Z",
          "iopub.execute_input": "2022-11-18T15:29:46.915880Z",
          "iopub.status.idle": "2022-11-18T15:29:47.010234Z",
          "shell.execute_reply.started": "2022-11-18T15:29:46.915849Z",
          "shell.execute_reply": "2022-11-18T15:29:47.009166Z"
        },
        "trusted": true,
        "id": "gqcKVX2heoD5"
      },
      "execution_count": 60,
      "outputs": []
    },
    {
      "cell_type": "code",
      "source": [
        "X.shape"
      ],
      "metadata": {
        "execution": {
          "iopub.status.busy": "2022-11-18T19:15:37.554356Z",
          "iopub.execute_input": "2022-11-18T19:15:37.554742Z",
          "iopub.status.idle": "2022-11-18T19:15:37.564014Z",
          "shell.execute_reply.started": "2022-11-18T19:15:37.554709Z",
          "shell.execute_reply": "2022-11-18T19:15:37.562940Z"
        },
        "trusted": true,
        "id": "tuaCynqueoD5",
        "outputId": "b02cdcac-ed3b-4889-9d6e-d27159a3681e",
        "colab": {
          "base_uri": "https://localhost:8080/"
        }
      },
      "execution_count": 61,
      "outputs": [
        {
          "output_type": "execute_result",
          "data": {
            "text/plain": [
              "(58592, 34)"
            ]
          },
          "metadata": {},
          "execution_count": 61
        }
      ]
    },
    {
      "cell_type": "code",
      "source": [
        "X_train.shape"
      ],
      "metadata": {
        "execution": {
          "iopub.status.busy": "2022-11-18T19:15:44.681452Z",
          "iopub.execute_input": "2022-11-18T19:15:44.681795Z",
          "iopub.status.idle": "2022-11-18T19:15:44.688239Z",
          "shell.execute_reply.started": "2022-11-18T19:15:44.681765Z",
          "shell.execute_reply": "2022-11-18T19:15:44.687385Z"
        },
        "trusted": true,
        "id": "X_aQLmrDeoD5",
        "outputId": "d8f832e7-81bc-43f2-97b7-b7940c368e99",
        "colab": {
          "base_uri": "https://localhost:8080/"
        }
      },
      "execution_count": 62,
      "outputs": [
        {
          "output_type": "execute_result",
          "data": {
            "text/plain": [
              "(46873, 34)"
            ]
          },
          "metadata": {},
          "execution_count": 62
        }
      ]
    },
    {
      "cell_type": "code",
      "source": [
        "continuous_numeric_preprocessor = Pipeline(\n",
        "    steps=[\n",
        "        (\"imputation_mean\", SimpleImputer(missing_values=np.nan, strategy=\"mean\")),\n",
        "        (\"scaler\", StandardScaler()),\n",
        "        (\"function_transform\", PowerTransformer(method='yeo-johnson')),\n",
        "    ]\n",
        ")"
      ],
      "metadata": {
        "execution": {
          "iopub.status.busy": "2022-11-18T15:29:47.401172Z",
          "iopub.execute_input": "2022-11-18T15:29:47.401898Z",
          "iopub.status.idle": "2022-11-18T15:29:47.408525Z",
          "shell.execute_reply.started": "2022-11-18T15:29:47.401858Z",
          "shell.execute_reply": "2022-11-18T15:29:47.407420Z"
        },
        "trusted": true,
        "id": "yU5Cn3GReoD5"
      },
      "execution_count": 63,
      "outputs": []
    },
    {
      "cell_type": "code",
      "source": [
        "discrete_numeric_preprocessor = Pipeline(\n",
        "    steps=[\n",
        "        (\"imputation_mean\", SimpleImputer(missing_values=np.nan, strategy=\"mean\")),\n",
        "        (\"scaler\", MinMaxScaler()),\n",
        "    ]\n",
        ")"
      ],
      "metadata": {
        "execution": {
          "iopub.status.busy": "2022-11-18T15:29:48.654312Z",
          "iopub.execute_input": "2022-11-18T15:29:48.654677Z",
          "iopub.status.idle": "2022-11-18T15:29:48.659894Z",
          "shell.execute_reply.started": "2022-11-18T15:29:48.654647Z",
          "shell.execute_reply": "2022-11-18T15:29:48.658837Z"
        },
        "trusted": true,
        "id": "Gna_fG71eoD5"
      },
      "execution_count": 64,
      "outputs": []
    },
    {
      "cell_type": "code",
      "source": [
        "categorical_preprocessor = Pipeline(\n",
        "    steps=[\n",
        "        (\"onehot\", OneHotEncoder(handle_unknown=\"ignore\", drop='first')), ##avoiding dummy variable trap\n",
        "        (\"imputation_most_frequent\", SimpleImputer(missing_values=np.nan, strategy=\"most_frequent\")),\n",
        "    ]\n",
        ")"
      ],
      "metadata": {
        "execution": {
          "iopub.status.busy": "2022-11-18T15:29:49.123060Z",
          "iopub.execute_input": "2022-11-18T15:29:49.123718Z",
          "iopub.status.idle": "2022-11-18T15:29:49.128921Z",
          "shell.execute_reply.started": "2022-11-18T15:29:49.123685Z",
          "shell.execute_reply": "2022-11-18T15:29:49.127904Z"
        },
        "trusted": true,
        "id": "J8vKj0JjeoD5"
      },
      "execution_count": 65,
      "outputs": []
    },
    {
      "cell_type": "code",
      "source": [
        "preprocessor = ColumnTransformer(\n",
        "    [\n",
        "        (\"categorical\", categorical_preprocessor, categorical_features.columns),\n",
        "        (\"numerical_discrete\", discrete_numeric_preprocessor, discrete_features),\n",
        "        (\"numerical_continuous\", continuous_numeric_preprocessor, continuous_features),\n",
        "    ]\n",
        ")"
      ],
      "metadata": {
        "execution": {
          "iopub.status.busy": "2022-11-18T15:29:50.499424Z",
          "iopub.execute_input": "2022-11-18T15:29:50.500631Z",
          "iopub.status.idle": "2022-11-18T15:29:50.506550Z",
          "shell.execute_reply.started": "2022-11-18T15:29:50.500586Z",
          "shell.execute_reply": "2022-11-18T15:29:50.505526Z"
        },
        "trusted": true,
        "id": "fA8o9yipeoD6"
      },
      "execution_count": 66,
      "outputs": []
    },
    {
      "cell_type": "code",
      "source": [
        "from xgboost import XGBClassifier\n",
        "from sklearn.linear_model import LogisticRegression\n",
        "from sklearn.ensemble import RandomForestClassifier, VotingClassifier"
      ],
      "metadata": {
        "execution": {
          "iopub.status.busy": "2022-11-18T15:29:53.091297Z",
          "iopub.execute_input": "2022-11-18T15:29:53.092511Z",
          "iopub.status.idle": "2022-11-18T15:29:53.097537Z",
          "shell.execute_reply.started": "2022-11-18T15:29:53.092458Z",
          "shell.execute_reply": "2022-11-18T15:29:53.096445Z"
        },
        "trusted": true,
        "id": "1XrIVjKOeoD8"
      },
      "execution_count": 68,
      "outputs": []
    },
    {
      "cell_type": "code",
      "source": [
        "# Linear model (logistic regression)\n",
        "lr = LogisticRegression(warm_start=True, max_iter=400)\n",
        "# RandomForest\n",
        "rf = RandomForestClassifier(max_depth=10,n_estimators=300)\n",
        "# XGB\n",
        "xgb = XGBClassifier(n_estimators=300,max_depth= 10,tree_method=\"hist\", verbosity=0, silent=True)\n",
        "# Ensemble\n",
        "lr_xgb_rf = VotingClassifier(estimators=[('lr', lr), ('xgb', xgb), ('rf', rf)], \n",
        "                             voting='soft')"
      ],
      "metadata": {
        "execution": {
          "iopub.status.busy": "2022-11-18T18:50:05.057238Z",
          "iopub.execute_input": "2022-11-18T18:50:05.057883Z",
          "iopub.status.idle": "2022-11-18T18:50:05.064164Z",
          "shell.execute_reply.started": "2022-11-18T18:50:05.057847Z",
          "shell.execute_reply": "2022-11-18T18:50:05.062787Z"
        },
        "trusted": true,
        "id": "fRYb95EJeoD8"
      },
      "execution_count": 69,
      "outputs": []
    },
    {
      "cell_type": "code",
      "source": [
        "pipe = pipeline_imb(\n",
        "    steps=[\n",
        "        (\"preprocessor\", preprocessor),\n",
        "        ('smote', SMOTE()),\n",
        "        ('ensemble', lr_xgb_rf),\n",
        "    ]\n",
        ")"
      ],
      "metadata": {
        "execution": {
          "iopub.status.busy": "2022-11-18T18:50:06.177679Z",
          "iopub.execute_input": "2022-11-18T18:50:06.178371Z",
          "iopub.status.idle": "2022-11-18T18:50:06.183991Z",
          "shell.execute_reply.started": "2022-11-18T18:50:06.178326Z",
          "shell.execute_reply": "2022-11-18T18:50:06.182994Z"
        },
        "trusted": true,
        "id": "1LUlmGOceoD8"
      },
      "execution_count": 70,
      "outputs": []
    },
    {
      "cell_type": "code",
      "source": [
        "from sklearn import set_config\n",
        "set_config(display=\"diagram\")"
      ],
      "metadata": {
        "execution": {
          "iopub.status.busy": "2022-11-18T18:50:07.520983Z",
          "iopub.execute_input": "2022-11-18T18:50:07.523470Z",
          "iopub.status.idle": "2022-11-18T18:50:07.528527Z",
          "shell.execute_reply.started": "2022-11-18T18:50:07.523437Z",
          "shell.execute_reply": "2022-11-18T18:50:07.527656Z"
        },
        "trusted": true,
        "id": "0Pkgm2tLeoD8"
      },
      "execution_count": 71,
      "outputs": []
    },
    {
      "cell_type": "code",
      "source": [
        "pipe.fit(X_train,y_train)"
      ],
      "metadata": {
        "execution": {
          "iopub.status.busy": "2022-11-18T18:50:08.294183Z",
          "iopub.execute_input": "2022-11-18T18:50:08.294864Z",
          "iopub.status.idle": "2022-11-18T18:51:18.563776Z",
          "shell.execute_reply.started": "2022-11-18T18:50:08.294826Z",
          "shell.execute_reply": "2022-11-18T18:51:18.562715Z"
        },
        "trusted": true,
        "id": "vLAL0Cm7eoD9",
        "outputId": "dc42aeee-368d-428c-ab5d-4c7cada008f7",
        "colab": {
          "base_uri": "https://localhost:8080/",
          "height": 351
        }
      },
      "execution_count": 72,
      "outputs": [
        {
          "output_type": "execute_result",
          "data": {
            "text/plain": [
              "Pipeline(steps=[('preprocessor',\n",
              "                 ColumnTransformer(transformers=[('categorical',\n",
              "                                                  Pipeline(steps=[('onehot',\n",
              "                                                                   OneHotEncoder(drop='first',\n",
              "                                                                                 handle_unknown='ignore')),\n",
              "                                                                  ('imputation_most_frequent',\n",
              "                                                                   SimpleImputer(strategy='most_frequent'))]),\n",
              "                                                  Index(['area_cluster', 'segment', 'model', 'fuel_type', 'max_torque',\n",
              "       'max_power', 'engine_type', 'is_esc', 'is_adjustable_steeri...\n",
              "                                                   'age_of_car',\n",
              "                                                   'age_of_policyholder',\n",
              "                                                   'population_density'])])),\n",
              "                ('smote', SMOTE()),\n",
              "                ('ensemble',\n",
              "                 VotingClassifier(estimators=[('lr',\n",
              "                                               LogisticRegression(max_iter=400,\n",
              "                                                                  warm_start=True)),\n",
              "                                              ('xgb',\n",
              "                                               XGBClassifier(max_depth=10,\n",
              "                                                             n_estimators=300,\n",
              "                                                             silent=True,\n",
              "                                                             tree_method='hist',\n",
              "                                                             verbosity=0)),\n",
              "                                              ('rf',\n",
              "                                               RandomForestClassifier(max_depth=10,\n",
              "                                                                      n_estimators=300))],\n",
              "                                  voting='soft'))])"
            ],
            "text/html": [
              "<style>#sk-2cf522d3-dc0c-4e3e-8612-926b2f0acc59 {color: black;background-color: white;}#sk-2cf522d3-dc0c-4e3e-8612-926b2f0acc59 pre{padding: 0;}#sk-2cf522d3-dc0c-4e3e-8612-926b2f0acc59 div.sk-toggleable {background-color: white;}#sk-2cf522d3-dc0c-4e3e-8612-926b2f0acc59 label.sk-toggleable__label {cursor: pointer;display: block;width: 100%;margin-bottom: 0;padding: 0.3em;box-sizing: border-box;text-align: center;}#sk-2cf522d3-dc0c-4e3e-8612-926b2f0acc59 label.sk-toggleable__label-arrow:before {content: \"▸\";float: left;margin-right: 0.25em;color: #696969;}#sk-2cf522d3-dc0c-4e3e-8612-926b2f0acc59 label.sk-toggleable__label-arrow:hover:before {color: black;}#sk-2cf522d3-dc0c-4e3e-8612-926b2f0acc59 div.sk-estimator:hover label.sk-toggleable__label-arrow:before {color: black;}#sk-2cf522d3-dc0c-4e3e-8612-926b2f0acc59 div.sk-toggleable__content {max-height: 0;max-width: 0;overflow: hidden;text-align: left;background-color: #f0f8ff;}#sk-2cf522d3-dc0c-4e3e-8612-926b2f0acc59 div.sk-toggleable__content pre {margin: 0.2em;color: black;border-radius: 0.25em;background-color: #f0f8ff;}#sk-2cf522d3-dc0c-4e3e-8612-926b2f0acc59 input.sk-toggleable__control:checked~div.sk-toggleable__content {max-height: 200px;max-width: 100%;overflow: auto;}#sk-2cf522d3-dc0c-4e3e-8612-926b2f0acc59 input.sk-toggleable__control:checked~label.sk-toggleable__label-arrow:before {content: \"▾\";}#sk-2cf522d3-dc0c-4e3e-8612-926b2f0acc59 div.sk-estimator input.sk-toggleable__control:checked~label.sk-toggleable__label {background-color: #d4ebff;}#sk-2cf522d3-dc0c-4e3e-8612-926b2f0acc59 div.sk-label input.sk-toggleable__control:checked~label.sk-toggleable__label {background-color: #d4ebff;}#sk-2cf522d3-dc0c-4e3e-8612-926b2f0acc59 input.sk-hidden--visually {border: 0;clip: rect(1px 1px 1px 1px);clip: rect(1px, 1px, 1px, 1px);height: 1px;margin: -1px;overflow: hidden;padding: 0;position: absolute;width: 1px;}#sk-2cf522d3-dc0c-4e3e-8612-926b2f0acc59 div.sk-estimator {font-family: monospace;background-color: #f0f8ff;border: 1px dotted black;border-radius: 0.25em;box-sizing: border-box;margin-bottom: 0.5em;}#sk-2cf522d3-dc0c-4e3e-8612-926b2f0acc59 div.sk-estimator:hover {background-color: #d4ebff;}#sk-2cf522d3-dc0c-4e3e-8612-926b2f0acc59 div.sk-parallel-item::after {content: \"\";width: 100%;border-bottom: 1px solid gray;flex-grow: 1;}#sk-2cf522d3-dc0c-4e3e-8612-926b2f0acc59 div.sk-label:hover label.sk-toggleable__label {background-color: #d4ebff;}#sk-2cf522d3-dc0c-4e3e-8612-926b2f0acc59 div.sk-serial::before {content: \"\";position: absolute;border-left: 1px solid gray;box-sizing: border-box;top: 2em;bottom: 0;left: 50%;}#sk-2cf522d3-dc0c-4e3e-8612-926b2f0acc59 div.sk-serial {display: flex;flex-direction: column;align-items: center;background-color: white;padding-right: 0.2em;padding-left: 0.2em;}#sk-2cf522d3-dc0c-4e3e-8612-926b2f0acc59 div.sk-item {z-index: 1;}#sk-2cf522d3-dc0c-4e3e-8612-926b2f0acc59 div.sk-parallel {display: flex;align-items: stretch;justify-content: center;background-color: white;}#sk-2cf522d3-dc0c-4e3e-8612-926b2f0acc59 div.sk-parallel::before {content: \"\";position: absolute;border-left: 1px solid gray;box-sizing: border-box;top: 2em;bottom: 0;left: 50%;}#sk-2cf522d3-dc0c-4e3e-8612-926b2f0acc59 div.sk-parallel-item {display: flex;flex-direction: column;position: relative;background-color: white;}#sk-2cf522d3-dc0c-4e3e-8612-926b2f0acc59 div.sk-parallel-item:first-child::after {align-self: flex-end;width: 50%;}#sk-2cf522d3-dc0c-4e3e-8612-926b2f0acc59 div.sk-parallel-item:last-child::after {align-self: flex-start;width: 50%;}#sk-2cf522d3-dc0c-4e3e-8612-926b2f0acc59 div.sk-parallel-item:only-child::after {width: 0;}#sk-2cf522d3-dc0c-4e3e-8612-926b2f0acc59 div.sk-dashed-wrapped {border: 1px dashed gray;margin: 0 0.4em 0.5em 0.4em;box-sizing: border-box;padding-bottom: 0.4em;background-color: white;position: relative;}#sk-2cf522d3-dc0c-4e3e-8612-926b2f0acc59 div.sk-label label {font-family: monospace;font-weight: bold;background-color: white;display: inline-block;line-height: 1.2em;}#sk-2cf522d3-dc0c-4e3e-8612-926b2f0acc59 div.sk-label-container {position: relative;z-index: 2;text-align: center;}#sk-2cf522d3-dc0c-4e3e-8612-926b2f0acc59 div.sk-container {/* jupyter's `normalize.less` sets `[hidden] { display: none; }` but bootstrap.min.css set `[hidden] { display: none !important; }` so we also need the `!important` here to be able to override the default hidden behavior on the sphinx rendered scikit-learn.org. See: https://github.com/scikit-learn/scikit-learn/issues/21755 */display: inline-block !important;position: relative;}#sk-2cf522d3-dc0c-4e3e-8612-926b2f0acc59 div.sk-text-repr-fallback {display: none;}</style><div id=\"sk-2cf522d3-dc0c-4e3e-8612-926b2f0acc59\" class=\"sk-top-container\"><div class=\"sk-text-repr-fallback\"><pre>Pipeline(steps=[(&#x27;preprocessor&#x27;,\n",
              "                 ColumnTransformer(transformers=[(&#x27;categorical&#x27;,\n",
              "                                                  Pipeline(steps=[(&#x27;onehot&#x27;,\n",
              "                                                                   OneHotEncoder(drop=&#x27;first&#x27;,\n",
              "                                                                                 handle_unknown=&#x27;ignore&#x27;)),\n",
              "                                                                  (&#x27;imputation_most_frequent&#x27;,\n",
              "                                                                   SimpleImputer(strategy=&#x27;most_frequent&#x27;))]),\n",
              "                                                  Index([&#x27;area_cluster&#x27;, &#x27;segment&#x27;, &#x27;model&#x27;, &#x27;fuel_type&#x27;, &#x27;max_torque&#x27;,\n",
              "       &#x27;max_power&#x27;, &#x27;engine_type&#x27;, &#x27;is_esc&#x27;, &#x27;is_adjustable_steeri...\n",
              "                                                   &#x27;age_of_car&#x27;,\n",
              "                                                   &#x27;age_of_policyholder&#x27;,\n",
              "                                                   &#x27;population_density&#x27;])])),\n",
              "                (&#x27;smote&#x27;, SMOTE()),\n",
              "                (&#x27;ensemble&#x27;,\n",
              "                 VotingClassifier(estimators=[(&#x27;lr&#x27;,\n",
              "                                               LogisticRegression(max_iter=400,\n",
              "                                                                  warm_start=True)),\n",
              "                                              (&#x27;xgb&#x27;,\n",
              "                                               XGBClassifier(max_depth=10,\n",
              "                                                             n_estimators=300,\n",
              "                                                             silent=True,\n",
              "                                                             tree_method=&#x27;hist&#x27;,\n",
              "                                                             verbosity=0)),\n",
              "                                              (&#x27;rf&#x27;,\n",
              "                                               RandomForestClassifier(max_depth=10,\n",
              "                                                                      n_estimators=300))],\n",
              "                                  voting=&#x27;soft&#x27;))])</pre><b>Please rerun this cell to show the HTML repr or trust the notebook.</b></div><div class=\"sk-container\" hidden><div class=\"sk-item sk-dashed-wrapped\"><div class=\"sk-label-container\"><div class=\"sk-label sk-toggleable\"><input class=\"sk-toggleable__control sk-hidden--visually\" id=\"eff0d479-e237-4499-8e79-1623a3c0b4c6\" type=\"checkbox\" ><label for=\"eff0d479-e237-4499-8e79-1623a3c0b4c6\" class=\"sk-toggleable__label sk-toggleable__label-arrow\">Pipeline</label><div class=\"sk-toggleable__content\"><pre>Pipeline(steps=[(&#x27;preprocessor&#x27;,\n",
              "                 ColumnTransformer(transformers=[(&#x27;categorical&#x27;,\n",
              "                                                  Pipeline(steps=[(&#x27;onehot&#x27;,\n",
              "                                                                   OneHotEncoder(drop=&#x27;first&#x27;,\n",
              "                                                                                 handle_unknown=&#x27;ignore&#x27;)),\n",
              "                                                                  (&#x27;imputation_most_frequent&#x27;,\n",
              "                                                                   SimpleImputer(strategy=&#x27;most_frequent&#x27;))]),\n",
              "                                                  Index([&#x27;area_cluster&#x27;, &#x27;segment&#x27;, &#x27;model&#x27;, &#x27;fuel_type&#x27;, &#x27;max_torque&#x27;,\n",
              "       &#x27;max_power&#x27;, &#x27;engine_type&#x27;, &#x27;is_esc&#x27;, &#x27;is_adjustable_steeri...\n",
              "                                                   &#x27;age_of_car&#x27;,\n",
              "                                                   &#x27;age_of_policyholder&#x27;,\n",
              "                                                   &#x27;population_density&#x27;])])),\n",
              "                (&#x27;smote&#x27;, SMOTE()),\n",
              "                (&#x27;ensemble&#x27;,\n",
              "                 VotingClassifier(estimators=[(&#x27;lr&#x27;,\n",
              "                                               LogisticRegression(max_iter=400,\n",
              "                                                                  warm_start=True)),\n",
              "                                              (&#x27;xgb&#x27;,\n",
              "                                               XGBClassifier(max_depth=10,\n",
              "                                                             n_estimators=300,\n",
              "                                                             silent=True,\n",
              "                                                             tree_method=&#x27;hist&#x27;,\n",
              "                                                             verbosity=0)),\n",
              "                                              (&#x27;rf&#x27;,\n",
              "                                               RandomForestClassifier(max_depth=10,\n",
              "                                                                      n_estimators=300))],\n",
              "                                  voting=&#x27;soft&#x27;))])</pre></div></div></div><div class=\"sk-serial\"><div class=\"sk-item sk-dashed-wrapped\"><div class=\"sk-label-container\"><div class=\"sk-label sk-toggleable\"><input class=\"sk-toggleable__control sk-hidden--visually\" id=\"e2f16751-990b-42e2-b5f8-37192e747c21\" type=\"checkbox\" ><label for=\"e2f16751-990b-42e2-b5f8-37192e747c21\" class=\"sk-toggleable__label sk-toggleable__label-arrow\">preprocessor: ColumnTransformer</label><div class=\"sk-toggleable__content\"><pre>ColumnTransformer(transformers=[(&#x27;categorical&#x27;,\n",
              "                                 Pipeline(steps=[(&#x27;onehot&#x27;,\n",
              "                                                  OneHotEncoder(drop=&#x27;first&#x27;,\n",
              "                                                                handle_unknown=&#x27;ignore&#x27;)),\n",
              "                                                 (&#x27;imputation_most_frequent&#x27;,\n",
              "                                                  SimpleImputer(strategy=&#x27;most_frequent&#x27;))]),\n",
              "                                 Index([&#x27;area_cluster&#x27;, &#x27;segment&#x27;, &#x27;model&#x27;, &#x27;fuel_type&#x27;, &#x27;max_torque&#x27;,\n",
              "       &#x27;max_power&#x27;, &#x27;engine_type&#x27;, &#x27;is_esc&#x27;, &#x27;is_adjustable_steering&#x27;,\n",
              "       &#x27;is_tpms&#x27;, &#x27;is_parking_sensor...\n",
              "                                (&#x27;numerical_discrete&#x27;,\n",
              "                                 Pipeline(steps=[(&#x27;imputation_mean&#x27;,\n",
              "                                                  SimpleImputer()),\n",
              "                                                 (&#x27;scaler&#x27;, MinMaxScaler())]),\n",
              "                                 [&#x27;make&#x27;, &#x27;airbags&#x27;, &#x27;ncap_rating&#x27;]),\n",
              "                                (&#x27;numerical_continuous&#x27;,\n",
              "                                 Pipeline(steps=[(&#x27;imputation_mean&#x27;,\n",
              "                                                  SimpleImputer()),\n",
              "                                                 (&#x27;scaler&#x27;, StandardScaler()),\n",
              "                                                 (&#x27;function_transform&#x27;,\n",
              "                                                  PowerTransformer())]),\n",
              "                                 [&#x27;policy_tenure&#x27;, &#x27;age_of_car&#x27;,\n",
              "                                  &#x27;age_of_policyholder&#x27;,\n",
              "                                  &#x27;population_density&#x27;])])</pre></div></div></div><div class=\"sk-parallel\"><div class=\"sk-parallel-item\"><div class=\"sk-item\"><div class=\"sk-label-container\"><div class=\"sk-label sk-toggleable\"><input class=\"sk-toggleable__control sk-hidden--visually\" id=\"b6152ebd-ba5d-4cc4-8edb-2034c1cda8ed\" type=\"checkbox\" ><label for=\"b6152ebd-ba5d-4cc4-8edb-2034c1cda8ed\" class=\"sk-toggleable__label sk-toggleable__label-arrow\">categorical</label><div class=\"sk-toggleable__content\"><pre>Index([&#x27;area_cluster&#x27;, &#x27;segment&#x27;, &#x27;model&#x27;, &#x27;fuel_type&#x27;, &#x27;max_torque&#x27;,\n",
              "       &#x27;max_power&#x27;, &#x27;engine_type&#x27;, &#x27;is_esc&#x27;, &#x27;is_adjustable_steering&#x27;,\n",
              "       &#x27;is_tpms&#x27;, &#x27;is_parking_sensors&#x27;, &#x27;is_parking_camera&#x27;,\n",
              "       &#x27;rear_brakes_type&#x27;, &#x27;transmission_type&#x27;, &#x27;steering_type&#x27;,\n",
              "       &#x27;is_front_fog_lights&#x27;, &#x27;is_rear_window_wiper&#x27;, &#x27;is_rear_window_washer&#x27;,\n",
              "       &#x27;is_rear_window_defogger&#x27;, &#x27;is_brake_assist&#x27;, &#x27;is_power_door_locks&#x27;,\n",
              "       &#x27;is_central_locking&#x27;, &#x27;is_power_steering&#x27;,\n",
              "       &#x27;is_driver_seat_height_adjustable&#x27;, &#x27;is_day_night_rear_view_mirror&#x27;,\n",
              "       &#x27;is_ecw&#x27;, &#x27;is_speed_alert&#x27;],\n",
              "      dtype=&#x27;object&#x27;)</pre></div></div></div><div class=\"sk-serial\"><div class=\"sk-item\"><div class=\"sk-serial\"><div class=\"sk-item\"><div class=\"sk-estimator sk-toggleable\"><input class=\"sk-toggleable__control sk-hidden--visually\" id=\"57e10a2e-9714-4875-a380-153c2bca87bf\" type=\"checkbox\" ><label for=\"57e10a2e-9714-4875-a380-153c2bca87bf\" class=\"sk-toggleable__label sk-toggleable__label-arrow\">OneHotEncoder</label><div class=\"sk-toggleable__content\"><pre>OneHotEncoder(drop=&#x27;first&#x27;, handle_unknown=&#x27;ignore&#x27;)</pre></div></div></div><div class=\"sk-item\"><div class=\"sk-estimator sk-toggleable\"><input class=\"sk-toggleable__control sk-hidden--visually\" id=\"9ac0c343-8cd1-4d48-90c8-9819802fa27c\" type=\"checkbox\" ><label for=\"9ac0c343-8cd1-4d48-90c8-9819802fa27c\" class=\"sk-toggleable__label sk-toggleable__label-arrow\">SimpleImputer</label><div class=\"sk-toggleable__content\"><pre>SimpleImputer(strategy=&#x27;most_frequent&#x27;)</pre></div></div></div></div></div></div></div></div><div class=\"sk-parallel-item\"><div class=\"sk-item\"><div class=\"sk-label-container\"><div class=\"sk-label sk-toggleable\"><input class=\"sk-toggleable__control sk-hidden--visually\" id=\"202ee8d3-3493-40e6-99fd-215554fe7fbb\" type=\"checkbox\" ><label for=\"202ee8d3-3493-40e6-99fd-215554fe7fbb\" class=\"sk-toggleable__label sk-toggleable__label-arrow\">numerical_discrete</label><div class=\"sk-toggleable__content\"><pre>[&#x27;make&#x27;, &#x27;airbags&#x27;, &#x27;ncap_rating&#x27;]</pre></div></div></div><div class=\"sk-serial\"><div class=\"sk-item\"><div class=\"sk-serial\"><div class=\"sk-item\"><div class=\"sk-estimator sk-toggleable\"><input class=\"sk-toggleable__control sk-hidden--visually\" id=\"ea0387df-76bc-4aa4-8a00-4d8a3283538a\" type=\"checkbox\" ><label for=\"ea0387df-76bc-4aa4-8a00-4d8a3283538a\" class=\"sk-toggleable__label sk-toggleable__label-arrow\">SimpleImputer</label><div class=\"sk-toggleable__content\"><pre>SimpleImputer()</pre></div></div></div><div class=\"sk-item\"><div class=\"sk-estimator sk-toggleable\"><input class=\"sk-toggleable__control sk-hidden--visually\" id=\"0af30723-f6f4-4c28-870c-78d9594946b4\" type=\"checkbox\" ><label for=\"0af30723-f6f4-4c28-870c-78d9594946b4\" class=\"sk-toggleable__label sk-toggleable__label-arrow\">MinMaxScaler</label><div class=\"sk-toggleable__content\"><pre>MinMaxScaler()</pre></div></div></div></div></div></div></div></div><div class=\"sk-parallel-item\"><div class=\"sk-item\"><div class=\"sk-label-container\"><div class=\"sk-label sk-toggleable\"><input class=\"sk-toggleable__control sk-hidden--visually\" id=\"d468f4cb-e38c-4a0b-84f8-dab129921064\" type=\"checkbox\" ><label for=\"d468f4cb-e38c-4a0b-84f8-dab129921064\" class=\"sk-toggleable__label sk-toggleable__label-arrow\">numerical_continuous</label><div class=\"sk-toggleable__content\"><pre>[&#x27;policy_tenure&#x27;, &#x27;age_of_car&#x27;, &#x27;age_of_policyholder&#x27;, &#x27;population_density&#x27;]</pre></div></div></div><div class=\"sk-serial\"><div class=\"sk-item\"><div class=\"sk-serial\"><div class=\"sk-item\"><div class=\"sk-estimator sk-toggleable\"><input class=\"sk-toggleable__control sk-hidden--visually\" id=\"7ca42346-04f9-4c2f-8660-57baa8b44b49\" type=\"checkbox\" ><label for=\"7ca42346-04f9-4c2f-8660-57baa8b44b49\" class=\"sk-toggleable__label sk-toggleable__label-arrow\">SimpleImputer</label><div class=\"sk-toggleable__content\"><pre>SimpleImputer()</pre></div></div></div><div class=\"sk-item\"><div class=\"sk-estimator sk-toggleable\"><input class=\"sk-toggleable__control sk-hidden--visually\" id=\"45314ee0-704d-49d9-9a03-67ab80cd8ec7\" type=\"checkbox\" ><label for=\"45314ee0-704d-49d9-9a03-67ab80cd8ec7\" class=\"sk-toggleable__label sk-toggleable__label-arrow\">StandardScaler</label><div class=\"sk-toggleable__content\"><pre>StandardScaler()</pre></div></div></div><div class=\"sk-item\"><div class=\"sk-estimator sk-toggleable\"><input class=\"sk-toggleable__control sk-hidden--visually\" id=\"3301e825-c74b-4d7f-9fa8-8c73d14cc2ef\" type=\"checkbox\" ><label for=\"3301e825-c74b-4d7f-9fa8-8c73d14cc2ef\" class=\"sk-toggleable__label sk-toggleable__label-arrow\">PowerTransformer</label><div class=\"sk-toggleable__content\"><pre>PowerTransformer()</pre></div></div></div></div></div></div></div></div></div></div><div class=\"sk-item\"><div class=\"sk-estimator sk-toggleable\"><input class=\"sk-toggleable__control sk-hidden--visually\" id=\"bc19e115-7864-4da0-806e-8f53ff15daa6\" type=\"checkbox\" ><label for=\"bc19e115-7864-4da0-806e-8f53ff15daa6\" class=\"sk-toggleable__label sk-toggleable__label-arrow\">SMOTE</label><div class=\"sk-toggleable__content\"><pre>SMOTE()</pre></div></div></div><div class=\"sk-item sk-dashed-wrapped\"><div class=\"sk-label-container\"><div class=\"sk-label sk-toggleable\"><input class=\"sk-toggleable__control sk-hidden--visually\" id=\"5e84ea4c-184f-41da-80dd-4f6b4e76cf4d\" type=\"checkbox\" ><label for=\"5e84ea4c-184f-41da-80dd-4f6b4e76cf4d\" class=\"sk-toggleable__label sk-toggleable__label-arrow\">ensemble: VotingClassifier</label><div class=\"sk-toggleable__content\"><pre>VotingClassifier(estimators=[(&#x27;lr&#x27;,\n",
              "                              LogisticRegression(max_iter=400,\n",
              "                                                 warm_start=True)),\n",
              "                             (&#x27;xgb&#x27;,\n",
              "                              XGBClassifier(max_depth=10, n_estimators=300,\n",
              "                                            silent=True, tree_method=&#x27;hist&#x27;,\n",
              "                                            verbosity=0)),\n",
              "                             (&#x27;rf&#x27;,\n",
              "                              RandomForestClassifier(max_depth=10,\n",
              "                                                     n_estimators=300))],\n",
              "                 voting=&#x27;soft&#x27;)</pre></div></div></div><div class=\"sk-parallel\"><div class=\"sk-parallel-item\"><div class=\"sk-item\"><div class=\"sk-label-container\"><div class=\"sk-label sk-toggleable\"><label>lr</label></div></div><div class=\"sk-serial\"><div class=\"sk-item\"><div class=\"sk-estimator sk-toggleable\"><input class=\"sk-toggleable__control sk-hidden--visually\" id=\"8a7cd41c-5466-451e-9bf5-49c09fc01ae8\" type=\"checkbox\" ><label for=\"8a7cd41c-5466-451e-9bf5-49c09fc01ae8\" class=\"sk-toggleable__label sk-toggleable__label-arrow\">LogisticRegression</label><div class=\"sk-toggleable__content\"><pre>LogisticRegression(max_iter=400, warm_start=True)</pre></div></div></div></div></div></div><div class=\"sk-parallel-item\"><div class=\"sk-item\"><div class=\"sk-label-container\"><div class=\"sk-label sk-toggleable\"><label>xgb</label></div></div><div class=\"sk-serial\"><div class=\"sk-item\"><div class=\"sk-estimator sk-toggleable\"><input class=\"sk-toggleable__control sk-hidden--visually\" id=\"03fc5649-e81b-474e-a088-e58c413c6bf2\" type=\"checkbox\" ><label for=\"03fc5649-e81b-474e-a088-e58c413c6bf2\" class=\"sk-toggleable__label sk-toggleable__label-arrow\">XGBClassifier</label><div class=\"sk-toggleable__content\"><pre>XGBClassifier(max_depth=10, n_estimators=300, silent=True, tree_method=&#x27;hist&#x27;,\n",
              "              verbosity=0)</pre></div></div></div></div></div></div><div class=\"sk-parallel-item\"><div class=\"sk-item\"><div class=\"sk-label-container\"><div class=\"sk-label sk-toggleable\"><label>rf</label></div></div><div class=\"sk-serial\"><div class=\"sk-item\"><div class=\"sk-estimator sk-toggleable\"><input class=\"sk-toggleable__control sk-hidden--visually\" id=\"555feef8-1bf4-434f-aa8a-904c4c36a8a2\" type=\"checkbox\" ><label for=\"555feef8-1bf4-434f-aa8a-904c4c36a8a2\" class=\"sk-toggleable__label sk-toggleable__label-arrow\">RandomForestClassifier</label><div class=\"sk-toggleable__content\"><pre>RandomForestClassifier(max_depth=10, n_estimators=300)</pre></div></div></div></div></div></div></div></div></div></div></div></div>"
            ]
          },
          "metadata": {},
          "execution_count": 72
        }
      ]
    },
    {
      "cell_type": "code",
      "source": [
        "pipe.n_features_in_"
      ],
      "metadata": {
        "execution": {
          "iopub.status.busy": "2022-11-18T18:55:23.637749Z",
          "iopub.execute_input": "2022-11-18T18:55:23.638108Z",
          "iopub.status.idle": "2022-11-18T18:55:23.644207Z",
          "shell.execute_reply.started": "2022-11-18T18:55:23.638075Z",
          "shell.execute_reply": "2022-11-18T18:55:23.643114Z"
        },
        "trusted": true,
        "id": "XXpB7VWueoD9",
        "outputId": "bded012b-49bc-48c0-b78d-3f0a213cd45e",
        "colab": {
          "base_uri": "https://localhost:8080/"
        }
      },
      "execution_count": 73,
      "outputs": [
        {
          "output_type": "execute_result",
          "data": {
            "text/plain": [
              "34"
            ]
          },
          "metadata": {},
          "execution_count": 73
        }
      ]
    },
    {
      "cell_type": "code",
      "source": [
        "y_pred = pipe.predict(X_test)"
      ],
      "metadata": {
        "execution": {
          "iopub.status.busy": "2022-11-18T18:51:18.568682Z",
          "iopub.execute_input": "2022-11-18T18:51:18.571062Z",
          "iopub.status.idle": "2022-11-18T18:51:19.758276Z",
          "shell.execute_reply.started": "2022-11-18T18:51:18.571024Z",
          "shell.execute_reply": "2022-11-18T18:51:19.757356Z"
        },
        "trusted": true,
        "id": "3xFVUekyeoD9"
      },
      "execution_count": 74,
      "outputs": []
    },
    {
      "cell_type": "code",
      "source": [
        "print(classification_report(y_test, y_pred))"
      ],
      "metadata": {
        "execution": {
          "iopub.status.busy": "2022-11-18T18:52:31.080545Z",
          "iopub.execute_input": "2022-11-18T18:52:31.080922Z",
          "iopub.status.idle": "2022-11-18T18:52:31.104548Z",
          "shell.execute_reply.started": "2022-11-18T18:52:31.080889Z",
          "shell.execute_reply": "2022-11-18T18:52:31.103570Z"
        },
        "trusted": true,
        "id": "narLicR2eoD9",
        "outputId": "4acecf81-3802-4e51-c567-430a3eb12cd5",
        "colab": {
          "base_uri": "https://localhost:8080/"
        }
      },
      "execution_count": 75,
      "outputs": [
        {
          "output_type": "stream",
          "name": "stdout",
          "text": [
            "              precision    recall  f1-score   support\n",
            "\n",
            "           0       0.94      0.95      0.95     10969\n",
            "           1       0.13      0.10      0.11       750\n",
            "\n",
            "    accuracy                           0.90     11719\n",
            "   macro avg       0.53      0.53      0.53     11719\n",
            "weighted avg       0.89      0.90      0.89     11719\n",
            "\n"
          ]
        }
      ]
    },
    {
      "cell_type": "markdown",
      "source": [
        "Solutions posted on kaggle for this particular dataset are claiming a victory when the f1 score for target variable '0'(i.e. insurance claim is not filed in the next 6 months) is 95%, however they are ignoring 11% score of the target variable '1'(i.e. insurance claim is filed in the next 6 months).\n",
        "\n",
        "It is quite clear that this is not a victory, 11% accuracy for the target variable, which is actually the target variable of significance in our problem set, is bad.\n",
        "\n",
        "This is happening because of the severe imbalance in our dataset."
      ],
      "metadata": {
        "id": "5gvvbUseYT7X"
      }
    },
    {
      "cell_type": "code",
      "source": [
        "params = {\n",
        "    #'ensemble__lr__solver': ['newton-cg', 'lbfgs', 'liblinear'],\n",
        "    #'ensemble__lr__penalty': ['none', 'l1', 'l2', 'elasticnet'],\n",
        "    #'ensemble__lr__C': loguniform(1e-5, 100),\n",
        "    #'ensemble__xgb__learning_rate': [0.1],\n",
        "    #'ensemble__xgb__max_depth': [7, 10, 15, 20],\n",
        "    #'ensemble__xgb__min_child_weight': [10, 15, 20, 25],\n",
        "    #'ensemble__xgb__colsample_bytree': [0.8, 0.9, 1],\n",
        "    #'ensemble__xgb__n_estimators': [300, 400, 500, 600],\n",
        "    #'ensemble__xgb__reg_alpha': [0.5, 0.2, 1],\n",
        "    #'ensemble__xgb__reg_lambda': [2, 3, 5],\n",
        "    #'ensemble__xgb__gamma': [1, 2, 3],\n",
        "    #'ensemble__rf__max_depth': [7, 10, 15, 20],\n",
        "    #'ensemble__rf__min_samples_leaf': [1, 2, 4],\n",
        "    #'ensemble__rf__min_samples_split': [2, 5, 10],\n",
        "    'ensemble__rf__n_estimators': [300, 400, 500, 600],\n",
        "}\n",
        "\n",
        "##Running all the parameters will take a lot of time, \n",
        "## therefore I have reduced the hyperparameter search to only but a few hyperparameters."
      ],
      "metadata": {
        "execution": {
          "iopub.status.busy": "2022-11-18T16:48:35.594529Z",
          "iopub.execute_input": "2022-11-18T16:48:35.594947Z",
          "iopub.status.idle": "2022-11-18T16:48:35.606878Z",
          "shell.execute_reply.started": "2022-11-18T16:48:35.594912Z",
          "shell.execute_reply": "2022-11-18T16:48:35.602347Z"
        },
        "trusted": true,
        "id": "VplzYXP-eoD-"
      },
      "execution_count": 80,
      "outputs": []
    },
    {
      "cell_type": "code",
      "source": [
        "from sklearn.model_selection import  RandomizedSearchCV,GridSearchCV,RepeatedStratifiedKFold, cross_val_score"
      ],
      "metadata": {
        "execution": {
          "iopub.status.busy": "2022-11-18T19:19:13.105009Z",
          "iopub.execute_input": "2022-11-18T19:19:13.105360Z",
          "iopub.status.idle": "2022-11-18T19:19:13.111654Z",
          "shell.execute_reply.started": "2022-11-18T19:19:13.105330Z",
          "shell.execute_reply": "2022-11-18T19:19:13.110450Z"
        },
        "trusted": true,
        "id": "DVrbGDBceoD-"
      },
      "execution_count": 81,
      "outputs": []
    },
    {
      "cell_type": "code",
      "source": [
        "#rsf = RepeatedStratifiedKFold(random_state=42)\n",
        "clf = GridSearchCV(pipe, params,scoring='accuracy', verbose=2) ## can add cv = rsf as well, however it was taking a long time\n",
        "clf.fit(X_train, y_train)"
      ],
      "metadata": {
        "execution": {
          "iopub.status.busy": "2022-11-18T16:48:36.168259Z",
          "iopub.execute_input": "2022-11-18T16:48:36.169301Z",
          "iopub.status.idle": "2022-11-18T18:06:07.932230Z",
          "shell.execute_reply.started": "2022-11-18T16:48:36.169254Z",
          "shell.execute_reply": "2022-11-18T18:06:07.931296Z"
        },
        "trusted": true,
        "id": "xGAlOV5HeoD-",
        "outputId": "80cb0742-ddcf-49bb-8377-b01aba4464c4",
        "colab": {
          "base_uri": "https://localhost:8080/",
          "height": 716
        }
      },
      "execution_count": 83,
      "outputs": [
        {
          "output_type": "stream",
          "name": "stdout",
          "text": [
            "Fitting 5 folds for each of 4 candidates, totalling 20 fits\n",
            "[CV] END .....................ensemble__rf__n_estimators=300; total time= 1.4min\n",
            "[CV] END .....................ensemble__rf__n_estimators=300; total time= 1.4min\n",
            "[CV] END .....................ensemble__rf__n_estimators=300; total time= 1.4min\n",
            "[CV] END .....................ensemble__rf__n_estimators=300; total time= 1.5min\n",
            "[CV] END .....................ensemble__rf__n_estimators=300; total time= 1.2min\n",
            "[CV] END .....................ensemble__rf__n_estimators=400; total time= 1.2min\n",
            "[CV] END .....................ensemble__rf__n_estimators=400; total time= 1.2min\n",
            "[CV] END .....................ensemble__rf__n_estimators=400; total time= 1.3min\n",
            "[CV] END .....................ensemble__rf__n_estimators=400; total time= 1.3min\n",
            "[CV] END .....................ensemble__rf__n_estimators=400; total time= 1.3min\n",
            "[CV] END .....................ensemble__rf__n_estimators=500; total time= 1.5min\n",
            "[CV] END .....................ensemble__rf__n_estimators=500; total time= 1.5min\n",
            "[CV] END .....................ensemble__rf__n_estimators=500; total time= 1.6min\n",
            "[CV] END .....................ensemble__rf__n_estimators=500; total time= 1.7min\n",
            "[CV] END .....................ensemble__rf__n_estimators=500; total time= 1.5min\n",
            "[CV] END .....................ensemble__rf__n_estimators=600; total time= 2.0min\n",
            "[CV] END .....................ensemble__rf__n_estimators=600; total time= 2.0min\n",
            "[CV] END .....................ensemble__rf__n_estimators=600; total time= 1.8min\n",
            "[CV] END .....................ensemble__rf__n_estimators=600; total time= 1.9min\n",
            "[CV] END .....................ensemble__rf__n_estimators=600; total time= 1.9min\n"
          ]
        },
        {
          "output_type": "execute_result",
          "data": {
            "text/plain": [
              "GridSearchCV(estimator=Pipeline(steps=[('preprocessor',\n",
              "                                        ColumnTransformer(transformers=[('categorical',\n",
              "                                                                         Pipeline(steps=[('onehot',\n",
              "                                                                                          OneHotEncoder(drop='first',\n",
              "                                                                                                        handle_unknown='ignore')),\n",
              "                                                                                         ('imputation_most_frequent',\n",
              "                                                                                          SimpleImputer(strategy='most_frequent'))]),\n",
              "                                                                         Index(['area_cluster', 'segment', 'model', 'fuel_type', 'max_torque',\n",
              "       'max_power', 'engine_type', 'is_esc...\n",
              "                                        VotingClassifier(estimators=[('lr',\n",
              "                                                                      LogisticRegression(max_iter=400,\n",
              "                                                                                         warm_start=True)),\n",
              "                                                                     ('xgb',\n",
              "                                                                      XGBClassifier(max_depth=10,\n",
              "                                                                                    n_estimators=300,\n",
              "                                                                                    silent=True,\n",
              "                                                                                    tree_method='hist',\n",
              "                                                                                    verbosity=0)),\n",
              "                                                                     ('rf',\n",
              "                                                                      RandomForestClassifier(max_depth=10,\n",
              "                                                                                             n_estimators=300))],\n",
              "                                                         voting='soft'))]),\n",
              "             param_grid={'ensemble__rf__n_estimators': [300, 400, 500, 600]},\n",
              "             scoring='accuracy', verbose=2)"
            ],
            "text/html": [
              "<style>#sk-55224112-7044-4ca6-9e4f-b581365adbd2 {color: black;background-color: white;}#sk-55224112-7044-4ca6-9e4f-b581365adbd2 pre{padding: 0;}#sk-55224112-7044-4ca6-9e4f-b581365adbd2 div.sk-toggleable {background-color: white;}#sk-55224112-7044-4ca6-9e4f-b581365adbd2 label.sk-toggleable__label {cursor: pointer;display: block;width: 100%;margin-bottom: 0;padding: 0.3em;box-sizing: border-box;text-align: center;}#sk-55224112-7044-4ca6-9e4f-b581365adbd2 label.sk-toggleable__label-arrow:before {content: \"▸\";float: left;margin-right: 0.25em;color: #696969;}#sk-55224112-7044-4ca6-9e4f-b581365adbd2 label.sk-toggleable__label-arrow:hover:before {color: black;}#sk-55224112-7044-4ca6-9e4f-b581365adbd2 div.sk-estimator:hover label.sk-toggleable__label-arrow:before {color: black;}#sk-55224112-7044-4ca6-9e4f-b581365adbd2 div.sk-toggleable__content {max-height: 0;max-width: 0;overflow: hidden;text-align: left;background-color: #f0f8ff;}#sk-55224112-7044-4ca6-9e4f-b581365adbd2 div.sk-toggleable__content pre {margin: 0.2em;color: black;border-radius: 0.25em;background-color: #f0f8ff;}#sk-55224112-7044-4ca6-9e4f-b581365adbd2 input.sk-toggleable__control:checked~div.sk-toggleable__content {max-height: 200px;max-width: 100%;overflow: auto;}#sk-55224112-7044-4ca6-9e4f-b581365adbd2 input.sk-toggleable__control:checked~label.sk-toggleable__label-arrow:before {content: \"▾\";}#sk-55224112-7044-4ca6-9e4f-b581365adbd2 div.sk-estimator input.sk-toggleable__control:checked~label.sk-toggleable__label {background-color: #d4ebff;}#sk-55224112-7044-4ca6-9e4f-b581365adbd2 div.sk-label input.sk-toggleable__control:checked~label.sk-toggleable__label {background-color: #d4ebff;}#sk-55224112-7044-4ca6-9e4f-b581365adbd2 input.sk-hidden--visually {border: 0;clip: rect(1px 1px 1px 1px);clip: rect(1px, 1px, 1px, 1px);height: 1px;margin: -1px;overflow: hidden;padding: 0;position: absolute;width: 1px;}#sk-55224112-7044-4ca6-9e4f-b581365adbd2 div.sk-estimator {font-family: monospace;background-color: #f0f8ff;border: 1px dotted black;border-radius: 0.25em;box-sizing: border-box;margin-bottom: 0.5em;}#sk-55224112-7044-4ca6-9e4f-b581365adbd2 div.sk-estimator:hover {background-color: #d4ebff;}#sk-55224112-7044-4ca6-9e4f-b581365adbd2 div.sk-parallel-item::after {content: \"\";width: 100%;border-bottom: 1px solid gray;flex-grow: 1;}#sk-55224112-7044-4ca6-9e4f-b581365adbd2 div.sk-label:hover label.sk-toggleable__label {background-color: #d4ebff;}#sk-55224112-7044-4ca6-9e4f-b581365adbd2 div.sk-serial::before {content: \"\";position: absolute;border-left: 1px solid gray;box-sizing: border-box;top: 2em;bottom: 0;left: 50%;}#sk-55224112-7044-4ca6-9e4f-b581365adbd2 div.sk-serial {display: flex;flex-direction: column;align-items: center;background-color: white;padding-right: 0.2em;padding-left: 0.2em;}#sk-55224112-7044-4ca6-9e4f-b581365adbd2 div.sk-item {z-index: 1;}#sk-55224112-7044-4ca6-9e4f-b581365adbd2 div.sk-parallel {display: flex;align-items: stretch;justify-content: center;background-color: white;}#sk-55224112-7044-4ca6-9e4f-b581365adbd2 div.sk-parallel::before {content: \"\";position: absolute;border-left: 1px solid gray;box-sizing: border-box;top: 2em;bottom: 0;left: 50%;}#sk-55224112-7044-4ca6-9e4f-b581365adbd2 div.sk-parallel-item {display: flex;flex-direction: column;position: relative;background-color: white;}#sk-55224112-7044-4ca6-9e4f-b581365adbd2 div.sk-parallel-item:first-child::after {align-self: flex-end;width: 50%;}#sk-55224112-7044-4ca6-9e4f-b581365adbd2 div.sk-parallel-item:last-child::after {align-self: flex-start;width: 50%;}#sk-55224112-7044-4ca6-9e4f-b581365adbd2 div.sk-parallel-item:only-child::after {width: 0;}#sk-55224112-7044-4ca6-9e4f-b581365adbd2 div.sk-dashed-wrapped {border: 1px dashed gray;margin: 0 0.4em 0.5em 0.4em;box-sizing: border-box;padding-bottom: 0.4em;background-color: white;position: relative;}#sk-55224112-7044-4ca6-9e4f-b581365adbd2 div.sk-label label {font-family: monospace;font-weight: bold;background-color: white;display: inline-block;line-height: 1.2em;}#sk-55224112-7044-4ca6-9e4f-b581365adbd2 div.sk-label-container {position: relative;z-index: 2;text-align: center;}#sk-55224112-7044-4ca6-9e4f-b581365adbd2 div.sk-container {/* jupyter's `normalize.less` sets `[hidden] { display: none; }` but bootstrap.min.css set `[hidden] { display: none !important; }` so we also need the `!important` here to be able to override the default hidden behavior on the sphinx rendered scikit-learn.org. See: https://github.com/scikit-learn/scikit-learn/issues/21755 */display: inline-block !important;position: relative;}#sk-55224112-7044-4ca6-9e4f-b581365adbd2 div.sk-text-repr-fallback {display: none;}</style><div id=\"sk-55224112-7044-4ca6-9e4f-b581365adbd2\" class=\"sk-top-container\"><div class=\"sk-text-repr-fallback\"><pre>GridSearchCV(estimator=Pipeline(steps=[(&#x27;preprocessor&#x27;,\n",
              "                                        ColumnTransformer(transformers=[(&#x27;categorical&#x27;,\n",
              "                                                                         Pipeline(steps=[(&#x27;onehot&#x27;,\n",
              "                                                                                          OneHotEncoder(drop=&#x27;first&#x27;,\n",
              "                                                                                                        handle_unknown=&#x27;ignore&#x27;)),\n",
              "                                                                                         (&#x27;imputation_most_frequent&#x27;,\n",
              "                                                                                          SimpleImputer(strategy=&#x27;most_frequent&#x27;))]),\n",
              "                                                                         Index([&#x27;area_cluster&#x27;, &#x27;segment&#x27;, &#x27;model&#x27;, &#x27;fuel_type&#x27;, &#x27;max_torque&#x27;,\n",
              "       &#x27;max_power&#x27;, &#x27;engine_type&#x27;, &#x27;is_esc...\n",
              "                                        VotingClassifier(estimators=[(&#x27;lr&#x27;,\n",
              "                                                                      LogisticRegression(max_iter=400,\n",
              "                                                                                         warm_start=True)),\n",
              "                                                                     (&#x27;xgb&#x27;,\n",
              "                                                                      XGBClassifier(max_depth=10,\n",
              "                                                                                    n_estimators=300,\n",
              "                                                                                    silent=True,\n",
              "                                                                                    tree_method=&#x27;hist&#x27;,\n",
              "                                                                                    verbosity=0)),\n",
              "                                                                     (&#x27;rf&#x27;,\n",
              "                                                                      RandomForestClassifier(max_depth=10,\n",
              "                                                                                             n_estimators=300))],\n",
              "                                                         voting=&#x27;soft&#x27;))]),\n",
              "             param_grid={&#x27;ensemble__rf__n_estimators&#x27;: [300, 400, 500, 600]},\n",
              "             scoring=&#x27;accuracy&#x27;, verbose=2)</pre><b>Please rerun this cell to show the HTML repr or trust the notebook.</b></div><div class=\"sk-container\" hidden><div class=\"sk-item sk-dashed-wrapped\"><div class=\"sk-label-container\"><div class=\"sk-label sk-toggleable\"><input class=\"sk-toggleable__control sk-hidden--visually\" id=\"c5374ca8-b045-46c5-9afe-7a1ddd7ecfb0\" type=\"checkbox\" ><label for=\"c5374ca8-b045-46c5-9afe-7a1ddd7ecfb0\" class=\"sk-toggleable__label sk-toggleable__label-arrow\">GridSearchCV</label><div class=\"sk-toggleable__content\"><pre>GridSearchCV(estimator=Pipeline(steps=[(&#x27;preprocessor&#x27;,\n",
              "                                        ColumnTransformer(transformers=[(&#x27;categorical&#x27;,\n",
              "                                                                         Pipeline(steps=[(&#x27;onehot&#x27;,\n",
              "                                                                                          OneHotEncoder(drop=&#x27;first&#x27;,\n",
              "                                                                                                        handle_unknown=&#x27;ignore&#x27;)),\n",
              "                                                                                         (&#x27;imputation_most_frequent&#x27;,\n",
              "                                                                                          SimpleImputer(strategy=&#x27;most_frequent&#x27;))]),\n",
              "                                                                         Index([&#x27;area_cluster&#x27;, &#x27;segment&#x27;, &#x27;model&#x27;, &#x27;fuel_type&#x27;, &#x27;max_torque&#x27;,\n",
              "       &#x27;max_power&#x27;, &#x27;engine_type&#x27;, &#x27;is_esc...\n",
              "                                        VotingClassifier(estimators=[(&#x27;lr&#x27;,\n",
              "                                                                      LogisticRegression(max_iter=400,\n",
              "                                                                                         warm_start=True)),\n",
              "                                                                     (&#x27;xgb&#x27;,\n",
              "                                                                      XGBClassifier(max_depth=10,\n",
              "                                                                                    n_estimators=300,\n",
              "                                                                                    silent=True,\n",
              "                                                                                    tree_method=&#x27;hist&#x27;,\n",
              "                                                                                    verbosity=0)),\n",
              "                                                                     (&#x27;rf&#x27;,\n",
              "                                                                      RandomForestClassifier(max_depth=10,\n",
              "                                                                                             n_estimators=300))],\n",
              "                                                         voting=&#x27;soft&#x27;))]),\n",
              "             param_grid={&#x27;ensemble__rf__n_estimators&#x27;: [300, 400, 500, 600]},\n",
              "             scoring=&#x27;accuracy&#x27;, verbose=2)</pre></div></div></div><div class=\"sk-parallel\"><div class=\"sk-parallel-item\"><div class=\"sk-item\"><div class=\"sk-serial\"><div class=\"sk-item\"><div class=\"sk-serial\"><div class=\"sk-item sk-dashed-wrapped\"><div class=\"sk-label-container\"><div class=\"sk-label sk-toggleable\"><input class=\"sk-toggleable__control sk-hidden--visually\" id=\"825885db-36de-4ce8-ae7f-caffaeb477ea\" type=\"checkbox\" ><label for=\"825885db-36de-4ce8-ae7f-caffaeb477ea\" class=\"sk-toggleable__label sk-toggleable__label-arrow\">preprocessor: ColumnTransformer</label><div class=\"sk-toggleable__content\"><pre>ColumnTransformer(transformers=[(&#x27;categorical&#x27;,\n",
              "                                 Pipeline(steps=[(&#x27;onehot&#x27;,\n",
              "                                                  OneHotEncoder(drop=&#x27;first&#x27;,\n",
              "                                                                handle_unknown=&#x27;ignore&#x27;)),\n",
              "                                                 (&#x27;imputation_most_frequent&#x27;,\n",
              "                                                  SimpleImputer(strategy=&#x27;most_frequent&#x27;))]),\n",
              "                                 Index([&#x27;area_cluster&#x27;, &#x27;segment&#x27;, &#x27;model&#x27;, &#x27;fuel_type&#x27;, &#x27;max_torque&#x27;,\n",
              "       &#x27;max_power&#x27;, &#x27;engine_type&#x27;, &#x27;is_esc&#x27;, &#x27;is_adjustable_steering&#x27;,\n",
              "       &#x27;is_tpms&#x27;, &#x27;is_parking_sensor...\n",
              "                                (&#x27;numerical_discrete&#x27;,\n",
              "                                 Pipeline(steps=[(&#x27;imputation_mean&#x27;,\n",
              "                                                  SimpleImputer()),\n",
              "                                                 (&#x27;scaler&#x27;, MinMaxScaler())]),\n",
              "                                 [&#x27;make&#x27;, &#x27;airbags&#x27;, &#x27;ncap_rating&#x27;]),\n",
              "                                (&#x27;numerical_continuous&#x27;,\n",
              "                                 Pipeline(steps=[(&#x27;imputation_mean&#x27;,\n",
              "                                                  SimpleImputer()),\n",
              "                                                 (&#x27;scaler&#x27;, StandardScaler()),\n",
              "                                                 (&#x27;function_transform&#x27;,\n",
              "                                                  PowerTransformer())]),\n",
              "                                 [&#x27;policy_tenure&#x27;, &#x27;age_of_car&#x27;,\n",
              "                                  &#x27;age_of_policyholder&#x27;,\n",
              "                                  &#x27;population_density&#x27;])])</pre></div></div></div><div class=\"sk-parallel\"><div class=\"sk-parallel-item\"><div class=\"sk-item\"><div class=\"sk-label-container\"><div class=\"sk-label sk-toggleable\"><input class=\"sk-toggleable__control sk-hidden--visually\" id=\"2d154e9a-836e-4ed1-b3d4-388c5bc793c6\" type=\"checkbox\" ><label for=\"2d154e9a-836e-4ed1-b3d4-388c5bc793c6\" class=\"sk-toggleable__label sk-toggleable__label-arrow\">categorical</label><div class=\"sk-toggleable__content\"><pre>Index([&#x27;area_cluster&#x27;, &#x27;segment&#x27;, &#x27;model&#x27;, &#x27;fuel_type&#x27;, &#x27;max_torque&#x27;,\n",
              "       &#x27;max_power&#x27;, &#x27;engine_type&#x27;, &#x27;is_esc&#x27;, &#x27;is_adjustable_steering&#x27;,\n",
              "       &#x27;is_tpms&#x27;, &#x27;is_parking_sensors&#x27;, &#x27;is_parking_camera&#x27;,\n",
              "       &#x27;rear_brakes_type&#x27;, &#x27;transmission_type&#x27;, &#x27;steering_type&#x27;,\n",
              "       &#x27;is_front_fog_lights&#x27;, &#x27;is_rear_window_wiper&#x27;, &#x27;is_rear_window_washer&#x27;,\n",
              "       &#x27;is_rear_window_defogger&#x27;, &#x27;is_brake_assist&#x27;, &#x27;is_power_door_locks&#x27;,\n",
              "       &#x27;is_central_locking&#x27;, &#x27;is_power_steering&#x27;,\n",
              "       &#x27;is_driver_seat_height_adjustable&#x27;, &#x27;is_day_night_rear_view_mirror&#x27;,\n",
              "       &#x27;is_ecw&#x27;, &#x27;is_speed_alert&#x27;],\n",
              "      dtype=&#x27;object&#x27;)</pre></div></div></div><div class=\"sk-serial\"><div class=\"sk-item\"><div class=\"sk-serial\"><div class=\"sk-item\"><div class=\"sk-estimator sk-toggleable\"><input class=\"sk-toggleable__control sk-hidden--visually\" id=\"9d92ae9c-3eff-4bbd-959a-eee356b2abdb\" type=\"checkbox\" ><label for=\"9d92ae9c-3eff-4bbd-959a-eee356b2abdb\" class=\"sk-toggleable__label sk-toggleable__label-arrow\">OneHotEncoder</label><div class=\"sk-toggleable__content\"><pre>OneHotEncoder(drop=&#x27;first&#x27;, handle_unknown=&#x27;ignore&#x27;)</pre></div></div></div><div class=\"sk-item\"><div class=\"sk-estimator sk-toggleable\"><input class=\"sk-toggleable__control sk-hidden--visually\" id=\"c4db55b3-b575-4e9e-a4ae-5b59ee15da45\" type=\"checkbox\" ><label for=\"c4db55b3-b575-4e9e-a4ae-5b59ee15da45\" class=\"sk-toggleable__label sk-toggleable__label-arrow\">SimpleImputer</label><div class=\"sk-toggleable__content\"><pre>SimpleImputer(strategy=&#x27;most_frequent&#x27;)</pre></div></div></div></div></div></div></div></div><div class=\"sk-parallel-item\"><div class=\"sk-item\"><div class=\"sk-label-container\"><div class=\"sk-label sk-toggleable\"><input class=\"sk-toggleable__control sk-hidden--visually\" id=\"135facdc-d46d-42a9-a540-1e91374b2d9a\" type=\"checkbox\" ><label for=\"135facdc-d46d-42a9-a540-1e91374b2d9a\" class=\"sk-toggleable__label sk-toggleable__label-arrow\">numerical_discrete</label><div class=\"sk-toggleable__content\"><pre>[&#x27;make&#x27;, &#x27;airbags&#x27;, &#x27;ncap_rating&#x27;]</pre></div></div></div><div class=\"sk-serial\"><div class=\"sk-item\"><div class=\"sk-serial\"><div class=\"sk-item\"><div class=\"sk-estimator sk-toggleable\"><input class=\"sk-toggleable__control sk-hidden--visually\" id=\"83623045-b5f4-4526-8881-5b72ddaed8eb\" type=\"checkbox\" ><label for=\"83623045-b5f4-4526-8881-5b72ddaed8eb\" class=\"sk-toggleable__label sk-toggleable__label-arrow\">SimpleImputer</label><div class=\"sk-toggleable__content\"><pre>SimpleImputer()</pre></div></div></div><div class=\"sk-item\"><div class=\"sk-estimator sk-toggleable\"><input class=\"sk-toggleable__control sk-hidden--visually\" id=\"a01ee122-b3cd-4fe0-9f09-f365b65f51a6\" type=\"checkbox\" ><label for=\"a01ee122-b3cd-4fe0-9f09-f365b65f51a6\" class=\"sk-toggleable__label sk-toggleable__label-arrow\">MinMaxScaler</label><div class=\"sk-toggleable__content\"><pre>MinMaxScaler()</pre></div></div></div></div></div></div></div></div><div class=\"sk-parallel-item\"><div class=\"sk-item\"><div class=\"sk-label-container\"><div class=\"sk-label sk-toggleable\"><input class=\"sk-toggleable__control sk-hidden--visually\" id=\"198cf0a0-9a54-4589-8a1e-8d5c74ef81cf\" type=\"checkbox\" ><label for=\"198cf0a0-9a54-4589-8a1e-8d5c74ef81cf\" class=\"sk-toggleable__label sk-toggleable__label-arrow\">numerical_continuous</label><div class=\"sk-toggleable__content\"><pre>[&#x27;policy_tenure&#x27;, &#x27;age_of_car&#x27;, &#x27;age_of_policyholder&#x27;, &#x27;population_density&#x27;]</pre></div></div></div><div class=\"sk-serial\"><div class=\"sk-item\"><div class=\"sk-serial\"><div class=\"sk-item\"><div class=\"sk-estimator sk-toggleable\"><input class=\"sk-toggleable__control sk-hidden--visually\" id=\"772f75fe-a9a7-42bc-a50f-b3801daf12b8\" type=\"checkbox\" ><label for=\"772f75fe-a9a7-42bc-a50f-b3801daf12b8\" class=\"sk-toggleable__label sk-toggleable__label-arrow\">SimpleImputer</label><div class=\"sk-toggleable__content\"><pre>SimpleImputer()</pre></div></div></div><div class=\"sk-item\"><div class=\"sk-estimator sk-toggleable\"><input class=\"sk-toggleable__control sk-hidden--visually\" id=\"168688de-9a26-4f3e-ab89-614a2f01385f\" type=\"checkbox\" ><label for=\"168688de-9a26-4f3e-ab89-614a2f01385f\" class=\"sk-toggleable__label sk-toggleable__label-arrow\">StandardScaler</label><div class=\"sk-toggleable__content\"><pre>StandardScaler()</pre></div></div></div><div class=\"sk-item\"><div class=\"sk-estimator sk-toggleable\"><input class=\"sk-toggleable__control sk-hidden--visually\" id=\"c19a1a43-cfb8-4ed7-ad41-ffc1a1185ac1\" type=\"checkbox\" ><label for=\"c19a1a43-cfb8-4ed7-ad41-ffc1a1185ac1\" class=\"sk-toggleable__label sk-toggleable__label-arrow\">PowerTransformer</label><div class=\"sk-toggleable__content\"><pre>PowerTransformer()</pre></div></div></div></div></div></div></div></div></div></div><div class=\"sk-item\"><div class=\"sk-estimator sk-toggleable\"><input class=\"sk-toggleable__control sk-hidden--visually\" id=\"75d66605-8411-4b00-aeef-345d2a30ad20\" type=\"checkbox\" ><label for=\"75d66605-8411-4b00-aeef-345d2a30ad20\" class=\"sk-toggleable__label sk-toggleable__label-arrow\">SMOTE</label><div class=\"sk-toggleable__content\"><pre>SMOTE()</pre></div></div></div><div class=\"sk-item sk-dashed-wrapped\"><div class=\"sk-label-container\"><div class=\"sk-label sk-toggleable\"><input class=\"sk-toggleable__control sk-hidden--visually\" id=\"394d6b9d-180d-4bf2-990b-392613006599\" type=\"checkbox\" ><label for=\"394d6b9d-180d-4bf2-990b-392613006599\" class=\"sk-toggleable__label sk-toggleable__label-arrow\">ensemble: VotingClassifier</label><div class=\"sk-toggleable__content\"><pre>VotingClassifier(estimators=[(&#x27;lr&#x27;,\n",
              "                              LogisticRegression(max_iter=400,\n",
              "                                                 warm_start=True)),\n",
              "                             (&#x27;xgb&#x27;,\n",
              "                              XGBClassifier(max_depth=10, n_estimators=300,\n",
              "                                            silent=True, tree_method=&#x27;hist&#x27;,\n",
              "                                            verbosity=0)),\n",
              "                             (&#x27;rf&#x27;,\n",
              "                              RandomForestClassifier(max_depth=10,\n",
              "                                                     n_estimators=300))],\n",
              "                 voting=&#x27;soft&#x27;)</pre></div></div></div><div class=\"sk-parallel\"><div class=\"sk-parallel-item\"><div class=\"sk-item\"><div class=\"sk-label-container\"><div class=\"sk-label sk-toggleable\"><label>lr</label></div></div><div class=\"sk-serial\"><div class=\"sk-item\"><div class=\"sk-estimator sk-toggleable\"><input class=\"sk-toggleable__control sk-hidden--visually\" id=\"d706a11f-6e2b-4b41-b745-6ea1c5412c78\" type=\"checkbox\" ><label for=\"d706a11f-6e2b-4b41-b745-6ea1c5412c78\" class=\"sk-toggleable__label sk-toggleable__label-arrow\">LogisticRegression</label><div class=\"sk-toggleable__content\"><pre>LogisticRegression(max_iter=400, warm_start=True)</pre></div></div></div></div></div></div><div class=\"sk-parallel-item\"><div class=\"sk-item\"><div class=\"sk-label-container\"><div class=\"sk-label sk-toggleable\"><label>xgb</label></div></div><div class=\"sk-serial\"><div class=\"sk-item\"><div class=\"sk-estimator sk-toggleable\"><input class=\"sk-toggleable__control sk-hidden--visually\" id=\"146eea43-f20e-4892-a60e-da3547cbd493\" type=\"checkbox\" ><label for=\"146eea43-f20e-4892-a60e-da3547cbd493\" class=\"sk-toggleable__label sk-toggleable__label-arrow\">XGBClassifier</label><div class=\"sk-toggleable__content\"><pre>XGBClassifier(max_depth=10, n_estimators=300, silent=True, tree_method=&#x27;hist&#x27;,\n",
              "              verbosity=0)</pre></div></div></div></div></div></div><div class=\"sk-parallel-item\"><div class=\"sk-item\"><div class=\"sk-label-container\"><div class=\"sk-label sk-toggleable\"><label>rf</label></div></div><div class=\"sk-serial\"><div class=\"sk-item\"><div class=\"sk-estimator sk-toggleable\"><input class=\"sk-toggleable__control sk-hidden--visually\" id=\"3d3c426f-1d2b-4abd-9117-c04bfda9da40\" type=\"checkbox\" ><label for=\"3d3c426f-1d2b-4abd-9117-c04bfda9da40\" class=\"sk-toggleable__label sk-toggleable__label-arrow\">RandomForestClassifier</label><div class=\"sk-toggleable__content\"><pre>RandomForestClassifier(max_depth=10, n_estimators=300)</pre></div></div></div></div></div></div></div></div></div></div></div></div></div></div></div></div></div>"
            ]
          },
          "metadata": {},
          "execution_count": 83
        }
      ]
    },
    {
      "cell_type": "code",
      "source": [
        "print(\"Best Score: \", clf.best_score_)\n",
        "print(\"Best Params: \", clf.best_params_)"
      ],
      "metadata": {
        "execution": {
          "iopub.status.busy": "2022-11-18T18:43:49.209843Z",
          "iopub.execute_input": "2022-11-18T18:43:49.210188Z",
          "iopub.status.idle": "2022-11-18T18:43:49.216012Z",
          "shell.execute_reply.started": "2022-11-18T18:43:49.210158Z",
          "shell.execute_reply": "2022-11-18T18:43:49.214945Z"
        },
        "trusted": true,
        "id": "fMfa27CweoD-",
        "outputId": "b226ab80-2f82-4964-cc92-a039a4b5c610",
        "colab": {
          "base_uri": "https://localhost:8080/"
        }
      },
      "execution_count": 84,
      "outputs": [
        {
          "output_type": "stream",
          "name": "stdout",
          "text": [
            "Best Score:  0.9035691458644477\n",
            "Best Params:  {'ensemble__rf__n_estimators': 600}\n"
          ]
        }
      ]
    },
    {
      "cell_type": "code",
      "source": [
        "y_pred = clf.predict(X_test)"
      ],
      "metadata": {
        "execution": {
          "iopub.status.busy": "2022-11-18T18:43:52.712969Z",
          "iopub.execute_input": "2022-11-18T18:43:52.713311Z",
          "iopub.status.idle": "2022-11-18T18:43:53.338459Z",
          "shell.execute_reply.started": "2022-11-18T18:43:52.713280Z",
          "shell.execute_reply": "2022-11-18T18:43:53.337430Z"
        },
        "trusted": true,
        "id": "JsGJw_YHeoD-"
      },
      "execution_count": 85,
      "outputs": []
    },
    {
      "cell_type": "code",
      "source": [
        "print(classification_report(y_test, y_pred))"
      ],
      "metadata": {
        "execution": {
          "iopub.status.busy": "2022-11-18T18:45:39.930235Z",
          "iopub.execute_input": "2022-11-18T18:45:39.930887Z",
          "iopub.status.idle": "2022-11-18T18:45:39.954371Z",
          "shell.execute_reply.started": "2022-11-18T18:45:39.930851Z",
          "shell.execute_reply": "2022-11-18T18:45:39.953384Z"
        },
        "trusted": true,
        "id": "1fMG62UteoD-",
        "outputId": "03ff526c-35c2-44a1-fc2c-cde188e3bd3f",
        "colab": {
          "base_uri": "https://localhost:8080/"
        }
      },
      "execution_count": 86,
      "outputs": [
        {
          "output_type": "stream",
          "name": "stdout",
          "text": [
            "              precision    recall  f1-score   support\n",
            "\n",
            "           0       0.94      0.96      0.95     10969\n",
            "           1       0.14      0.10      0.11       750\n",
            "\n",
            "    accuracy                           0.90     11719\n",
            "   macro avg       0.54      0.53      0.53     11719\n",
            "weighted avg       0.89      0.90      0.90     11719\n",
            "\n"
          ]
        }
      ]
    },
    {
      "cell_type": "markdown",
      "source": [
        "No improvement in the accuracy of target variable '1'."
      ],
      "metadata": {
        "id": "DQejA2F5jL_Y"
      }
    },
    {
      "cell_type": "code",
      "source": [
        "x_train_ct= preprocessor.fit_transform(X_train,y_train)\n",
        "\n",
        "x_test_ct = preprocessor.transform(X_test)\n",
        "\n",
        "x_train_ct.shape"
      ],
      "metadata": {
        "id": "9nJ4gRoPeoD_",
        "colab": {
          "base_uri": "https://localhost:8080/"
        },
        "outputId": "6053d073-fcaa-48cc-a109-9caa380f3e69"
      },
      "execution_count": 87,
      "outputs": [
        {
          "output_type": "execute_result",
          "data": {
            "text/plain": [
              "(46873, 92)"
            ]
          },
          "metadata": {},
          "execution_count": 87
        }
      ]
    },
    {
      "cell_type": "markdown",
      "source": [
        "###Lets try SMOTE relatives for sythetic data creation"
      ],
      "metadata": {
        "id": "1Tgyj9qMjab7"
      }
    },
    {
      "cell_type": "code",
      "source": [
        "from imblearn.over_sampling import SMOTE,RandomOverSampler\n",
        "from imblearn.under_sampling import RandomUnderSampler\n",
        "\n",
        "over = RandomOverSampler(sampling_strategy=0.5)\n",
        "#under = RandomUnderSampler(sampling_strategy='majority')\n",
        "\n",
        "#steps = [('o', over), ('u', under)]\n",
        "#pipeline = pipeline_imb(steps=steps)\n",
        "\n",
        "x_train_smote, y_train_smote = over.fit_resample(x_train_ct,y_train)\n",
        "\n",
        "#y_train_smote.value_counts()\n",
        "\n",
        "vclf = VotingClassifier(estimators=[('lr', lr), ('xgb', xgb), ('rf', rf)], \n",
        "                             voting='soft')\n",
        "\n",
        "vclf.fit(x_train_smote,y_train_smote)\n",
        "\n",
        "y_pred = vclf.predict(x_test_ct)\n",
        "\n",
        "print(classification_report(y_test, y_pred))"
      ],
      "metadata": {
        "colab": {
          "base_uri": "https://localhost:8080/"
        },
        "id": "ZjKQyVeFNSm0",
        "outputId": "3a2bbd90-500a-4c5c-ae7b-fb14cd57e4a9"
      },
      "execution_count": 88,
      "outputs": [
        {
          "output_type": "stream",
          "name": "stdout",
          "text": [
            "              precision    recall  f1-score   support\n",
            "\n",
            "           0       0.94      0.99      0.96     10969\n",
            "           1       0.12      0.02      0.03       750\n",
            "\n",
            "    accuracy                           0.93     11719\n",
            "   macro avg       0.53      0.51      0.50     11719\n",
            "weighted avg       0.88      0.93      0.90     11719\n",
            "\n"
          ]
        }
      ]
    },
    {
      "cell_type": "code",
      "source": [
        "from imblearn.over_sampling import SMOTE,RandomOverSampler\n",
        "from imblearn.under_sampling import RandomUnderSampler\n",
        "\n",
        "#over = RandomOverSampler(sampling_strategy=0.5)\n",
        "under = RandomUnderSampler(sampling_strategy='majority')\n",
        "\n",
        "#steps = [('o', over), ('u', under)]\n",
        "#pipeline = pipeline_imb(steps=steps)\n",
        "\n",
        "x_train_smote, y_train_smote = under.fit_resample(x_train_ct,y_train)\n",
        "\n",
        "#y_train_smote.value_counts()\n",
        "\n",
        "vclf = VotingClassifier(estimators=[('lr', lr), ('xgb', xgb), ('rf', rf)], \n",
        "                             voting='soft')\n",
        "\n",
        "vclf.fit(x_train_smote,y_train_smote)\n",
        "\n",
        "y_pred = vclf.predict(x_test_ct)\n",
        "\n",
        "print(classification_report(y_test, y_pred))"
      ],
      "metadata": {
        "colab": {
          "base_uri": "https://localhost:8080/"
        },
        "id": "8znc8VnHNTWU",
        "outputId": "66dcf4f9-e858-49f7-f6c4-1668644699a6"
      },
      "execution_count": 89,
      "outputs": [
        {
          "output_type": "stream",
          "name": "stdout",
          "text": [
            "              precision    recall  f1-score   support\n",
            "\n",
            "           0       0.96      0.56      0.70     10969\n",
            "           1       0.09      0.63      0.16       750\n",
            "\n",
            "    accuracy                           0.56     11719\n",
            "   macro avg       0.52      0.59      0.43     11719\n",
            "weighted avg       0.90      0.56      0.67     11719\n",
            "\n"
          ]
        }
      ]
    },
    {
      "cell_type": "markdown",
      "source": [
        "The original paper on SMOTE suggested combining SMOTE with random undersampling of the majority class.\n",
        "\n",
        "The imbalanced-learn library supports random undersampling via the RandomUnderSampler class.\n",
        "\n",
        "We can update the example to first oversample the minority class to have 50 percent the number of examples of the majority class (e.g. about 5,000), then use random undersampling to reduce the number of examples in the majority class to have 50 percent more than the minority class (e.g. about 10,000)."
      ],
      "metadata": {
        "id": "HIV74H60kY5U"
      }
    },
    {
      "cell_type": "code",
      "source": [
        "from imblearn.over_sampling import SMOTE,RandomOverSampler\n",
        "from imblearn.under_sampling import RandomUnderSampler\n",
        "\n",
        "over = SMOTE(sampling_strategy=0.5)\n",
        "under = RandomUnderSampler(sampling_strategy=0.5)\n",
        "\n",
        "steps = [('o', over), ('u', under)]\n",
        "pipeline = pipeline_imb(steps=steps)\n",
        "\n",
        "x_train_smote, y_train_smote = pipeline.fit_resample(x_train_ct,y_train)\n",
        "\n",
        "#y_train_smote.value_counts()\n",
        "\n",
        "vclf = VotingClassifier(estimators=[('lr', lr), ('xgb', xgb), ('rf', rf)], \n",
        "                             voting='soft')\n",
        "\n",
        "vclf.fit(x_train_smote,y_train_smote)\n",
        "\n",
        "y_pred = vclf.predict(x_test_ct)\n",
        "\n",
        "print(classification_report(y_test, y_pred))"
      ],
      "metadata": {
        "colab": {
          "base_uri": "https://localhost:8080/"
        },
        "id": "VXIqEuP9NM_Y",
        "outputId": "864a71f0-61f6-4b70-e97a-3534086a91f1"
      },
      "execution_count": 91,
      "outputs": [
        {
          "output_type": "stream",
          "name": "stdout",
          "text": [
            "              precision    recall  f1-score   support\n",
            "\n",
            "           0       0.94      1.00      0.97     10969\n",
            "           1       0.08      0.00      0.00       750\n",
            "\n",
            "    accuracy                           0.94     11719\n",
            "   macro avg       0.51      0.50      0.48     11719\n",
            "weighted avg       0.88      0.94      0.90     11719\n",
            "\n"
          ]
        }
      ]
    },
    {
      "cell_type": "code",
      "source": [
        "y_train_smote.value_counts()"
      ],
      "metadata": {
        "colab": {
          "base_uri": "https://localhost:8080/"
        },
        "id": "VWewUVVHlM-W",
        "outputId": "cf5bd0a2-5f9a-4387-b370-4f64dcb396d6"
      },
      "execution_count": 93,
      "outputs": [
        {
          "output_type": "execute_result",
          "data": {
            "text/plain": [
              "0    43874\n",
              "1    21937\n",
              "Name: is_claim, dtype: int64"
            ]
          },
          "metadata": {},
          "execution_count": 93
        }
      ]
    },
    {
      "cell_type": "markdown",
      "source": [
        "There is still no improvement."
      ],
      "metadata": {
        "id": "I4PqiMISk4Gv"
      }
    },
    {
      "cell_type": "markdown",
      "source": [
        "Lets try ADASYN technique"
      ],
      "metadata": {
        "id": "1OagJOvKk7wy"
      }
    },
    {
      "cell_type": "code",
      "source": [
        "from imblearn.over_sampling import ADASYN\n",
        "#from imblearn.under_sampling import RandomUnderSampler\n",
        "\n",
        "over2 = ADASYN(sampling_strategy=0.5)\n",
        "#under = RandomUnderSampler(sampling_strategy=0.5)\n",
        "\n",
        "#steps = [('o', over), ('u', under)]\n",
        "#pipeline = pipeline_imb(steps=steps)\n",
        "\n",
        "x_train_smote, y_train_smote = over2.fit_resample(x_train_ct,y_train)\n",
        "\n",
        "#y_train_smote.value_counts()\n",
        "\n",
        "vclf = VotingClassifier(estimators=[('lr', lr), ('xgb', xgb), ('rf', rf)], \n",
        "                             voting='soft')\n",
        "\n",
        "vclf.fit(x_train_smote,y_train_smote)\n",
        "\n",
        "y_pred = vclf.predict(x_test_ct)\n",
        "\n",
        "print(classification_report(y_test, y_pred))"
      ],
      "metadata": {
        "colab": {
          "base_uri": "https://localhost:8080/"
        },
        "id": "iL9v94eiNcGJ",
        "outputId": "9b1dbd45-f392-4090-cf81-331efe6c8396"
      },
      "execution_count": 94,
      "outputs": [
        {
          "output_type": "stream",
          "name": "stdout",
          "text": [
            "              precision    recall  f1-score   support\n",
            "\n",
            "           0       0.94      1.00      0.97     10969\n",
            "           1       0.33      0.00      0.01       750\n",
            "\n",
            "    accuracy                           0.94     11719\n",
            "   macro avg       0.63      0.50      0.49     11719\n",
            "weighted avg       0.90      0.94      0.91     11719\n",
            "\n"
          ]
        }
      ]
    },
    {
      "cell_type": "markdown",
      "source": [
        "Lets try SMOTETomek"
      ],
      "metadata": {
        "id": "BXh00ELlk_Cx"
      }
    },
    {
      "cell_type": "code",
      "source": [
        "from imblearn.combine import SMOTETomek\n",
        "from imblearn.under_sampling import RandomUnderSampler\n",
        "\n",
        "over3 = SMOTETomek()\n",
        "#under = RandomUnderSampler(sampling_strategy=0.5)\n",
        "\n",
        "#steps = [('o', over), ('u', under)]\n",
        "#pipeline = pipeline_imb(steps=steps)\n",
        "\n",
        "x_train_smote, y_train_smote = over3.fit_resample(x_train_ct,y_train)\n",
        "\n",
        "#y_train_smote.value_counts()\n",
        "\n",
        "vclf = VotingClassifier(estimators=[('lr', lr), ('xgb', xgb), ('rf', rf)], \n",
        "                             voting='soft')\n",
        "\n",
        "vclf.fit(x_train_smote,y_train_smote)\n",
        "\n",
        "y_pred = vclf.predict(x_test_ct)\n",
        "\n",
        "print(classification_report(y_test, y_pred))"
      ],
      "metadata": {
        "colab": {
          "base_uri": "https://localhost:8080/"
        },
        "id": "npk--axhNip0",
        "outputId": "ab6a62cc-bc83-49d6-94cb-8d5913377569"
      },
      "execution_count": 95,
      "outputs": [
        {
          "output_type": "stream",
          "name": "stdout",
          "text": [
            "              precision    recall  f1-score   support\n",
            "\n",
            "           0       0.94      0.95      0.95     10969\n",
            "           1       0.13      0.10      0.11       750\n",
            "\n",
            "    accuracy                           0.90     11719\n",
            "   macro avg       0.53      0.53      0.53     11719\n",
            "weighted avg       0.89      0.90      0.89     11719\n",
            "\n"
          ]
        }
      ]
    },
    {
      "cell_type": "markdown",
      "source": [
        "#Conclusion\n",
        "\n",
        "Domain expertise will be required for feature engineering and feature selection, only then can we work with SMOTE in this severely imbalanced dataset. This is because SMOTE works on K-nearest neighbours to manufacture synthetic data. Since KNN has a hard time operating in a high dimensional space, SMOTE will not work unless we reduce the feature space by a large degree. Until this is done, it is not quite possible to work with such a dataset."
      ],
      "metadata": {
        "id": "CLIuoRNscCad"
      }
    }
  ]
}